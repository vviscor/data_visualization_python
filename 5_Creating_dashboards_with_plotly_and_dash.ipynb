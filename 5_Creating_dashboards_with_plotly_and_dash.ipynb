{
 "cells": [
  {
   "cell_type": "markdown",
   "metadata": {},
   "source": [
    "# Notebook 5: Creating your first dashboard with Plotly and Dash\n"
   ]
  },
  {
   "cell_type": "markdown",
   "metadata": {},
   "source": [
    "The objectives of this notebook are the following:\n",
    "\n",
    "- Understand dashboards\n",
    "- Creating your first dashboard"
   ]
  },
  {
   "cell_type": "markdown",
   "metadata": {},
   "source": [
    "Here you have a link where all the information about Dash is available: https://dash.plotly.com/. Please refer to this link if you want any additional information."
   ]
  },
  {
   "cell_type": "markdown",
   "metadata": {},
   "source": [
    "Dash is basically a python framework for the creation of web applications."
   ]
  },
  {
   "cell_type": "markdown",
   "metadata": {},
   "source": [
    "# Part 0: Installation and setup"
   ]
  },
  {
   "cell_type": "markdown",
   "metadata": {},
   "source": [
    "Let's first import dash and the libraries that we will use. Make sure that you have them downloaded and installed in the right environment!\n",
    "\n",
    "These commands should help you install them in case you haven't installed them yet:\n",
    "\n",
    "```\n",
    "conda install -c conda-forge dash\n",
    "conda install -c conda-forge jupyter-dash\n",
    "conda install -c conda-forge dash-core-components\n",
    "conda install -c conda-forge dash-html-components\n",
    "conda install -c conda-forge dash-table\n",
    "conda install -c conda-forge dash-bootstrap-components\n",
    "```"
   ]
  },
  {
   "cell_type": "markdown",
   "metadata": {},
   "source": [
    "Once you have installed all the above, you should be able to import the following:"
   ]
  },
  {
   "cell_type": "code",
   "execution_count": 34,
   "metadata": {},
   "outputs": [],
   "source": [
    "import dash\n",
    "from dash import dcc\n",
    "from dash import html\n",
    "from dash import dash_table\n",
    "import dash_bootstrap_components as dbc\n",
    "from jupyter_dash import JupyterDash"
   ]
  },
  {
   "cell_type": "markdown",
   "metadata": {},
   "source": [
    "# Part I: Creating our first Dashboard with Dash, python and Plotly"
   ]
  },
  {
   "cell_type": "markdown",
   "metadata": {},
   "source": [
    "Great! If you run the above cell without running into errors, then you have all the required libraries installed. Now let's create our first simple Dashboard"
   ]
  },
  {
   "cell_type": "code",
   "execution_count": 35,
   "metadata": {},
   "outputs": [],
   "source": [
    "app = JupyterDash('Creating our first Dash!', external_stylesheets=[dbc.themes.BOOTSTRAP])"
   ]
  },
  {
   "cell_type": "markdown",
   "metadata": {},
   "source": [
    "We are going to use the `html` module from `dash`, which is a bridge between the commonly used and known html programming language and dash.\n",
    "\n",
    "We will use only simple features to arrange the elements on the page. We wil create simple elements, using a python dictionary containing all the parameters (data -> \"x\", \"y\", \"type\", \"name\").  "
   ]
  },
  {
   "cell_type": "code",
   "execution_count": 36,
   "metadata": {},
   "outputs": [],
   "source": [
    "app.layout = html.Div(children=[\n",
    "  html.H1(children='Creating our first Dashboard with python and plotly'),\n",
    "  dcc.Graph(id='example',\n",
    "    figure={\n",
    "      'data': [\n",
    "        {'x': [1, 2], \n",
    "         'y': [1, 5],\n",
    "         'type': 'line',\n",
    "         'name': 'First line'},\n",
    "        {'x': [1, 2], \n",
    "         'y': [3, 2],\n",
    "         'type': 'bar',\n",
    "         'name': 'First bars'},\n",
    "        ],\n",
    "      'layout': {\n",
    "      'title': 'Creating our first Dash!'\n",
    "        }\n",
    "      })\n",
    "  ])"
   ]
  },
  {
   "cell_type": "code",
   "execution_count": 37,
   "metadata": {},
   "outputs": [
    {
     "data": {
      "text/html": [
       "\n",
       "        <iframe\n",
       "            width=\"100%\"\n",
       "            height=\"650\"\n",
       "            src=\"http://127.0.0.1:8051/\"\n",
       "            frameborder=\"0\"\n",
       "            allowfullscreen\n",
       "        ></iframe>\n",
       "        "
      ],
      "text/plain": [
       "<IPython.lib.display.IFrame at 0x1a0522370>"
      ]
     },
     "metadata": {},
     "output_type": "display_data"
    }
   ],
   "source": [
    "app.run_server(mode='inline', host = '127.0.0.1', port=8051, debug=True)"
   ]
  },
  {
   "cell_type": "markdown",
   "metadata": {},
   "source": [
    "Great! Now we have our first Dash! We could also run this through another server and see it on another port. Let's try it:"
   ]
  },
  {
   "cell_type": "code",
   "execution_count": 39,
   "metadata": {},
   "outputs": [
    {
     "name": "stdout",
     "output_type": "stream",
     "text": [
      "Dash app running on http://127.0.0.1:8051/\n"
     ]
    }
   ],
   "source": [
    "app.run_server(mode='external', host = '127.0.0.1', port=8051, debug=True)"
   ]
  },
  {
   "cell_type": "markdown",
   "metadata": {},
   "source": [
    "Nice! That was very simple."
   ]
  },
  {
   "cell_type": "markdown",
   "metadata": {},
   "source": [
    "Now that we know the most basic way of making a dashboard, it's time to dive into Dashboards, and try to understand what it is used for. Dashboards and multi-chart displays that are used for monitoring and analysis."
   ]
  },
  {
   "cell_type": "markdown",
   "metadata": {},
   "source": [
    "One way to define Dashboard is as follows:\n",
    "\n",
    "**A dashboard is a visual display of the most important information needed to achieve one or more objectives; consolidated and arranged on a single screen so the information can be monitored at a glance.**\n",
    "\n",
    "[Source](https://www.perceptualedge.com/articles/visual_business_intelligence/dboard_confusion_revisited.pdf)"
   ]
  },
  {
   "cell_type": "markdown",
   "metadata": {},
   "source": [
    "So, dashboards help us create a single screen that can give us information to monitor a process, or to analyze data. One important thing to remark from this same source is that:\n",
    "\n",
    "**“The greatest clarification that is needed today is a distinction between dashboards, which are used for monitoring what’s going on, and displays that combine several charts on a screen for the purpose of analysis.”**"
   ]
  },
  {
   "cell_type": "markdown",
   "metadata": {},
   "source": [
    "Thus, we need to remark the importance of distincting between a monitoring tool, and a display of faceted analytical display. Let's develop a little further what faceted analytical display is:\n",
    "\n",
    "**A “faceted analytical display” is a set of charts (primarily graphs and tables) that simultaneously reside on a single screen, each of which presents a somewhat different view of a common dataset, and is used to analyze that information.**"
   ]
  },
  {
   "cell_type": "markdown",
   "metadata": {},
   "source": [
    "So, now that we have a grasp of what Dashboard means, we can elaborate more complex displays or Dashboards. "
   ]
  },
  {
   "cell_type": "markdown",
   "metadata": {},
   "source": [
    "# Part II: Risk analysis Dashboard"
   ]
  },
  {
   "cell_type": "markdown",
   "metadata": {},
   "source": [
    "Now let's create a more useful Dashboard. When we create a Dashboard, we always need to answer some basic questions such as:\n",
    "\n",
    "- What data do we want to display in our dashboard?\n",
    "- Who will use this dashboard?\n",
    "- Will it be used by different people?\n",
    "- What will it be used for?\n",
    "- What are the key features in our dashboard?\n",
    "- What useful comparisons should we show?\n",
    "- etc...\n",
    "\n",
    "So, first of all, we need to have a goal or aim with our dashboard. Once we know what we want to show, who will use it, and how do we want to display the information, we can start building the pieces of our Dashboard.\n",
    "\n",
    "In this part, we will go back into the Cryptocurrencies data, and try to build a risk indicator, that should help us with our investments. Disclaimer: This is no financial advise, we are building this for the purpose of teaching how to build effective Dashboards. Use this results at your own risk in case of investment."
   ]
  },
  {
   "cell_type": "markdown",
   "metadata": {},
   "source": [
    "So first, let's load the data that we want to display, and plot it using `matplotlib` and `pandas` as this help us see what information we want to display in an easy and fast way."
   ]
  },
  {
   "cell_type": "code",
   "execution_count": 40,
   "metadata": {},
   "outputs": [
    {
     "data": {
      "text/html": [
       "<div>\n",
       "<style scoped>\n",
       "    .dataframe tbody tr th:only-of-type {\n",
       "        vertical-align: middle;\n",
       "    }\n",
       "\n",
       "    .dataframe tbody tr th {\n",
       "        vertical-align: top;\n",
       "    }\n",
       "\n",
       "    .dataframe thead th {\n",
       "        text-align: right;\n",
       "    }\n",
       "</style>\n",
       "<table border=\"1\" class=\"dataframe\">\n",
       "  <thead>\n",
       "    <tr style=\"text-align: right;\">\n",
       "      <th></th>\n",
       "      <th>unix</th>\n",
       "      <th>low</th>\n",
       "      <th>high</th>\n",
       "      <th>open</th>\n",
       "      <th>close</th>\n",
       "      <th>volume</th>\n",
       "      <th>datetime</th>\n",
       "      <th>vol_fiat</th>\n",
       "    </tr>\n",
       "  </thead>\n",
       "  <tbody>\n",
       "    <tr>\n",
       "      <th>0</th>\n",
       "      <td>1635292800</td>\n",
       "      <td>3403.00</td>\n",
       "      <td>3711.54</td>\n",
       "      <td>3563.48</td>\n",
       "      <td>3486.97</td>\n",
       "      <td>9560.585886</td>\n",
       "      <td>2021-10-27</td>\n",
       "      <td>3.333748e+07</td>\n",
       "    </tr>\n",
       "    <tr>\n",
       "      <th>1</th>\n",
       "      <td>1635206400</td>\n",
       "      <td>3529.19</td>\n",
       "      <td>3703.00</td>\n",
       "      <td>3637.88</td>\n",
       "      <td>3562.33</td>\n",
       "      <td>12463.609770</td>\n",
       "      <td>2021-10-26</td>\n",
       "      <td>4.439949e+07</td>\n",
       "    </tr>\n",
       "  </tbody>\n",
       "</table>\n",
       "</div>"
      ],
      "text/plain": [
       "         unix      low     high     open    close        volume   datetime  \\\n",
       "0  1635292800  3403.00  3711.54  3563.48  3486.97   9560.585886 2021-10-27   \n",
       "1  1635206400  3529.19  3703.00  3637.88  3562.33  12463.609770 2021-10-26   \n",
       "\n",
       "       vol_fiat  \n",
       "0  3.333748e+07  \n",
       "1  4.439949e+07  "
      ]
     },
     "execution_count": 40,
     "metadata": {},
     "output_type": "execute_result"
    }
   ],
   "source": [
    "from pandas import read_csv, to_datetime\n",
    "\n",
    "df = read_csv('data/external/Coinbase_ETHEUR_dailydata.csv', parse_dates=['datetime'])\n",
    "df.head(2)"
   ]
  },
  {
   "cell_type": "markdown",
   "metadata": {},
   "source": [
    "Great, now we have the basic data, we have the low, high, open, close, and volume prices of Ethereum that we used in notebook 1. Since we are using time series data, we can use the \"datetime\" variable as the index of our dataframe:"
   ]
  },
  {
   "cell_type": "code",
   "execution_count": 41,
   "metadata": {},
   "outputs": [],
   "source": [
    "df = df.set_index('datetime').sort_index()"
   ]
  },
  {
   "cell_type": "code",
   "execution_count": 42,
   "metadata": {},
   "outputs": [
    {
     "data": {
      "text/html": [
       "<div>\n",
       "<style scoped>\n",
       "    .dataframe tbody tr th:only-of-type {\n",
       "        vertical-align: middle;\n",
       "    }\n",
       "\n",
       "    .dataframe tbody tr th {\n",
       "        vertical-align: top;\n",
       "    }\n",
       "\n",
       "    .dataframe thead th {\n",
       "        text-align: right;\n",
       "    }\n",
       "</style>\n",
       "<table border=\"1\" class=\"dataframe\">\n",
       "  <thead>\n",
       "    <tr style=\"text-align: right;\">\n",
       "      <th></th>\n",
       "      <th>unix</th>\n",
       "      <th>low</th>\n",
       "      <th>high</th>\n",
       "      <th>open</th>\n",
       "      <th>close</th>\n",
       "      <th>volume</th>\n",
       "      <th>vol_fiat</th>\n",
       "    </tr>\n",
       "    <tr>\n",
       "      <th>datetime</th>\n",
       "      <th></th>\n",
       "      <th></th>\n",
       "      <th></th>\n",
       "      <th></th>\n",
       "      <th></th>\n",
       "      <th></th>\n",
       "      <th></th>\n",
       "    </tr>\n",
       "  </thead>\n",
       "  <tbody>\n",
       "    <tr>\n",
       "      <th>2021-01-01</th>\n",
       "      <td>1609459200</td>\n",
       "      <td>588.79</td>\n",
       "      <td>613.00</td>\n",
       "      <td>603.49</td>\n",
       "      <td>598.6</td>\n",
       "      <td>24750.686307</td>\n",
       "      <td>1.481576e+07</td>\n",
       "    </tr>\n",
       "    <tr>\n",
       "      <th>2021-01-02</th>\n",
       "      <td>1609545600</td>\n",
       "      <td>557.30</td>\n",
       "      <td>639.75</td>\n",
       "      <td>598.48</td>\n",
       "      <td>623.2</td>\n",
       "      <td>69697.273446</td>\n",
       "      <td>4.343534e+07</td>\n",
       "    </tr>\n",
       "  </tbody>\n",
       "</table>\n",
       "</div>"
      ],
      "text/plain": [
       "                  unix     low    high    open  close        volume  \\\n",
       "datetime                                                              \n",
       "2021-01-01  1609459200  588.79  613.00  603.49  598.6  24750.686307   \n",
       "2021-01-02  1609545600  557.30  639.75  598.48  623.2  69697.273446   \n",
       "\n",
       "                vol_fiat  \n",
       "datetime                  \n",
       "2021-01-01  1.481576e+07  \n",
       "2021-01-02  4.343534e+07  "
      ]
     },
     "execution_count": 42,
     "metadata": {},
     "output_type": "execute_result"
    }
   ],
   "source": [
    "df.head(2)"
   ]
  },
  {
   "cell_type": "code",
   "execution_count": 43,
   "metadata": {},
   "outputs": [
    {
     "data": {
      "image/png": "[encoded data removed]",
      "text/plain": [
       "<Figure size 864x288 with 1 Axes>"
      ]
     },
     "metadata": {
      "needs_background": "light"
     },
     "output_type": "display_data"
    }
   ],
   "source": [
    "import matplotlib.pyplot as plt\n",
    "\n",
    "df.close.plot(figsize=(12, 4))\n",
    "plt.grid(True, alpha=.2)\n",
    "plt.show()"
   ]
  },
  {
   "cell_type": "markdown",
   "metadata": {},
   "source": [
    "So, first, we want to create useful and informative variables to show them in our dashboard. For this purpose, we create two variables. First, the \"vol_fiat\" variable, which is basically the product of the daily volume times the closing price, which is a proxy of the actual..."
   ]
  },
  {
   "cell_type": "code",
   "execution_count": 44,
   "metadata": {},
   "outputs": [],
   "source": [
    "df['vol_fiat'] = df['volume'] * df['close'] # multiply the ETH volume by closing price to approximate fiat volume"
   ]
  },
  {
   "cell_type": "code",
   "execution_count": 45,
   "metadata": {},
   "outputs": [
    {
     "data": {
      "image/png": "[encoded data removed]",
      "text/plain": [
       "<Figure size 864x288 with 1 Axes>"
      ]
     },
     "metadata": {
      "needs_background": "light"
     },
     "output_type": "display_data"
    }
   ],
   "source": [
    "df.vol_fiat.plot(figsize=(12, 4))\n",
    "plt.grid(True, alpha=.2)\n",
    "plt.show()"
   ]
  },
  {
   "cell_type": "markdown",
   "metadata": {},
   "source": [
    "Next, we will create another variable that shows our own risk indicator, that is the ratio between the average price of the lat 30 days compared to the last 90 days. This gives a proxy of how much the prices has increased in the last month compared to the last month, showing when the price have grown too much, and is likely to correct over the next periods."
   ]
  },
  {
   "cell_type": "code",
   "execution_count": 46,
   "metadata": {},
   "outputs": [],
   "source": [
    "df['risk_indicator'] = df['close'].rolling(window=30).mean().fillna(method='bfill') /\\\n",
    "                       df['close'].rolling(window=90).mean().fillna(method='bfill')"
   ]
  },
  {
   "cell_type": "code",
   "execution_count": 47,
   "metadata": {},
   "outputs": [
    {
     "data": {
      "text/plain": [
       "count    300.000000\n",
       "mean       1.060449\n",
       "std        0.175850\n",
       "min        0.767577\n",
       "25%        0.896631\n",
       "50%        1.098080\n",
       "75%        1.189032\n",
       "max        1.364560\n",
       "Name: risk_indicator, dtype: float64"
      ]
     },
     "execution_count": 47,
     "metadata": {},
     "output_type": "execute_result"
    }
   ],
   "source": [
    "df.risk_indicator.describe()"
   ]
  },
  {
   "cell_type": "markdown",
   "metadata": {},
   "source": [
    "This variable is not normalized, in the sense that it ranges from 0.76 to 1.36. To make it more interpretable, we will normalize using a standarization, assuming that it follows a normal distribution. This variable is as follows:"
   ]
  },
  {
   "cell_type": "code",
   "execution_count": 48,
   "metadata": {},
   "outputs": [],
   "source": [
    "df['risk_indicator_normalized'] = (df['risk_indicator'] - df['risk_indicator'].mean()) / df['risk_indicator'].std()"
   ]
  },
  {
   "cell_type": "code",
   "execution_count": 49,
   "metadata": {},
   "outputs": [
    {
     "data": {
      "text/plain": [
       "count    3.000000e+02\n",
       "mean     9.237056e-16\n",
       "std      1.000000e+00\n",
       "min     -1.665460e+00\n",
       "25%     -9.315766e-01\n",
       "50%      2.139947e-01\n",
       "75%      7.312080e-01\n",
       "max      1.729381e+00\n",
       "Name: risk_indicator_normalized, dtype: float64"
      ]
     },
     "execution_count": 49,
     "metadata": {},
     "output_type": "execute_result"
    }
   ],
   "source": [
    "df.risk_indicator_normalized.describe()"
   ]
  },
  {
   "cell_type": "markdown",
   "metadata": {},
   "source": [
    "Now we have a variable that ranges between -1.6 and 1.7. Let's make a scatterplot using as colors the risk that we just created:"
   ]
  },
  {
   "cell_type": "code",
   "execution_count": 50,
   "metadata": {},
   "outputs": [
    {
     "data": {
      "image/png": "[encoded data removed]",
      "text/plain": [
       "<Figure size 864x288 with 2 Axes>"
      ]
     },
     "metadata": {
      "needs_background": "light"
     },
     "output_type": "display_data"
    }
   ],
   "source": [
    "import matplotlib.pyplot as plt\n",
    "\n",
    "fig, ax = plt.subplots(figsize=(12, 4))\n",
    "plt.scatter(df.index, df.close, c=df.risk_indicator_normalized, cmap='RdBu_r', vmin=-1, vmax=1)\n",
    "plt.colorbar()\n",
    "plt.grid(True, alpha=.2)\n",
    "plt.show()"
   ]
  },
  {
   "cell_type": "markdown",
   "metadata": {},
   "source": [
    "In this time scatter plot we have each dot representing a day (X-axis), the Y-axis indicates the average closing price of Ethereum, and the color indicates the \"risk\" that we calculated previously, where blue colors indicate that the price has remained stable in the last month compared to the last three months, whereas red colors indicate that the price is less stable."
   ]
  },
  {
   "cell_type": "markdown",
   "metadata": {},
   "source": [
    "Now that we know what we want to plot, we will create this same chart in `plotly.express`."
   ]
  },
  {
   "cell_type": "code",
   "execution_count": 51,
   "metadata": {},
   "outputs": [],
   "source": [
    "import plotly.express as px"
   ]
  },
  {
   "cell_type": "code",
   "execution_count": 52,
   "metadata": {},
   "outputs": [
    {
     "data": {
      "application/vnd.plotly.v1+json": {
       "config": {
        "plotlyServerURL": "https://plot.ly"
       },
       "data": [
        {
         "hovertemplate": "datetime=%{x}<br>close=%{y}<br>risk_indicator_normalized=%{marker.color}<extra></extra>",
         "legendgroup": "",
         "marker": {
          "color": [
           -1.665460251647229,
           -1.665460251647229,
           -1.665460251647229,
           -1.665460251647229,
           -1.665460251647229,
           -1.665460251647229,
           -1.665460251647229,
           -1.665460251647229,
           -1.665460251647229,
           -1.665460251647229,
           -1.665460251647229,
           -1.665460251647229,
           -1.665460251647229,
           -1.665460251647229,
           -1.665460251647229,
           -1.665460251647229,
           -1.665460251647229,
           -1.665460251647229,
           -1.665460251647229,
           -1.665460251647229,
           -1.665460251647229,
           -1.665460251647229,
           -1.665460251647229,
           -1.665460251647229,
           -1.665460251647229,
           -1.665460251647229,
           -1.665460251647229,
           -1.665460251647229,
           -1.665460251647229,
           -1.665460251647229,
           -1.5935125018290761,
           -1.517133595795297,
           -1.4436742140908774,
           -1.3643579998231927,
           -1.2992511252864232,
           -1.232889003487234,
           -1.1733084772876128,
           -1.121994502717013,
           -1.0601643125925355,
           -0.9948188373364634,
           -0.9135478755609482,
           -0.8228766382417135,
           -0.734978208039349,
           -0.6619589779724002,
           -0.5844270821273302,
           -0.5175981328338524,
           -0.4504046134972152,
           -0.37688743410302705,
           -0.30604673234275864,
           -0.23520158460635437,
           -0.13538942035133683,
           -0.0486365700000342,
           0.018001202319591195,
           0.04062084690792578,
           0.07729274007036602,
           0.09166658091831534,
           0.11731097127123034,
           0.13440574951446235,
           0.1401025269368267,
           0.1651570844556884,
           0.18716614832133444,
           0.21157011133228304,
           0.21641918930470205,
           0.20133399227497983,
           0.20867874485178448,
           0.21135522248570612,
           0.23299823431614747,
           0.26727671032533107,
           0.2752987332668677,
           0.28517621024919454,
           0.2908418658386073,
           0.30609600996149944,
           0.30963945294195705,
           0.3097920981226295,
           0.313599335687159,
           0.3216198766366484,
           0.32442973355465327,
           0.3223430887547861,
           0.30964538091013816,
           0.29297148840778825,
           0.2670973892878435,
           0.2390477258453083,
           0.22093481906691512,
           0.22855374017211183,
           0.2443443654154258,
           0.27852502994961686,
           0.3128272178315263,
           0.36134467341253396,
           0.41991448103721696,
           0.4690499273011377,
           0.4735119214399415,
           0.4819571691983304,
           0.49105409233524394,
           0.5101167879594388,
           0.5184204239265957,
           0.5222312830151137,
           0.5023247630771669,
           0.48659342740402844,
           0.481440719454735,
           0.4769725508472659,
           0.4740619211288999,
           0.45547135759151114,
           0.45566466237178643,
           0.4741141318633856,
           0.49468230656291895,
           0.5102993178947528,
           0.5235843559792183,
           0.527884531718838,
           0.5305695295229877,
           0.5470369086651276,
           0.5653661641862165,
           0.5915201187653822,
           0.6232275792826832,
           0.6504730299272438,
           0.6694209905173775,
           0.7017897105475145,
           0.7396457116431235,
           0.7713497551899604,
           0.8015386286026764,
           0.8255794773557218,
           0.8523498914772273,
           0.8645667590040185,
           0.9209531383674439,
           0.9665207580061937,
           1.0222609517626462,
           1.0790926804009335,
           1.145835905357114,
           1.220626213312965,
           1.3005148487029328,
           1.3749812542885438,
           1.4563461618298896,
           1.52277413180457,
           1.5709694296023111,
           1.6227699869651684,
           1.645149968879937,
           1.6706852423533554,
           1.690226707855743,
           1.7232397193328093,
           1.7257930148024714,
           1.7293810015252205,
           1.7148497012794286,
           1.6911748654297658,
           1.6560179920392801,
           1.6502369382533841,
           1.6399505146149782,
           1.6164148193886834,
           1.5753567024979478,
           1.5153676036821788,
           1.4475432353351187,
           1.3871800199581334,
           1.324738098379935,
           1.2625386270299694,
           1.166445572819022,
           1.0921664897105297,
           0.9938973279559592,
           0.8996563820232749,
           0.8153522936970782,
           0.6952725085491218,
           0.5686692713042183,
           0.4460450072611702,
           0.29898708286950965,
           0.17519007437543796,
           0.06030578725790868,
           -0.07439716842853351,
           -0.1722741507922931,
           -0.26575291610559015,
           -0.34521235803590666,
           -0.4279531875597421,
           -0.449430833402134,
           -0.49857203132893213,
           -0.5220264549882802,
           -0.5540253865261989,
           -0.5736634443933716,
           -0.628267336791547,
           -0.6822206489709759,
           -0.7591196121415043,
           -0.8251754028167251,
           -0.856835733488374,
           -0.8727533059375273,
           -0.8899498728967501,
           -0.922095018374709,
           -0.9541363095020058,
           -0.9920435224603283,
           -1.036838004263365,
           -1.063858185356767,
           -1.0933054838812704,
           -1.1244571399586312,
           -1.1444980749799891,
           -1.1697000355307787,
           -1.199336667259813,
           -1.2206995197633344,
           -1.2333841685427063,
           -1.2498133914100669,
           -1.2775555492575794,
           -1.3063259355138035,
           -1.33826364088613,
           -1.3632980901410636,
           -1.3907462012965754,
           -1.4110686197987181,
           -1.4271984012880425,
           -1.449984627263958,
           -1.433038235836935,
           -1.4143512681919646,
           -1.3999592869754869,
           -1.3816215728194585,
           -1.3454644591134286,
           -1.306073899748036,
           -1.2724221362960637,
           -1.2465827613561258,
           -1.2223429710249372,
           -1.199011517990923,
           -1.1592572520257134,
           -1.1108138481962708,
           -1.0687073702526106,
           -1.0328767007756217,
           -0.9759570054688677,
           -0.9240567058899254,
           -0.8580593102470656,
           -0.76038140442728,
           -0.6708587695355431,
           -0.5641259044627382,
           -0.4675967708010165,
           -0.36424405043293356,
           -0.25124299549077733,
           -0.13928503385897886,
           -0.026202460856972237,
           0.08437596226667454,
           0.18740959156670928,
           0.25900025155021156,
           0.3455259115436084,
           0.43305535870937795,
           0.5041223049849722,
           0.5630861688097548,
           0.6305980146889419,
           0.6974777877346946,
           0.7623204091326562,
           0.822475281236245,
           0.8609302763262957,
           0.9034612522819606,
           0.941786408866025,
           0.9818516990518213,
           1.0145850987654355,
           1.0562228161418958,
           1.1160379378254361,
           1.175053943137155,
           1.2213882697558225,
           1.2598755028614204,
           1.2908776683966396,
           1.2990038839318712,
           1.3000890830645682,
           1.2888419541376739,
           1.2725224860306081,
           1.2472174125088917,
           1.236464694986299,
           1.2153661392835071,
           1.1921729910195733,
           1.1679301672685025,
           1.1625842384906975,
           1.1606664727611005,
           1.1501582832459238,
           1.1311734902546864,
           1.091016191971446,
           1.0409862647576495,
           0.9842790011698098,
           0.9366869589083893,
           0.8975806899586257,
           0.8471828576067182,
           0.8097538405741239,
           0.7693426765482231,
           0.7283954768658081,
           0.6872946672408589,
           0.6445690440873735,
           0.5965474036652677,
           0.5375001171629437,
           0.48779283000574736,
           0.42714627364162866,
           0.37230736218931143,
           0.3197750903813858,
           0.26627667036042035,
           0.2450961221813619,
           0.21796436739543623,
           0.1970873019764207,
           0.1808971925603788,
           0.16475545247559534,
           0.13969813332909886,
           0.12455307670216603,
           0.10667821093290207,
           0.0817290553421924,
           0.05664861179390773,
           0.04097366058598363,
           0.01898041707393325,
           0.01272935096309093,
           0.038565477362181,
           0.07487258860009993,
           0.08991476068712224,
           0.10885406798774082,
           0.13732067687277855,
           0.17273985862293068,
           0.19674811729245745,
           0.22593967372076046
          ],
          "coloraxis": "coloraxis",
          "symbol": "circle"
         },
         "mode": "markers",
         "name": "",
         "orientation": "v",
         "showlegend": false,
         "type": "scatter",
         "x": [
          "2021-01-01T00:00:00",
          "2021-01-02T00:00:00",
          "2021-01-03T00:00:00",
          "2021-01-04T00:00:00",
          "2021-01-05T00:00:00",
          "2021-01-06T00:00:00",
          "2021-01-07T00:00:00",
          "2021-01-08T00:00:00",
          "2021-01-09T00:00:00",
          "2021-01-10T00:00:00",
          "2021-01-11T00:00:00",
          "2021-01-12T00:00:00",
          "2021-01-13T00:00:00",
          "2021-01-14T00:00:00",
          "2021-01-15T00:00:00",
          "2021-01-16T00:00:00",
          "2021-01-17T00:00:00",
          "2021-01-18T00:00:00",
          "2021-01-19T00:00:00",
          "2021-01-20T00:00:00",
          "2021-01-21T00:00:00",
          "2021-01-22T00:00:00",
          "2021-01-23T00:00:00",
          "2021-01-24T00:00:00",
          "2021-01-25T00:00:00",
          "2021-01-26T00:00:00",
          "2021-01-27T00:00:00",
          "2021-01-28T00:00:00",
          "2021-01-29T00:00:00",
          "2021-01-30T00:00:00",
          "2021-01-31T00:00:00",
          "2021-02-01T00:00:00",
          "2021-02-02T00:00:00",
          "2021-02-03T00:00:00",
          "2021-02-04T00:00:00",
          "2021-02-05T00:00:00",
          "2021-02-06T00:00:00",
          "2021-02-07T00:00:00",
          "2021-02-08T00:00:00",
          "2021-02-09T00:00:00",
          "2021-02-10T00:00:00",
          "2021-02-11T00:00:00",
          "2021-02-12T00:00:00",
          "2021-02-13T00:00:00",
          "2021-02-14T00:00:00",
          "2021-02-15T00:00:00",
          "2021-02-16T00:00:00",
          "2021-02-17T00:00:00",
          "2021-02-18T00:00:00",
          "2021-02-19T00:00:00",
          "2021-02-20T00:00:00",
          "2021-02-21T00:00:00",
          "2021-02-22T00:00:00",
          "2021-02-23T00:00:00",
          "2021-02-24T00:00:00",
          "2021-02-25T00:00:00",
          "2021-02-26T00:00:00",
          "2021-02-27T00:00:00",
          "2021-02-28T00:00:00",
          "2021-03-01T00:00:00",
          "2021-03-02T00:00:00",
          "2021-03-03T00:00:00",
          "2021-03-04T00:00:00",
          "2021-03-05T00:00:00",
          "2021-03-06T00:00:00",
          "2021-03-07T00:00:00",
          "2021-03-08T00:00:00",
          "2021-03-09T00:00:00",
          "2021-03-10T00:00:00",
          "2021-03-11T00:00:00",
          "2021-03-12T00:00:00",
          "2021-03-13T00:00:00",
          "2021-03-14T00:00:00",
          "2021-03-15T00:00:00",
          "2021-03-16T00:00:00",
          "2021-03-17T00:00:00",
          "2021-03-18T00:00:00",
          "2021-03-19T00:00:00",
          "2021-03-20T00:00:00",
          "2021-03-21T00:00:00",
          "2021-03-22T00:00:00",
          "2021-03-23T00:00:00",
          "2021-03-24T00:00:00",
          "2021-03-25T00:00:00",
          "2021-03-26T00:00:00",
          "2021-03-27T00:00:00",
          "2021-03-28T00:00:00",
          "2021-03-29T00:00:00",
          "2021-03-30T00:00:00",
          "2021-03-31T00:00:00",
          "2021-04-01T00:00:00",
          "2021-04-02T00:00:00",
          "2021-04-03T00:00:00",
          "2021-04-04T00:00:00",
          "2021-04-05T00:00:00",
          "2021-04-06T00:00:00",
          "2021-04-07T00:00:00",
          "2021-04-08T00:00:00",
          "2021-04-09T00:00:00",
          "2021-04-10T00:00:00",
          "2021-04-11T00:00:00",
          "2021-04-12T00:00:00",
          "2021-04-13T00:00:00",
          "2021-04-14T00:00:00",
          "2021-04-15T00:00:00",
          "2021-04-16T00:00:00",
          "2021-04-17T00:00:00",
          "2021-04-18T00:00:00",
          "2021-04-19T00:00:00",
          "2021-04-20T00:00:00",
          "2021-04-21T00:00:00",
          "2021-04-22T00:00:00",
          "2021-04-23T00:00:00",
          "2021-04-24T00:00:00",
          "2021-04-25T00:00:00",
          "2021-04-26T00:00:00",
          "2021-04-27T00:00:00",
          "2021-04-28T00:00:00",
          "2021-04-29T00:00:00",
          "2021-04-30T00:00:00",
          "2021-05-01T00:00:00",
          "2021-05-02T00:00:00",
          "2021-05-03T00:00:00",
          "2021-05-04T00:00:00",
          "2021-05-05T00:00:00",
          "2021-05-06T00:00:00",
          "2021-05-07T00:00:00",
          "2021-05-08T00:00:00",
          "2021-05-09T00:00:00",
          "2021-05-10T00:00:00",
          "2021-05-11T00:00:00",
          "2021-05-12T00:00:00",
          "2021-05-13T00:00:00",
          "2021-05-14T00:00:00",
          "2021-05-15T00:00:00",
          "2021-05-16T00:00:00",
          "2021-05-17T00:00:00",
          "2021-05-18T00:00:00",
          "2021-05-19T00:00:00",
          "2021-05-20T00:00:00",
          "2021-05-21T00:00:00",
          "2021-05-22T00:00:00",
          "2021-05-23T00:00:00",
          "2021-05-24T00:00:00",
          "2021-05-25T00:00:00",
          "2021-05-26T00:00:00",
          "2021-05-27T00:00:00",
          "2021-05-28T00:00:00",
          "2021-05-29T00:00:00",
          "2021-05-30T00:00:00",
          "2021-05-31T00:00:00",
          "2021-06-01T00:00:00",
          "2021-06-02T00:00:00",
          "2021-06-03T00:00:00",
          "2021-06-04T00:00:00",
          "2021-06-05T00:00:00",
          "2021-06-06T00:00:00",
          "2021-06-07T00:00:00",
          "2021-06-08T00:00:00",
          "2021-06-09T00:00:00",
          "2021-06-10T00:00:00",
          "2021-06-11T00:00:00",
          "2021-06-12T00:00:00",
          "2021-06-13T00:00:00",
          "2021-06-14T00:00:00",
          "2021-06-15T00:00:00",
          "2021-06-16T00:00:00",
          "2021-06-17T00:00:00",
          "2021-06-18T00:00:00",
          "2021-06-19T00:00:00",
          "2021-06-20T00:00:00",
          "2021-06-21T00:00:00",
          "2021-06-22T00:00:00",
          "2021-06-23T00:00:00",
          "2021-06-24T00:00:00",
          "2021-06-25T00:00:00",
          "2021-06-26T00:00:00",
          "2021-06-27T00:00:00",
          "2021-06-28T00:00:00",
          "2021-06-29T00:00:00",
          "2021-06-30T00:00:00",
          "2021-07-01T00:00:00",
          "2021-07-02T00:00:00",
          "2021-07-03T00:00:00",
          "2021-07-04T00:00:00",
          "2021-07-05T00:00:00",
          "2021-07-06T00:00:00",
          "2021-07-07T00:00:00",
          "2021-07-08T00:00:00",
          "2021-07-09T00:00:00",
          "2021-07-10T00:00:00",
          "2021-07-11T00:00:00",
          "2021-07-12T00:00:00",
          "2021-07-13T00:00:00",
          "2021-07-14T00:00:00",
          "2021-07-15T00:00:00",
          "2021-07-16T00:00:00",
          "2021-07-17T00:00:00",
          "2021-07-18T00:00:00",
          "2021-07-19T00:00:00",
          "2021-07-20T00:00:00",
          "2021-07-21T00:00:00",
          "2021-07-22T00:00:00",
          "2021-07-23T00:00:00",
          "2021-07-24T00:00:00",
          "2021-07-25T00:00:00",
          "2021-07-26T00:00:00",
          "2021-07-27T00:00:00",
          "2021-07-28T00:00:00",
          "2021-07-29T00:00:00",
          "2021-07-30T00:00:00",
          "2021-07-31T00:00:00",
          "2021-08-01T00:00:00",
          "2021-08-02T00:00:00",
          "2021-08-03T00:00:00",
          "2021-08-04T00:00:00",
          "2021-08-05T00:00:00",
          "2021-08-06T00:00:00",
          "2021-08-07T00:00:00",
          "2021-08-08T00:00:00",
          "2021-08-09T00:00:00",
          "2021-08-10T00:00:00",
          "2021-08-11T00:00:00",
          "2021-08-12T00:00:00",
          "2021-08-13T00:00:00",
          "2021-08-14T00:00:00",
          "2021-08-15T00:00:00",
          "2021-08-16T00:00:00",
          "2021-08-17T00:00:00",
          "2021-08-18T00:00:00",
          "2021-08-19T00:00:00",
          "2021-08-20T00:00:00",
          "2021-08-21T00:00:00",
          "2021-08-22T00:00:00",
          "2021-08-23T00:00:00",
          "2021-08-24T00:00:00",
          "2021-08-25T00:00:00",
          "2021-08-26T00:00:00",
          "2021-08-27T00:00:00",
          "2021-08-28T00:00:00",
          "2021-08-29T00:00:00",
          "2021-08-30T00:00:00",
          "2021-08-31T00:00:00",
          "2021-09-01T00:00:00",
          "2021-09-02T00:00:00",
          "2021-09-03T00:00:00",
          "2021-09-04T00:00:00",
          "2021-09-05T00:00:00",
          "2021-09-06T00:00:00",
          "2021-09-07T00:00:00",
          "2021-09-08T00:00:00",
          "2021-09-09T00:00:00",
          "2021-09-10T00:00:00",
          "2021-09-11T00:00:00",
          "2021-09-12T00:00:00",
          "2021-09-13T00:00:00",
          "2021-09-14T00:00:00",
          "2021-09-15T00:00:00",
          "2021-09-16T00:00:00",
          "2021-09-17T00:00:00",
          "2021-09-18T00:00:00",
          "2021-09-19T00:00:00",
          "2021-09-20T00:00:00",
          "2021-09-21T00:00:00",
          "2021-09-22T00:00:00",
          "2021-09-23T00:00:00",
          "2021-09-24T00:00:00",
          "2021-09-25T00:00:00",
          "2021-09-26T00:00:00",
          "2021-09-27T00:00:00",
          "2021-09-28T00:00:00",
          "2021-09-29T00:00:00",
          "2021-09-30T00:00:00",
          "2021-10-01T00:00:00",
          "2021-10-02T00:00:00",
          "2021-10-03T00:00:00",
          "2021-10-04T00:00:00",
          "2021-10-05T00:00:00",
          "2021-10-06T00:00:00",
          "2021-10-07T00:00:00",
          "2021-10-08T00:00:00",
          "2021-10-09T00:00:00",
          "2021-10-10T00:00:00",
          "2021-10-11T00:00:00",
          "2021-10-12T00:00:00",
          "2021-10-13T00:00:00",
          "2021-10-14T00:00:00",
          "2021-10-15T00:00:00",
          "2021-10-16T00:00:00",
          "2021-10-17T00:00:00",
          "2021-10-18T00:00:00",
          "2021-10-19T00:00:00",
          "2021-10-20T00:00:00",
          "2021-10-21T00:00:00",
          "2021-10-22T00:00:00",
          "2021-10-23T00:00:00",
          "2021-10-24T00:00:00",
          "2021-10-25T00:00:00",
          "2021-10-26T00:00:00",
          "2021-10-27T00:00:00"
         ],
         "xaxis": "x",
         "y": [
          598.6,
          623.2,
          759.24,
          849.49,
          896.35,
          980.88,
          997.38,
          994.25,
          1036.16,
          1020.46,
          889.98,
          860.33,
          929.15,
          1011.69,
          968,
          1016.96,
          1019.78,
          1040.83,
          1127.47,
          1136.47,
          913.5,
          1014.52,
          1013.62,
          1144.99,
          1087.95,
          1125.17,
          1026.83,
          1097.7,
          1136.32,
          1136.03,
          1084.08,
          1138.58,
          1254.92,
          1384.69,
          1335.67,
          1428.67,
          1399.41,
          1340.5,
          1453.37,
          1461.39,
          1438.37,
          1472.15,
          1522.26,
          1504.4,
          1491.16,
          1467.9,
          1473.18,
          1536.9,
          1605.48,
          1614.51,
          1587,
          1599.9,
          1463.27,
          1297.62,
          1335.4,
          1222.16,
          1199.87,
          1213.05,
          1174.76,
          1305.09,
          1232.59,
          1303.25,
          1287.64,
          1282.9,
          1385.23,
          1446.73,
          1545.45,
          1571.8,
          1507.5,
          1528.04,
          1476.6,
          1575.08,
          1546.17,
          1505.43,
          1516.85,
          1522.02,
          1492.14,
          1522.82,
          1519.8,
          1502,
          1412.41,
          1410.63,
          1341.05,
          1349.03,
          1441.95,
          1452.8,
          1431.33,
          1540.43,
          1569.97,
          1636.64,
          1671.87,
          1816.16,
          1715.95,
          1766.82,
          1784.03,
          1780.82,
          1656.86,
          1747.36,
          1738.71,
          1788.94,
          1803.94,
          1794.18,
          1926.95,
          2031.09,
          2106.1,
          2027.32,
          1951,
          1877.37,
          1798.63,
          1939.16,
          1959.99,
          1998,
          1962.08,
          1837.53,
          1920.99,
          2097.58,
          2207.21,
          2265.86,
          2275.53,
          2307.66,
          2446.11,
          2449.53,
          2846.77,
          2700.35,
          2928.81,
          2891.38,
          2869.23,
          3217.17,
          3228.12,
          3250.94,
          3439.21,
          3173.37,
          3080.01,
          3362.83,
          3004.66,
          2944.38,
          2699.35,
          2764.44,
          2006.67,
          2276.29,
          2001.2,
          1889.08,
          1721.9,
          2172.81,
          2208.49,
          2370.93,
          2252.18,
          1982.93,
          1874.15,
          1959.77,
          2211.38,
          2156.58,
          2218.5,
          2354.5,
          2214.74,
          2167.07,
          2231.11,
          2132.63,
          2061.8,
          2143.12,
          2031.01,
          1945.46,
          1961.13,
          2071.62,
          2130.18,
          2099.99,
          1973.21,
          1993.67,
          1885.5,
          1830.93,
          1892.19,
          1583.65,
          1575,
          1651.23,
          1668.7,
          1520,
          1534.67,
          1659.98,
          1746.95,
          1819.45,
          1920.1,
          1781.32,
          1816.61,
          1876.22,
          1957.15,
          1851.6,
          1963.87,
          1966.23,
          1787.22,
          1809.79,
          1779.59,
          1802.65,
          1713.16,
          1647.56,
          1685.35,
          1625.91,
          1589.96,
          1609.49,
          1602.1,
          1540.98,
          1515.57,
          1692.14,
          1719.57,
          1803.73,
          1857.31,
          1861,
          1888,
          1948.1,
          1942.31,
          2004.44,
          2074.86,
          2132.88,
          2154.72,
          2194.83,
          2113.48,
          2302.03,
          2387.94,
          2456.05,
          2680.03,
          2564.8,
          2693.52,
          2680.3,
          2693.7,
          2598.41,
          2812.67,
          2768.26,
          2803.99,
          2673.07,
          2572.44,
          2576.86,
          2725.96,
          2806.27,
          2754.88,
          2768.81,
          2830.44,
          2700.12,
          2743.3,
          2632.08,
          2777.58,
          2752.06,
          2735.02,
          2737.13,
          2904.95,
          3233.62,
          3190,
          3314.01,
          3270.18,
          3320.85,
          3309.78,
          2904.56,
          2962.16,
          2896.78,
          2720.4,
          2768.48,
          2882.68,
          2781.31,
          2910.75,
          3057.72,
          3033.1,
          2899.48,
          2931.28,
          2839.84,
          2539.52,
          2359.62,
          2635.37,
          2687.24,
          2502.58,
          2496.98,
          2612.32,
          2504.4,
          2402.26,
          2457.02,
          2592.44,
          2851.63,
          2915.71,
          2941.75,
          2913.24,
          3031.03,
          3087.62,
          3099.32,
          3077.23,
          3086.78,
          2955.23,
          3065.46,
          3027.87,
          3109.74,
          3269,
          3327.9,
          3283.04,
          3308.24,
          3226.9,
          3331.45,
          3567.61,
          3486.74,
          3412.06,
          3585.01,
          3508.04,
          3636.57,
          3562.33,
          3486.97
         ],
         "yaxis": "y"
        }
       ],
       "layout": {
        "coloraxis": {
         "colorbar": {
          "title": {
           "text": "risk_indicator_normalized"
          }
         },
         "colorscale": [
          [
           0,
           "rgb(5,48,97)"
          ],
          [
           0.1,
           "rgb(33,102,172)"
          ],
          [
           0.2,
           "rgb(67,147,195)"
          ],
          [
           0.3,
           "rgb(146,197,222)"
          ],
          [
           0.4,
           "rgb(209,229,240)"
          ],
          [
           0.5,
           "rgb(247,247,247)"
          ],
          [
           0.6,
           "rgb(253,219,199)"
          ],
          [
           0.7,
           "rgb(244,165,130)"
          ],
          [
           0.8,
           "rgb(214,96,77)"
          ],
          [
           0.9,
           "rgb(178,24,43)"
          ],
          [
           1,
           "rgb(103,0,31)"
          ]
         ]
        },
        "legend": {
         "tracegroupgap": 0
        },
        "margin": {
         "t": 60
        },
        "template": {
         "data": {
          "bar": [
           {
            "error_x": {
             "color": "#2a3f5f"
            },
            "error_y": {
             "color": "#2a3f5f"
            },
            "marker": {
             "line": {
              "color": "#E5ECF6",
              "width": 0.5
             },
             "pattern": {
              "fillmode": "overlay",
              "size": 10,
              "solidity": 0.2
             }
            },
            "type": "bar"
           }
          ],
          "barpolar": [
           {
            "marker": {
             "line": {
              "color": "#E5ECF6",
              "width": 0.5
             },
             "pattern": {
              "fillmode": "overlay",
              "size": 10,
              "solidity": 0.2
             }
            },
            "type": "barpolar"
           }
          ],
          "carpet": [
           {
            "aaxis": {
             "endlinecolor": "#2a3f5f",
             "gridcolor": "white",
             "linecolor": "white",
             "minorgridcolor": "white",
             "startlinecolor": "#2a3f5f"
            },
            "baxis": {
             "endlinecolor": "#2a3f5f",
             "gridcolor": "white",
             "linecolor": "white",
             "minorgridcolor": "white",
             "startlinecolor": "#2a3f5f"
            },
            "type": "carpet"
           }
          ],
          "choropleth": [
           {
            "colorbar": {
             "outlinewidth": 0,
             "ticks": ""
            },
            "type": "choropleth"
           }
          ],
          "contour": [
           {
            "colorbar": {
             "outlinewidth": 0,
             "ticks": ""
            },
            "colorscale": [
             [
              0,
              "#0d0887"
             ],
             [
              0.1111111111111111,
              "#46039f"
             ],
             [
              0.2222222222222222,
              "#7201a8"
             ],
             [
              0.3333333333333333,
              "#9c179e"
             ],
             [
              0.4444444444444444,
              "#bd3786"
             ],
             [
              0.5555555555555556,
              "#d8576b"
             ],
             [
              0.6666666666666666,
              "#ed7953"
             ],
             [
              0.7777777777777778,
              "#fb9f3a"
             ],
             [
              0.8888888888888888,
              "#fdca26"
             ],
             [
              1,
              "#f0f921"
             ]
            ],
            "type": "contour"
           }
          ],
          "contourcarpet": [
           {
            "colorbar": {
             "outlinewidth": 0,
             "ticks": ""
            },
            "type": "contourcarpet"
           }
          ],
          "heatmap": [
           {
            "colorbar": {
             "outlinewidth": 0,
             "ticks": ""
            },
            "colorscale": [
             [
              0,
              "#0d0887"
             ],
             [
              0.1111111111111111,
              "#46039f"
             ],
             [
              0.2222222222222222,
              "#7201a8"
             ],
             [
              0.3333333333333333,
              "#9c179e"
             ],
             [
              0.4444444444444444,
              "#bd3786"
             ],
             [
              0.5555555555555556,
              "#d8576b"
             ],
             [
              0.6666666666666666,
              "#ed7953"
             ],
             [
              0.7777777777777778,
              "#fb9f3a"
             ],
             [
              0.8888888888888888,
              "#fdca26"
             ],
             [
              1,
              "#f0f921"
             ]
            ],
            "type": "heatmap"
           }
          ],
          "heatmapgl": [
           {
            "colorbar": {
             "outlinewidth": 0,
             "ticks": ""
            },
            "colorscale": [
             [
              0,
              "#0d0887"
             ],
             [
              0.1111111111111111,
              "#46039f"
             ],
             [
              0.2222222222222222,
              "#7201a8"
             ],
             [
              0.3333333333333333,
              "#9c179e"
             ],
             [
              0.4444444444444444,
              "#bd3786"
             ],
             [
              0.5555555555555556,
              "#d8576b"
             ],
             [
              0.6666666666666666,
              "#ed7953"
             ],
             [
              0.7777777777777778,
              "#fb9f3a"
             ],
             [
              0.8888888888888888,
              "#fdca26"
             ],
             [
              1,
              "#f0f921"
             ]
            ],
            "type": "heatmapgl"
           }
          ],
          "histogram": [
           {
            "marker": {
             "pattern": {
              "fillmode": "overlay",
              "size": 10,
              "solidity": 0.2
             }
            },
            "type": "histogram"
           }
          ],
          "histogram2d": [
           {
            "colorbar": {
             "outlinewidth": 0,
             "ticks": ""
            },
            "colorscale": [
             [
              0,
              "#0d0887"
             ],
             [
              0.1111111111111111,
              "#46039f"
             ],
             [
              0.2222222222222222,
              "#7201a8"
             ],
             [
              0.3333333333333333,
              "#9c179e"
             ],
             [
              0.4444444444444444,
              "#bd3786"
             ],
             [
              0.5555555555555556,
              "#d8576b"
             ],
             [
              0.6666666666666666,
              "#ed7953"
             ],
             [
              0.7777777777777778,
              "#fb9f3a"
             ],
             [
              0.8888888888888888,
              "#fdca26"
             ],
             [
              1,
              "#f0f921"
             ]
            ],
            "type": "histogram2d"
           }
          ],
          "histogram2dcontour": [
           {
            "colorbar": {
             "outlinewidth": 0,
             "ticks": ""
            },
            "colorscale": [
             [
              0,
              "#0d0887"
             ],
             [
              0.1111111111111111,
              "#46039f"
             ],
             [
              0.2222222222222222,
              "#7201a8"
             ],
             [
              0.3333333333333333,
              "#9c179e"
             ],
             [
              0.4444444444444444,
              "#bd3786"
             ],
             [
              0.5555555555555556,
              "#d8576b"
             ],
             [
              0.6666666666666666,
              "#ed7953"
             ],
             [
              0.7777777777777778,
              "#fb9f3a"
             ],
             [
              0.8888888888888888,
              "#fdca26"
             ],
             [
              1,
              "#f0f921"
             ]
            ],
            "type": "histogram2dcontour"
           }
          ],
          "mesh3d": [
           {
            "colorbar": {
             "outlinewidth": 0,
             "ticks": ""
            },
            "type": "mesh3d"
           }
          ],
          "parcoords": [
           {
            "line": {
             "colorbar": {
              "outlinewidth": 0,
              "ticks": ""
             }
            },
            "type": "parcoords"
           }
          ],
          "pie": [
           {
            "automargin": true,
            "type": "pie"
           }
          ],
          "scatter": [
           {
            "marker": {
             "colorbar": {
              "outlinewidth": 0,
              "ticks": ""
             }
            },
            "type": "scatter"
           }
          ],
          "scatter3d": [
           {
            "line": {
             "colorbar": {
              "outlinewidth": 0,
              "ticks": ""
             }
            },
            "marker": {
             "colorbar": {
              "outlinewidth": 0,
              "ticks": ""
             }
            },
            "type": "scatter3d"
           }
          ],
          "scattercarpet": [
           {
            "marker": {
             "colorbar": {
              "outlinewidth": 0,
              "ticks": ""
             }
            },
            "type": "scattercarpet"
           }
          ],
          "scattergeo": [
           {
            "marker": {
             "colorbar": {
              "outlinewidth": 0,
              "ticks": ""
             }
            },
            "type": "scattergeo"
           }
          ],
          "scattergl": [
           {
            "marker": {
             "colorbar": {
              "outlinewidth": 0,
              "ticks": ""
             }
            },
            "type": "scattergl"
           }
          ],
          "scattermapbox": [
           {
            "marker": {
             "colorbar": {
              "outlinewidth": 0,
              "ticks": ""
             }
            },
            "type": "scattermapbox"
           }
          ],
          "scatterpolar": [
           {
            "marker": {
             "colorbar": {
              "outlinewidth": 0,
              "ticks": ""
             }
            },
            "type": "scatterpolar"
           }
          ],
          "scatterpolargl": [
           {
            "marker": {
             "colorbar": {
              "outlinewidth": 0,
              "ticks": ""
             }
            },
            "type": "scatterpolargl"
           }
          ],
          "scatterternary": [
           {
            "marker": {
             "colorbar": {
              "outlinewidth": 0,
              "ticks": ""
             }
            },
            "type": "scatterternary"
           }
          ],
          "surface": [
           {
            "colorbar": {
             "outlinewidth": 0,
             "ticks": ""
            },
            "colorscale": [
             [
              0,
              "#0d0887"
             ],
             [
              0.1111111111111111,
              "#46039f"
             ],
             [
              0.2222222222222222,
              "#7201a8"
             ],
             [
              0.3333333333333333,
              "#9c179e"
             ],
             [
              0.4444444444444444,
              "#bd3786"
             ],
             [
              0.5555555555555556,
              "#d8576b"
             ],
             [
              0.6666666666666666,
              "#ed7953"
             ],
             [
              0.7777777777777778,
              "#fb9f3a"
             ],
             [
              0.8888888888888888,
              "#fdca26"
             ],
             [
              1,
              "#f0f921"
             ]
            ],
            "type": "surface"
           }
          ],
          "table": [
           {
            "cells": {
             "fill": {
              "color": "#EBF0F8"
             },
             "line": {
              "color": "white"
             }
            },
            "header": {
             "fill": {
              "color": "#C8D4E3"
             },
             "line": {
              "color": "white"
             }
            },
            "type": "table"
           }
          ]
         },
         "layout": {
          "annotationdefaults": {
           "arrowcolor": "#2a3f5f",
           "arrowhead": 0,
           "arrowwidth": 1
          },
          "autotypenumbers": "strict",
          "coloraxis": {
           "colorbar": {
            "outlinewidth": 0,
            "ticks": ""
           }
          },
          "colorscale": {
           "diverging": [
            [
             0,
             "#8e0152"
            ],
            [
             0.1,
             "#c51b7d"
            ],
            [
             0.2,
             "#de77ae"
            ],
            [
             0.3,
             "#f1b6da"
            ],
            [
             0.4,
             "#fde0ef"
            ],
            [
             0.5,
             "#f7f7f7"
            ],
            [
             0.6,
             "#e6f5d0"
            ],
            [
             0.7,
             "#b8e186"
            ],
            [
             0.8,
             "#7fbc41"
            ],
            [
             0.9,
             "#4d9221"
            ],
            [
             1,
             "#276419"
            ]
           ],
           "sequential": [
            [
             0,
             "#0d0887"
            ],
            [
             0.1111111111111111,
             "#46039f"
            ],
            [
             0.2222222222222222,
             "#7201a8"
            ],
            [
             0.3333333333333333,
             "#9c179e"
            ],
            [
             0.4444444444444444,
             "#bd3786"
            ],
            [
             0.5555555555555556,
             "#d8576b"
            ],
            [
             0.6666666666666666,
             "#ed7953"
            ],
            [
             0.7777777777777778,
             "#fb9f3a"
            ],
            [
             0.8888888888888888,
             "#fdca26"
            ],
            [
             1,
             "#f0f921"
            ]
           ],
           "sequentialminus": [
            [
             0,
             "#0d0887"
            ],
            [
             0.1111111111111111,
             "#46039f"
            ],
            [
             0.2222222222222222,
             "#7201a8"
            ],
            [
             0.3333333333333333,
             "#9c179e"
            ],
            [
             0.4444444444444444,
             "#bd3786"
            ],
            [
             0.5555555555555556,
             "#d8576b"
            ],
            [
             0.6666666666666666,
             "#ed7953"
            ],
            [
             0.7777777777777778,
             "#fb9f3a"
            ],
            [
             0.8888888888888888,
             "#fdca26"
            ],
            [
             1,
             "#f0f921"
            ]
           ]
          },
          "colorway": [
           "#636efa",
           "#EF553B",
           "#00cc96",
           "#ab63fa",
           "#FFA15A",
           "#19d3f3",
           "#FF6692",
           "#B6E880",
           "#FF97FF",
           "#FECB52"
          ],
          "font": {
           "color": "#2a3f5f"
          },
          "geo": {
           "bgcolor": "white",
           "lakecolor": "white",
           "landcolor": "#E5ECF6",
           "showlakes": true,
           "showland": true,
           "subunitcolor": "white"
          },
          "hoverlabel": {
           "align": "left"
          },
          "hovermode": "closest",
          "mapbox": {
           "style": "light"
          },
          "paper_bgcolor": "white",
          "plot_bgcolor": "#E5ECF6",
          "polar": {
           "angularaxis": {
            "gridcolor": "white",
            "linecolor": "white",
            "ticks": ""
           },
           "bgcolor": "#E5ECF6",
           "radialaxis": {
            "gridcolor": "white",
            "linecolor": "white",
            "ticks": ""
           }
          },
          "scene": {
           "xaxis": {
            "backgroundcolor": "#E5ECF6",
            "gridcolor": "white",
            "gridwidth": 2,
            "linecolor": "white",
            "showbackground": true,
            "ticks": "",
            "zerolinecolor": "white"
           },
           "yaxis": {
            "backgroundcolor": "#E5ECF6",
            "gridcolor": "white",
            "gridwidth": 2,
            "linecolor": "white",
            "showbackground": true,
            "ticks": "",
            "zerolinecolor": "white"
           },
           "zaxis": {
            "backgroundcolor": "#E5ECF6",
            "gridcolor": "white",
            "gridwidth": 2,
            "linecolor": "white",
            "showbackground": true,
            "ticks": "",
            "zerolinecolor": "white"
           }
          },
          "shapedefaults": {
           "line": {
            "color": "#2a3f5f"
           }
          },
          "ternary": {
           "aaxis": {
            "gridcolor": "white",
            "linecolor": "white",
            "ticks": ""
           },
           "baxis": {
            "gridcolor": "white",
            "linecolor": "white",
            "ticks": ""
           },
           "bgcolor": "#E5ECF6",
           "caxis": {
            "gridcolor": "white",
            "linecolor": "white",
            "ticks": ""
           }
          },
          "title": {
           "x": 0.05
          },
          "xaxis": {
           "automargin": true,
           "gridcolor": "white",
           "linecolor": "white",
           "ticks": "",
           "title": {
            "standoff": 15
           },
           "zerolinecolor": "white",
           "zerolinewidth": 2
          },
          "yaxis": {
           "automargin": true,
           "gridcolor": "white",
           "linecolor": "white",
           "ticks": "",
           "title": {
            "standoff": 15
           },
           "zerolinecolor": "white",
           "zerolinewidth": 2
          }
         }
        },
        "xaxis": {
         "anchor": "y",
         "domain": [
          0,
          1
         ],
         "title": {
          "text": "datetime"
         }
        },
        "yaxis": {
         "anchor": "x",
         "domain": [
          0,
          1
         ],
         "title": {
          "text": "close"
         }
        }
       }
      },
      "text/html": [
       "<div>                            <div id=\"58859cc5-c210-4b55-ac9d-317efc43b2c7\" class=\"plotly-graph-div\" style=\"height:525px; width:100%;\"></div>            <script type=\"text/javascript\">                require([\"plotly\"], function(Plotly) {                    window.PLOTLYENV=window.PLOTLYENV || {};                                    if (document.getElementById(\"58859cc5-c210-4b55-ac9d-317efc43b2c7\")) {                    Plotly.newPlot(                        \"58859cc5-c210-4b55-ac9d-317efc43b2c7\",                        [{\"hovertemplate\":\"datetime=%{x}<br>close=%{y}<br>risk_indicator_normalized=%{marker.color}<extra></extra>\",\"legendgroup\":\"\",\"marker\":{\"color\":[-1.665460251647229,-1.665460251647229,-1.665460251647229,-1.665460251647229,-1.665460251647229,-1.665460251647229,-1.665460251647229,-1.665460251647229,-1.665460251647229,-1.665460251647229,-1.665460251647229,-1.665460251647229,-1.665460251647229,-1.665460251647229,-1.665460251647229,-1.665460251647229,-1.665460251647229,-1.665460251647229,-1.665460251647229,-1.665460251647229,-1.665460251647229,-1.665460251647229,-1.665460251647229,-1.665460251647229,-1.665460251647229,-1.665460251647229,-1.665460251647229,-1.665460251647229,-1.665460251647229,-1.665460251647229,-1.5935125018290761,-1.517133595795297,-1.4436742140908774,-1.3643579998231927,-1.2992511252864232,-1.232889003487234,-1.1733084772876128,-1.121994502717013,-1.0601643125925355,-0.9948188373364634,-0.9135478755609482,-0.8228766382417135,-0.734978208039349,-0.6619589779724002,-0.5844270821273302,-0.5175981328338524,-0.4504046134972152,-0.37688743410302705,-0.30604673234275864,-0.23520158460635437,-0.13538942035133683,-0.0486365700000342,0.018001202319591195,0.04062084690792578,0.07729274007036602,0.09166658091831534,0.11731097127123034,0.13440574951446235,0.1401025269368267,0.1651570844556884,0.18716614832133444,0.21157011133228304,0.21641918930470205,0.20133399227497983,0.20867874485178448,0.21135522248570612,0.23299823431614747,0.26727671032533107,0.2752987332668677,0.28517621024919454,0.2908418658386073,0.30609600996149944,0.30963945294195705,0.3097920981226295,0.313599335687159,0.3216198766366484,0.32442973355465327,0.3223430887547861,0.30964538091013816,0.29297148840778825,0.2670973892878435,0.2390477258453083,0.22093481906691512,0.22855374017211183,0.2443443654154258,0.27852502994961686,0.3128272178315263,0.36134467341253396,0.41991448103721696,0.4690499273011377,0.4735119214399415,0.4819571691983304,0.49105409233524394,0.5101167879594388,0.5184204239265957,0.5222312830151137,0.5023247630771669,0.48659342740402844,0.481440719454735,0.4769725508472659,0.4740619211288999,0.45547135759151114,0.45566466237178643,0.4741141318633856,0.49468230656291895,0.5102993178947528,0.5235843559792183,0.527884531718838,0.5305695295229877,0.5470369086651276,0.5653661641862165,0.5915201187653822,0.6232275792826832,0.6504730299272438,0.6694209905173775,0.7017897105475145,0.7396457116431235,0.7713497551899604,0.8015386286026764,0.8255794773557218,0.8523498914772273,0.8645667590040185,0.9209531383674439,0.9665207580061937,1.0222609517626462,1.0790926804009335,1.145835905357114,1.220626213312965,1.3005148487029328,1.3749812542885438,1.4563461618298896,1.52277413180457,1.5709694296023111,1.6227699869651684,1.645149968879937,1.6706852423533554,1.690226707855743,1.7232397193328093,1.7257930148024714,1.7293810015252205,1.7148497012794286,1.6911748654297658,1.6560179920392801,1.6502369382533841,1.6399505146149782,1.6164148193886834,1.5753567024979478,1.5153676036821788,1.4475432353351187,1.3871800199581334,1.324738098379935,1.2625386270299694,1.166445572819022,1.0921664897105297,0.9938973279559592,0.8996563820232749,0.8153522936970782,0.6952725085491218,0.5686692713042183,0.4460450072611702,0.29898708286950965,0.17519007437543796,0.06030578725790868,-0.07439716842853351,-0.1722741507922931,-0.26575291610559015,-0.34521235803590666,-0.4279531875597421,-0.449430833402134,-0.49857203132893213,-0.5220264549882802,-0.5540253865261989,-0.5736634443933716,-0.628267336791547,-0.6822206489709759,-0.7591196121415043,-0.8251754028167251,-0.856835733488374,-0.8727533059375273,-0.8899498728967501,-0.922095018374709,-0.9541363095020058,-0.9920435224603283,-1.036838004263365,-1.063858185356767,-1.0933054838812704,-1.1244571399586312,-1.1444980749799891,-1.1697000355307787,-1.199336667259813,-1.2206995197633344,-1.2333841685427063,-1.2498133914100669,-1.2775555492575794,-1.3063259355138035,-1.33826364088613,-1.3632980901410636,-1.3907462012965754,-1.4110686197987181,-1.4271984012880425,-1.449984627263958,-1.433038235836935,-1.4143512681919646,-1.3999592869754869,-1.3816215728194585,-1.3454644591134286,-1.306073899748036,-1.2724221362960637,-1.2465827613561258,-1.2223429710249372,-1.199011517990923,-1.1592572520257134,-1.1108138481962708,-1.0687073702526106,-1.0328767007756217,-0.9759570054688677,-0.9240567058899254,-0.8580593102470656,-0.76038140442728,-0.6708587695355431,-0.5641259044627382,-0.4675967708010165,-0.36424405043293356,-0.25124299549077733,-0.13928503385897886,-0.026202460856972237,0.08437596226667454,0.18740959156670928,0.25900025155021156,0.3455259115436084,0.43305535870937795,0.5041223049849722,0.5630861688097548,0.6305980146889419,0.6974777877346946,0.7623204091326562,0.822475281236245,0.8609302763262957,0.9034612522819606,0.941786408866025,0.9818516990518213,1.0145850987654355,1.0562228161418958,1.1160379378254361,1.175053943137155,1.2213882697558225,1.2598755028614204,1.2908776683966396,1.2990038839318712,1.3000890830645682,1.2888419541376739,1.2725224860306081,1.2472174125088917,1.236464694986299,1.2153661392835071,1.1921729910195733,1.1679301672685025,1.1625842384906975,1.1606664727611005,1.1501582832459238,1.1311734902546864,1.091016191971446,1.0409862647576495,0.9842790011698098,0.9366869589083893,0.8975806899586257,0.8471828576067182,0.8097538405741239,0.7693426765482231,0.7283954768658081,0.6872946672408589,0.6445690440873735,0.5965474036652677,0.5375001171629437,0.48779283000574736,0.42714627364162866,0.37230736218931143,0.3197750903813858,0.26627667036042035,0.2450961221813619,0.21796436739543623,0.1970873019764207,0.1808971925603788,0.16475545247559534,0.13969813332909886,0.12455307670216603,0.10667821093290207,0.0817290553421924,0.05664861179390773,0.04097366058598363,0.01898041707393325,0.01272935096309093,0.038565477362181,0.07487258860009993,0.08991476068712224,0.10885406798774082,0.13732067687277855,0.17273985862293068,0.19674811729245745,0.22593967372076046],\"coloraxis\":\"coloraxis\",\"symbol\":\"circle\"},\"mode\":\"markers\",\"name\":\"\",\"orientation\":\"v\",\"showlegend\":false,\"type\":\"scatter\",\"x\":[\"2021-01-01T00:00:00\",\"2021-01-02T00:00:00\",\"2021-01-03T00:00:00\",\"2021-01-04T00:00:00\",\"2021-01-05T00:00:00\",\"2021-01-06T00:00:00\",\"2021-01-07T00:00:00\",\"2021-01-08T00:00:00\",\"2021-01-09T00:00:00\",\"2021-01-10T00:00:00\",\"2021-01-11T00:00:00\",\"2021-01-12T00:00:00\",\"2021-01-13T00:00:00\",\"2021-01-14T00:00:00\",\"2021-01-15T00:00:00\",\"2021-01-16T00:00:00\",\"2021-01-17T00:00:00\",\"2021-01-18T00:00:00\",\"2021-01-19T00:00:00\",\"2021-01-20T00:00:00\",\"2021-01-21T00:00:00\",\"2021-01-22T00:00:00\",\"2021-01-23T00:00:00\",\"2021-01-24T00:00:00\",\"2021-01-25T00:00:00\",\"2021-01-26T00:00:00\",\"2021-01-27T00:00:00\",\"2021-01-28T00:00:00\",\"2021-01-29T00:00:00\",\"2021-01-30T00:00:00\",\"2021-01-31T00:00:00\",\"2021-02-01T00:00:00\",\"2021-02-02T00:00:00\",\"2021-02-03T00:00:00\",\"2021-02-04T00:00:00\",\"2021-02-05T00:00:00\",\"2021-02-06T00:00:00\",\"2021-02-07T00:00:00\",\"2021-02-08T00:00:00\",\"2021-02-09T00:00:00\",\"2021-02-10T00:00:00\",\"2021-02-11T00:00:00\",\"2021-02-12T00:00:00\",\"2021-02-13T00:00:00\",\"2021-02-14T00:00:00\",\"2021-02-15T00:00:00\",\"2021-02-16T00:00:00\",\"2021-02-17T00:00:00\",\"2021-02-18T00:00:00\",\"2021-02-19T00:00:00\",\"2021-02-20T00:00:00\",\"2021-02-21T00:00:00\",\"2021-02-22T00:00:00\",\"2021-02-23T00:00:00\",\"2021-02-24T00:00:00\",\"2021-02-25T00:00:00\",\"2021-02-26T00:00:00\",\"2021-02-27T00:00:00\",\"2021-02-28T00:00:00\",\"2021-03-01T00:00:00\",\"2021-03-02T00:00:00\",\"2021-03-03T00:00:00\",\"2021-03-04T00:00:00\",\"2021-03-05T00:00:00\",\"2021-03-06T00:00:00\",\"2021-03-07T00:00:00\",\"2021-03-08T00:00:00\",\"2021-03-09T00:00:00\",\"2021-03-10T00:00:00\",\"2021-03-11T00:00:00\",\"2021-03-12T00:00:00\",\"2021-03-13T00:00:00\",\"2021-03-14T00:00:00\",\"2021-03-15T00:00:00\",\"2021-03-16T00:00:00\",\"2021-03-17T00:00:00\",\"2021-03-18T00:00:00\",\"2021-03-19T00:00:00\",\"2021-03-20T00:00:00\",\"2021-03-21T00:00:00\",\"2021-03-22T00:00:00\",\"2021-03-23T00:00:00\",\"2021-03-24T00:00:00\",\"2021-03-25T00:00:00\",\"2021-03-26T00:00:00\",\"2021-03-27T00:00:00\",\"2021-03-28T00:00:00\",\"2021-03-29T00:00:00\",\"2021-03-30T00:00:00\",\"2021-03-31T00:00:00\",\"2021-04-01T00:00:00\",\"2021-04-02T00:00:00\",\"2021-04-03T00:00:00\",\"2021-04-04T00:00:00\",\"2021-04-05T00:00:00\",\"2021-04-06T00:00:00\",\"2021-04-07T00:00:00\",\"2021-04-08T00:00:00\",\"2021-04-09T00:00:00\",\"2021-04-10T00:00:00\",\"2021-04-11T00:00:00\",\"2021-04-12T00:00:00\",\"2021-04-13T00:00:00\",\"2021-04-14T00:00:00\",\"2021-04-15T00:00:00\",\"2021-04-16T00:00:00\",\"2021-04-17T00:00:00\",\"2021-04-18T00:00:00\",\"2021-04-19T00:00:00\",\"2021-04-20T00:00:00\",\"2021-04-21T00:00:00\",\"2021-04-22T00:00:00\",\"2021-04-23T00:00:00\",\"2021-04-24T00:00:00\",\"2021-04-25T00:00:00\",\"2021-04-26T00:00:00\",\"2021-04-27T00:00:00\",\"2021-04-28T00:00:00\",\"2021-04-29T00:00:00\",\"2021-04-30T00:00:00\",\"2021-05-01T00:00:00\",\"2021-05-02T00:00:00\",\"2021-05-03T00:00:00\",\"2021-05-04T00:00:00\",\"2021-05-05T00:00:00\",\"2021-05-06T00:00:00\",\"2021-05-07T00:00:00\",\"2021-05-08T00:00:00\",\"2021-05-09T00:00:00\",\"2021-05-10T00:00:00\",\"2021-05-11T00:00:00\",\"2021-05-12T00:00:00\",\"2021-05-13T00:00:00\",\"2021-05-14T00:00:00\",\"2021-05-15T00:00:00\",\"2021-05-16T00:00:00\",\"2021-05-17T00:00:00\",\"2021-05-18T00:00:00\",\"2021-05-19T00:00:00\",\"2021-05-20T00:00:00\",\"2021-05-21T00:00:00\",\"2021-05-22T00:00:00\",\"2021-05-23T00:00:00\",\"2021-05-24T00:00:00\",\"2021-05-25T00:00:00\",\"2021-05-26T00:00:00\",\"2021-05-27T00:00:00\",\"2021-05-28T00:00:00\",\"2021-05-29T00:00:00\",\"2021-05-30T00:00:00\",\"2021-05-31T00:00:00\",\"2021-06-01T00:00:00\",\"2021-06-02T00:00:00\",\"2021-06-03T00:00:00\",\"2021-06-04T00:00:00\",\"2021-06-05T00:00:00\",\"2021-06-06T00:00:00\",\"2021-06-07T00:00:00\",\"2021-06-08T00:00:00\",\"2021-06-09T00:00:00\",\"2021-06-10T00:00:00\",\"2021-06-11T00:00:00\",\"2021-06-12T00:00:00\",\"2021-06-13T00:00:00\",\"2021-06-14T00:00:00\",\"2021-06-15T00:00:00\",\"2021-06-16T00:00:00\",\"2021-06-17T00:00:00\",\"2021-06-18T00:00:00\",\"2021-06-19T00:00:00\",\"2021-06-20T00:00:00\",\"2021-06-21T00:00:00\",\"2021-06-22T00:00:00\",\"2021-06-23T00:00:00\",\"2021-06-24T00:00:00\",\"2021-06-25T00:00:00\",\"2021-06-26T00:00:00\",\"2021-06-27T00:00:00\",\"2021-06-28T00:00:00\",\"2021-06-29T00:00:00\",\"2021-06-30T00:00:00\",\"2021-07-01T00:00:00\",\"2021-07-02T00:00:00\",\"2021-07-03T00:00:00\",\"2021-07-04T00:00:00\",\"2021-07-05T00:00:00\",\"2021-07-06T00:00:00\",\"2021-07-07T00:00:00\",\"2021-07-08T00:00:00\",\"2021-07-09T00:00:00\",\"2021-07-10T00:00:00\",\"2021-07-11T00:00:00\",\"2021-07-12T00:00:00\",\"2021-07-13T00:00:00\",\"2021-07-14T00:00:00\",\"2021-07-15T00:00:00\",\"2021-07-16T00:00:00\",\"2021-07-17T00:00:00\",\"2021-07-18T00:00:00\",\"2021-07-19T00:00:00\",\"2021-07-20T00:00:00\",\"2021-07-21T00:00:00\",\"2021-07-22T00:00:00\",\"2021-07-23T00:00:00\",\"2021-07-24T00:00:00\",\"2021-07-25T00:00:00\",\"2021-07-26T00:00:00\",\"2021-07-27T00:00:00\",\"2021-07-28T00:00:00\",\"2021-07-29T00:00:00\",\"2021-07-30T00:00:00\",\"2021-07-31T00:00:00\",\"2021-08-01T00:00:00\",\"2021-08-02T00:00:00\",\"2021-08-03T00:00:00\",\"2021-08-04T00:00:00\",\"2021-08-05T00:00:00\",\"2021-08-06T00:00:00\",\"2021-08-07T00:00:00\",\"2021-08-08T00:00:00\",\"2021-08-09T00:00:00\",\"2021-08-10T00:00:00\",\"2021-08-11T00:00:00\",\"2021-08-12T00:00:00\",\"2021-08-13T00:00:00\",\"2021-08-14T00:00:00\",\"2021-08-15T00:00:00\",\"2021-08-16T00:00:00\",\"2021-08-17T00:00:00\",\"2021-08-18T00:00:00\",\"2021-08-19T00:00:00\",\"2021-08-20T00:00:00\",\"2021-08-21T00:00:00\",\"2021-08-22T00:00:00\",\"2021-08-23T00:00:00\",\"2021-08-24T00:00:00\",\"2021-08-25T00:00:00\",\"2021-08-26T00:00:00\",\"2021-08-27T00:00:00\",\"2021-08-28T00:00:00\",\"2021-08-29T00:00:00\",\"2021-08-30T00:00:00\",\"2021-08-31T00:00:00\",\"2021-09-01T00:00:00\",\"2021-09-02T00:00:00\",\"2021-09-03T00:00:00\",\"2021-09-04T00:00:00\",\"2021-09-05T00:00:00\",\"2021-09-06T00:00:00\",\"2021-09-07T00:00:00\",\"2021-09-08T00:00:00\",\"2021-09-09T00:00:00\",\"2021-09-10T00:00:00\",\"2021-09-11T00:00:00\",\"2021-09-12T00:00:00\",\"2021-09-13T00:00:00\",\"2021-09-14T00:00:00\",\"2021-09-15T00:00:00\",\"2021-09-16T00:00:00\",\"2021-09-17T00:00:00\",\"2021-09-18T00:00:00\",\"2021-09-19T00:00:00\",\"2021-09-20T00:00:00\",\"2021-09-21T00:00:00\",\"2021-09-22T00:00:00\",\"2021-09-23T00:00:00\",\"2021-09-24T00:00:00\",\"2021-09-25T00:00:00\",\"2021-09-26T00:00:00\",\"2021-09-27T00:00:00\",\"2021-09-28T00:00:00\",\"2021-09-29T00:00:00\",\"2021-09-30T00:00:00\",\"2021-10-01T00:00:00\",\"2021-10-02T00:00:00\",\"2021-10-03T00:00:00\",\"2021-10-04T00:00:00\",\"2021-10-05T00:00:00\",\"2021-10-06T00:00:00\",\"2021-10-07T00:00:00\",\"2021-10-08T00:00:00\",\"2021-10-09T00:00:00\",\"2021-10-10T00:00:00\",\"2021-10-11T00:00:00\",\"2021-10-12T00:00:00\",\"2021-10-13T00:00:00\",\"2021-10-14T00:00:00\",\"2021-10-15T00:00:00\",\"2021-10-16T00:00:00\",\"2021-10-17T00:00:00\",\"2021-10-18T00:00:00\",\"2021-10-19T00:00:00\",\"2021-10-20T00:00:00\",\"2021-10-21T00:00:00\",\"2021-10-22T00:00:00\",\"2021-10-23T00:00:00\",\"2021-10-24T00:00:00\",\"2021-10-25T00:00:00\",\"2021-10-26T00:00:00\",\"2021-10-27T00:00:00\"],\"xaxis\":\"x\",\"y\":[598.6,623.2,759.24,849.49,896.35,980.88,997.38,994.25,1036.16,1020.46,889.98,860.33,929.15,1011.69,968.0,1016.96,1019.78,1040.83,1127.47,1136.47,913.5,1014.52,1013.62,1144.99,1087.95,1125.17,1026.83,1097.7,1136.32,1136.03,1084.08,1138.58,1254.92,1384.69,1335.67,1428.67,1399.41,1340.5,1453.37,1461.39,1438.37,1472.15,1522.26,1504.4,1491.16,1467.9,1473.18,1536.9,1605.48,1614.51,1587.0,1599.9,1463.27,1297.62,1335.4,1222.16,1199.87,1213.05,1174.76,1305.09,1232.59,1303.25,1287.64,1282.9,1385.23,1446.73,1545.45,1571.8,1507.5,1528.04,1476.6,1575.08,1546.17,1505.43,1516.85,1522.02,1492.14,1522.82,1519.8,1502.0,1412.41,1410.63,1341.05,1349.03,1441.95,1452.8,1431.33,1540.43,1569.97,1636.64,1671.87,1816.16,1715.95,1766.82,1784.03,1780.82,1656.86,1747.36,1738.71,1788.94,1803.94,1794.18,1926.95,2031.09,2106.1,2027.32,1951.0,1877.37,1798.63,1939.16,1959.99,1998.0,1962.08,1837.53,1920.99,2097.58,2207.21,2265.86,2275.53,2307.66,2446.11,2449.53,2846.77,2700.35,2928.81,2891.38,2869.23,3217.17,3228.12,3250.94,3439.21,3173.37,3080.01,3362.83,3004.66,2944.38,2699.35,2764.44,2006.67,2276.29,2001.2,1889.08,1721.9,2172.81,2208.49,2370.93,2252.18,1982.93,1874.15,1959.77,2211.38,2156.58,2218.5,2354.5,2214.74,2167.07,2231.11,2132.63,2061.8,2143.12,2031.01,1945.46,1961.13,2071.62,2130.18,2099.99,1973.21,1993.67,1885.5,1830.93,1892.19,1583.65,1575.0,1651.23,1668.7,1520.0,1534.67,1659.98,1746.95,1819.45,1920.1,1781.32,1816.61,1876.22,1957.15,1851.6,1963.87,1966.23,1787.22,1809.79,1779.59,1802.65,1713.16,1647.56,1685.35,1625.91,1589.96,1609.49,1602.1,1540.98,1515.57,1692.14,1719.57,1803.73,1857.31,1861.0,1888.0,1948.1,1942.31,2004.44,2074.86,2132.88,2154.72,2194.83,2113.48,2302.03,2387.94,2456.05,2680.03,2564.8,2693.52,2680.3,2693.7,2598.41,2812.67,2768.26,2803.99,2673.07,2572.44,2576.86,2725.96,2806.27,2754.88,2768.81,2830.44,2700.12,2743.3,2632.08,2777.58,2752.06,2735.02,2737.13,2904.95,3233.62,3190.0,3314.01,3270.18,3320.85,3309.78,2904.56,2962.16,2896.78,2720.4,2768.48,2882.68,2781.31,2910.75,3057.72,3033.1,2899.48,2931.28,2839.84,2539.52,2359.62,2635.37,2687.24,2502.58,2496.98,2612.32,2504.4,2402.26,2457.02,2592.44,2851.63,2915.71,2941.75,2913.24,3031.03,3087.62,3099.32,3077.23,3086.78,2955.23,3065.46,3027.87,3109.74,3269.0,3327.9,3283.04,3308.24,3226.9,3331.45,3567.61,3486.74,3412.06,3585.01,3508.04,3636.57,3562.33,3486.97],\"yaxis\":\"y\"}],                        {\"coloraxis\":{\"colorbar\":{\"title\":{\"text\":\"risk_indicator_normalized\"}},\"colorscale\":[[0.0,\"rgb(5,48,97)\"],[0.1,\"rgb(33,102,172)\"],[0.2,\"rgb(67,147,195)\"],[0.3,\"rgb(146,197,222)\"],[0.4,\"rgb(209,229,240)\"],[0.5,\"rgb(247,247,247)\"],[0.6,\"rgb(253,219,199)\"],[0.7,\"rgb(244,165,130)\"],[0.8,\"rgb(214,96,77)\"],[0.9,\"rgb(178,24,43)\"],[1.0,\"rgb(103,0,31)\"]]},\"legend\":{\"tracegroupgap\":0},\"margin\":{\"t\":60},\"template\":{\"data\":{\"bar\":[{\"error_x\":{\"color\":\"#2a3f5f\"},\"error_y\":{\"color\":\"#2a3f5f\"},\"marker\":{\"line\":{\"color\":\"#E5ECF6\",\"width\":0.5},\"pattern\":{\"fillmode\":\"overlay\",\"size\":10,\"solidity\":0.2}},\"type\":\"bar\"}],\"barpolar\":[{\"marker\":{\"line\":{\"color\":\"#E5ECF6\",\"width\":0.5},\"pattern\":{\"fillmode\":\"overlay\",\"size\":10,\"solidity\":0.2}},\"type\":\"barpolar\"}],\"carpet\":[{\"aaxis\":{\"endlinecolor\":\"#2a3f5f\",\"gridcolor\":\"white\",\"linecolor\":\"white\",\"minorgridcolor\":\"white\",\"startlinecolor\":\"#2a3f5f\"},\"baxis\":{\"endlinecolor\":\"#2a3f5f\",\"gridcolor\":\"white\",\"linecolor\":\"white\",\"minorgridcolor\":\"white\",\"startlinecolor\":\"#2a3f5f\"},\"type\":\"carpet\"}],\"choropleth\":[{\"colorbar\":{\"outlinewidth\":0,\"ticks\":\"\"},\"type\":\"choropleth\"}],\"contour\":[{\"colorbar\":{\"outlinewidth\":0,\"ticks\":\"\"},\"colorscale\":[[0.0,\"#0d0887\"],[0.1111111111111111,\"#46039f\"],[0.2222222222222222,\"#7201a8\"],[0.3333333333333333,\"#9c179e\"],[0.4444444444444444,\"#bd3786\"],[0.5555555555555556,\"#d8576b\"],[0.6666666666666666,\"#ed7953\"],[0.7777777777777778,\"#fb9f3a\"],[0.8888888888888888,\"#fdca26\"],[1.0,\"#f0f921\"]],\"type\":\"contour\"}],\"contourcarpet\":[{\"colorbar\":{\"outlinewidth\":0,\"ticks\":\"\"},\"type\":\"contourcarpet\"}],\"heatmap\":[{\"colorbar\":{\"outlinewidth\":0,\"ticks\":\"\"},\"colorscale\":[[0.0,\"#0d0887\"],[0.1111111111111111,\"#46039f\"],[0.2222222222222222,\"#7201a8\"],[0.3333333333333333,\"#9c179e\"],[0.4444444444444444,\"#bd3786\"],[0.5555555555555556,\"#d8576b\"],[0.6666666666666666,\"#ed7953\"],[0.7777777777777778,\"#fb9f3a\"],[0.8888888888888888,\"#fdca26\"],[1.0,\"#f0f921\"]],\"type\":\"heatmap\"}],\"heatmapgl\":[{\"colorbar\":{\"outlinewidth\":0,\"ticks\":\"\"},\"colorscale\":[[0.0,\"#0d0887\"],[0.1111111111111111,\"#46039f\"],[0.2222222222222222,\"#7201a8\"],[0.3333333333333333,\"#9c179e\"],[0.4444444444444444,\"#bd3786\"],[0.5555555555555556,\"#d8576b\"],[0.6666666666666666,\"#ed7953\"],[0.7777777777777778,\"#fb9f3a\"],[0.8888888888888888,\"#fdca26\"],[1.0,\"#f0f921\"]],\"type\":\"heatmapgl\"}],\"histogram\":[{\"marker\":{\"pattern\":{\"fillmode\":\"overlay\",\"size\":10,\"solidity\":0.2}},\"type\":\"histogram\"}],\"histogram2d\":[{\"colorbar\":{\"outlinewidth\":0,\"ticks\":\"\"},\"colorscale\":[[0.0,\"#0d0887\"],[0.1111111111111111,\"#46039f\"],[0.2222222222222222,\"#7201a8\"],[0.3333333333333333,\"#9c179e\"],[0.4444444444444444,\"#bd3786\"],[0.5555555555555556,\"#d8576b\"],[0.6666666666666666,\"#ed7953\"],[0.7777777777777778,\"#fb9f3a\"],[0.8888888888888888,\"#fdca26\"],[1.0,\"#f0f921\"]],\"type\":\"histogram2d\"}],\"histogram2dcontour\":[{\"colorbar\":{\"outlinewidth\":0,\"ticks\":\"\"},\"colorscale\":[[0.0,\"#0d0887\"],[0.1111111111111111,\"#46039f\"],[0.2222222222222222,\"#7201a8\"],[0.3333333333333333,\"#9c179e\"],[0.4444444444444444,\"#bd3786\"],[0.5555555555555556,\"#d8576b\"],[0.6666666666666666,\"#ed7953\"],[0.7777777777777778,\"#fb9f3a\"],[0.8888888888888888,\"#fdca26\"],[1.0,\"#f0f921\"]],\"type\":\"histogram2dcontour\"}],\"mesh3d\":[{\"colorbar\":{\"outlinewidth\":0,\"ticks\":\"\"},\"type\":\"mesh3d\"}],\"parcoords\":[{\"line\":{\"colorbar\":{\"outlinewidth\":0,\"ticks\":\"\"}},\"type\":\"parcoords\"}],\"pie\":[{\"automargin\":true,\"type\":\"pie\"}],\"scatter\":[{\"marker\":{\"colorbar\":{\"outlinewidth\":0,\"ticks\":\"\"}},\"type\":\"scatter\"}],\"scatter3d\":[{\"line\":{\"colorbar\":{\"outlinewidth\":0,\"ticks\":\"\"}},\"marker\":{\"colorbar\":{\"outlinewidth\":0,\"ticks\":\"\"}},\"type\":\"scatter3d\"}],\"scattercarpet\":[{\"marker\":{\"colorbar\":{\"outlinewidth\":0,\"ticks\":\"\"}},\"type\":\"scattercarpet\"}],\"scattergeo\":[{\"marker\":{\"colorbar\":{\"outlinewidth\":0,\"ticks\":\"\"}},\"type\":\"scattergeo\"}],\"scattergl\":[{\"marker\":{\"colorbar\":{\"outlinewidth\":0,\"ticks\":\"\"}},\"type\":\"scattergl\"}],\"scattermapbox\":[{\"marker\":{\"colorbar\":{\"outlinewidth\":0,\"ticks\":\"\"}},\"type\":\"scattermapbox\"}],\"scatterpolar\":[{\"marker\":{\"colorbar\":{\"outlinewidth\":0,\"ticks\":\"\"}},\"type\":\"scatterpolar\"}],\"scatterpolargl\":[{\"marker\":{\"colorbar\":{\"outlinewidth\":0,\"ticks\":\"\"}},\"type\":\"scatterpolargl\"}],\"scatterternary\":[{\"marker\":{\"colorbar\":{\"outlinewidth\":0,\"ticks\":\"\"}},\"type\":\"scatterternary\"}],\"surface\":[{\"colorbar\":{\"outlinewidth\":0,\"ticks\":\"\"},\"colorscale\":[[0.0,\"#0d0887\"],[0.1111111111111111,\"#46039f\"],[0.2222222222222222,\"#7201a8\"],[0.3333333333333333,\"#9c179e\"],[0.4444444444444444,\"#bd3786\"],[0.5555555555555556,\"#d8576b\"],[0.6666666666666666,\"#ed7953\"],[0.7777777777777778,\"#fb9f3a\"],[0.8888888888888888,\"#fdca26\"],[1.0,\"#f0f921\"]],\"type\":\"surface\"}],\"table\":[{\"cells\":{\"fill\":{\"color\":\"#EBF0F8\"},\"line\":{\"color\":\"white\"}},\"header\":{\"fill\":{\"color\":\"#C8D4E3\"},\"line\":{\"color\":\"white\"}},\"type\":\"table\"}]},\"layout\":{\"annotationdefaults\":{\"arrowcolor\":\"#2a3f5f\",\"arrowhead\":0,\"arrowwidth\":1},\"autotypenumbers\":\"strict\",\"coloraxis\":{\"colorbar\":{\"outlinewidth\":0,\"ticks\":\"\"}},\"colorscale\":{\"diverging\":[[0,\"#8e0152\"],[0.1,\"#c51b7d\"],[0.2,\"#de77ae\"],[0.3,\"#f1b6da\"],[0.4,\"#fde0ef\"],[0.5,\"#f7f7f7\"],[0.6,\"#e6f5d0\"],[0.7,\"#b8e186\"],[0.8,\"#7fbc41\"],[0.9,\"#4d9221\"],[1,\"#276419\"]],\"sequential\":[[0.0,\"#0d0887\"],[0.1111111111111111,\"#46039f\"],[0.2222222222222222,\"#7201a8\"],[0.3333333333333333,\"#9c179e\"],[0.4444444444444444,\"#bd3786\"],[0.5555555555555556,\"#d8576b\"],[0.6666666666666666,\"#ed7953\"],[0.7777777777777778,\"#fb9f3a\"],[0.8888888888888888,\"#fdca26\"],[1.0,\"#f0f921\"]],\"sequentialminus\":[[0.0,\"#0d0887\"],[0.1111111111111111,\"#46039f\"],[0.2222222222222222,\"#7201a8\"],[0.3333333333333333,\"#9c179e\"],[0.4444444444444444,\"#bd3786\"],[0.5555555555555556,\"#d8576b\"],[0.6666666666666666,\"#ed7953\"],[0.7777777777777778,\"#fb9f3a\"],[0.8888888888888888,\"#fdca26\"],[1.0,\"#f0f921\"]]},\"colorway\":[\"#636efa\",\"#EF553B\",\"#00cc96\",\"#ab63fa\",\"#FFA15A\",\"#19d3f3\",\"#FF6692\",\"#B6E880\",\"#FF97FF\",\"#FECB52\"],\"font\":{\"color\":\"#2a3f5f\"},\"geo\":{\"bgcolor\":\"white\",\"lakecolor\":\"white\",\"landcolor\":\"#E5ECF6\",\"showlakes\":true,\"showland\":true,\"subunitcolor\":\"white\"},\"hoverlabel\":{\"align\":\"left\"},\"hovermode\":\"closest\",\"mapbox\":{\"style\":\"light\"},\"paper_bgcolor\":\"white\",\"plot_bgcolor\":\"#E5ECF6\",\"polar\":{\"angularaxis\":{\"gridcolor\":\"white\",\"linecolor\":\"white\",\"ticks\":\"\"},\"bgcolor\":\"#E5ECF6\",\"radialaxis\":{\"gridcolor\":\"white\",\"linecolor\":\"white\",\"ticks\":\"\"}},\"scene\":{\"xaxis\":{\"backgroundcolor\":\"#E5ECF6\",\"gridcolor\":\"white\",\"gridwidth\":2,\"linecolor\":\"white\",\"showbackground\":true,\"ticks\":\"\",\"zerolinecolor\":\"white\"},\"yaxis\":{\"backgroundcolor\":\"#E5ECF6\",\"gridcolor\":\"white\",\"gridwidth\":2,\"linecolor\":\"white\",\"showbackground\":true,\"ticks\":\"\",\"zerolinecolor\":\"white\"},\"zaxis\":{\"backgroundcolor\":\"#E5ECF6\",\"gridcolor\":\"white\",\"gridwidth\":2,\"linecolor\":\"white\",\"showbackground\":true,\"ticks\":\"\",\"zerolinecolor\":\"white\"}},\"shapedefaults\":{\"line\":{\"color\":\"#2a3f5f\"}},\"ternary\":{\"aaxis\":{\"gridcolor\":\"white\",\"linecolor\":\"white\",\"ticks\":\"\"},\"baxis\":{\"gridcolor\":\"white\",\"linecolor\":\"white\",\"ticks\":\"\"},\"bgcolor\":\"#E5ECF6\",\"caxis\":{\"gridcolor\":\"white\",\"linecolor\":\"white\",\"ticks\":\"\"}},\"title\":{\"x\":0.05},\"xaxis\":{\"automargin\":true,\"gridcolor\":\"white\",\"linecolor\":\"white\",\"ticks\":\"\",\"title\":{\"standoff\":15},\"zerolinecolor\":\"white\",\"zerolinewidth\":2},\"yaxis\":{\"automargin\":true,\"gridcolor\":\"white\",\"linecolor\":\"white\",\"ticks\":\"\",\"title\":{\"standoff\":15},\"zerolinecolor\":\"white\",\"zerolinewidth\":2}}},\"xaxis\":{\"anchor\":\"y\",\"domain\":[0.0,1.0],\"title\":{\"text\":\"datetime\"}},\"yaxis\":{\"anchor\":\"x\",\"domain\":[0.0,1.0],\"title\":{\"text\":\"close\"}}},                        {\"responsive\": true}                    ).then(function(){\n",
       "                            \n",
       "var gd = document.getElementById('58859cc5-c210-4b55-ac9d-317efc43b2c7');\n",
       "var x = new MutationObserver(function (mutations, observer) {{\n",
       "        var display = window.getComputedStyle(gd).display;\n",
       "        if (!display || display === 'none') {{\n",
       "            console.log([gd, 'removed!']);\n",
       "            Plotly.purge(gd);\n",
       "            observer.disconnect();\n",
       "        }}\n",
       "}});\n",
       "\n",
       "// Listen for the removal of the full notebook cells\n",
       "var notebookContainer = gd.closest('#notebook-container');\n",
       "if (notebookContainer) {{\n",
       "    x.observe(notebookContainer, {childList: true});\n",
       "}}\n",
       "\n",
       "// Listen for the clearing of the current output cell\n",
       "var outputEl = gd.closest('.output');\n",
       "if (outputEl) {{\n",
       "    x.observe(outputEl, {childList: true});\n",
       "}}\n",
       "\n",
       "                        })                };                });            </script>        </div>"
      ]
     },
     "metadata": {},
     "output_type": "display_data"
    }
   ],
   "source": [
    "px.scatter(df, x=df.index, y=df.close, color=df.risk_indicator_normalized, color_continuous_scale='RdBu_r')"
   ]
  },
  {
   "cell_type": "markdown",
   "metadata": {},
   "source": [
    "Notice that we are using a divergent colorscale to represent an attribute that changes in both directions from a middle point. We want this middle point 0, to match the white color on the scale. Thus, the colormap \"RdBu_r\" is appropriate. There are other Diverging Colormaps that you can find in [here](https://matplotlib.org/stable/tutorials/colors/colormaps.html)."
   ]
  },
  {
   "cell_type": "code",
   "execution_count": 53,
   "metadata": {},
   "outputs": [],
   "source": [
    "# TODO: Explain the 2nd graph, and what vol_fiat does and why we want to show it. Why do we want to show them together?"
   ]
  },
  {
   "cell_type": "markdown",
   "metadata": {},
   "source": [
    "Next, we want to create another graph that can give us extra information about the risk. The second figure we are going to make is the Volume in Fiat (see this [link](https://en.wikipedia.org/wiki/Fiat_money) for further explanations. "
   ]
  },
  {
   "cell_type": "code",
   "execution_count": 54,
   "metadata": {},
   "outputs": [
    {
     "data": {
      "application/vnd.plotly.v1+json": {
       "config": {
        "plotlyServerURL": "https://plot.ly"
       },
       "data": [
        {
         "hovertemplate": "datetime=%{x}<br>vol_fiat=%{y}<br>risk_indicator_normalized=%{marker.color}<extra></extra>",
         "legendgroup": "",
         "marker": {
          "color": [
           -1.665460251647229,
           -1.665460251647229,
           -1.665460251647229,
           -1.665460251647229,
           -1.665460251647229,
           -1.665460251647229,
           -1.665460251647229,
           -1.665460251647229,
           -1.665460251647229,
           -1.665460251647229,
           -1.665460251647229,
           -1.665460251647229,
           -1.665460251647229,
           -1.665460251647229,
           -1.665460251647229,
           -1.665460251647229,
           -1.665460251647229,
           -1.665460251647229,
           -1.665460251647229,
           -1.665460251647229,
           -1.665460251647229,
           -1.665460251647229,
           -1.665460251647229,
           -1.665460251647229,
           -1.665460251647229,
           -1.665460251647229,
           -1.665460251647229,
           -1.665460251647229,
           -1.665460251647229,
           -1.665460251647229,
           -1.5935125018290761,
           -1.517133595795297,
           -1.4436742140908774,
           -1.3643579998231927,
           -1.2992511252864232,
           -1.232889003487234,
           -1.1733084772876128,
           -1.121994502717013,
           -1.0601643125925355,
           -0.9948188373364634,
           -0.9135478755609482,
           -0.8228766382417135,
           -0.734978208039349,
           -0.6619589779724002,
           -0.5844270821273302,
           -0.5175981328338524,
           -0.4504046134972152,
           -0.37688743410302705,
           -0.30604673234275864,
           -0.23520158460635437,
           -0.13538942035133683,
           -0.0486365700000342,
           0.018001202319591195,
           0.04062084690792578,
           0.07729274007036602,
           0.09166658091831534,
           0.11731097127123034,
           0.13440574951446235,
           0.1401025269368267,
           0.1651570844556884,
           0.18716614832133444,
           0.21157011133228304,
           0.21641918930470205,
           0.20133399227497983,
           0.20867874485178448,
           0.21135522248570612,
           0.23299823431614747,
           0.26727671032533107,
           0.2752987332668677,
           0.28517621024919454,
           0.2908418658386073,
           0.30609600996149944,
           0.30963945294195705,
           0.3097920981226295,
           0.313599335687159,
           0.3216198766366484,
           0.32442973355465327,
           0.3223430887547861,
           0.30964538091013816,
           0.29297148840778825,
           0.2670973892878435,
           0.2390477258453083,
           0.22093481906691512,
           0.22855374017211183,
           0.2443443654154258,
           0.27852502994961686,
           0.3128272178315263,
           0.36134467341253396,
           0.41991448103721696,
           0.4690499273011377,
           0.4735119214399415,
           0.4819571691983304,
           0.49105409233524394,
           0.5101167879594388,
           0.5184204239265957,
           0.5222312830151137,
           0.5023247630771669,
           0.48659342740402844,
           0.481440719454735,
           0.4769725508472659,
           0.4740619211288999,
           0.45547135759151114,
           0.45566466237178643,
           0.4741141318633856,
           0.49468230656291895,
           0.5102993178947528,
           0.5235843559792183,
           0.527884531718838,
           0.5305695295229877,
           0.5470369086651276,
           0.5653661641862165,
           0.5915201187653822,
           0.6232275792826832,
           0.6504730299272438,
           0.6694209905173775,
           0.7017897105475145,
           0.7396457116431235,
           0.7713497551899604,
           0.8015386286026764,
           0.8255794773557218,
           0.8523498914772273,
           0.8645667590040185,
           0.9209531383674439,
           0.9665207580061937,
           1.0222609517626462,
           1.0790926804009335,
           1.145835905357114,
           1.220626213312965,
           1.3005148487029328,
           1.3749812542885438,
           1.4563461618298896,
           1.52277413180457,
           1.5709694296023111,
           1.6227699869651684,
           1.645149968879937,
           1.6706852423533554,
           1.690226707855743,
           1.7232397193328093,
           1.7257930148024714,
           1.7293810015252205,
           1.7148497012794286,
           1.6911748654297658,
           1.6560179920392801,
           1.6502369382533841,
           1.6399505146149782,
           1.6164148193886834,
           1.5753567024979478,
           1.5153676036821788,
           1.4475432353351187,
           1.3871800199581334,
           1.324738098379935,
           1.2625386270299694,
           1.166445572819022,
           1.0921664897105297,
           0.9938973279559592,
           0.8996563820232749,
           0.8153522936970782,
           0.6952725085491218,
           0.5686692713042183,
           0.4460450072611702,
           0.29898708286950965,
           0.17519007437543796,
           0.06030578725790868,
           -0.07439716842853351,
           -0.1722741507922931,
           -0.26575291610559015,
           -0.34521235803590666,
           -0.4279531875597421,
           -0.449430833402134,
           -0.49857203132893213,
           -0.5220264549882802,
           -0.5540253865261989,
           -0.5736634443933716,
           -0.628267336791547,
           -0.6822206489709759,
           -0.7591196121415043,
           -0.8251754028167251,
           -0.856835733488374,
           -0.8727533059375273,
           -0.8899498728967501,
           -0.922095018374709,
           -0.9541363095020058,
           -0.9920435224603283,
           -1.036838004263365,
           -1.063858185356767,
           -1.0933054838812704,
           -1.1244571399586312,
           -1.1444980749799891,
           -1.1697000355307787,
           -1.199336667259813,
           -1.2206995197633344,
           -1.2333841685427063,
           -1.2498133914100669,
           -1.2775555492575794,
           -1.3063259355138035,
           -1.33826364088613,
           -1.3632980901410636,
           -1.3907462012965754,
           -1.4110686197987181,
           -1.4271984012880425,
           -1.449984627263958,
           -1.433038235836935,
           -1.4143512681919646,
           -1.3999592869754869,
           -1.3816215728194585,
           -1.3454644591134286,
           -1.306073899748036,
           -1.2724221362960637,
           -1.2465827613561258,
           -1.2223429710249372,
           -1.199011517990923,
           -1.1592572520257134,
           -1.1108138481962708,
           -1.0687073702526106,
           -1.0328767007756217,
           -0.9759570054688677,
           -0.9240567058899254,
           -0.8580593102470656,
           -0.76038140442728,
           -0.6708587695355431,
           -0.5641259044627382,
           -0.4675967708010165,
           -0.36424405043293356,
           -0.25124299549077733,
           -0.13928503385897886,
           -0.026202460856972237,
           0.08437596226667454,
           0.18740959156670928,
           0.25900025155021156,
           0.3455259115436084,
           0.43305535870937795,
           0.5041223049849722,
           0.5630861688097548,
           0.6305980146889419,
           0.6974777877346946,
           0.7623204091326562,
           0.822475281236245,
           0.8609302763262957,
           0.9034612522819606,
           0.941786408866025,
           0.9818516990518213,
           1.0145850987654355,
           1.0562228161418958,
           1.1160379378254361,
           1.175053943137155,
           1.2213882697558225,
           1.2598755028614204,
           1.2908776683966396,
           1.2990038839318712,
           1.3000890830645682,
           1.2888419541376739,
           1.2725224860306081,
           1.2472174125088917,
           1.236464694986299,
           1.2153661392835071,
           1.1921729910195733,
           1.1679301672685025,
           1.1625842384906975,
           1.1606664727611005,
           1.1501582832459238,
           1.1311734902546864,
           1.091016191971446,
           1.0409862647576495,
           0.9842790011698098,
           0.9366869589083893,
           0.8975806899586257,
           0.8471828576067182,
           0.8097538405741239,
           0.7693426765482231,
           0.7283954768658081,
           0.6872946672408589,
           0.6445690440873735,
           0.5965474036652677,
           0.5375001171629437,
           0.48779283000574736,
           0.42714627364162866,
           0.37230736218931143,
           0.3197750903813858,
           0.26627667036042035,
           0.2450961221813619,
           0.21796436739543623,
           0.1970873019764207,
           0.1808971925603788,
           0.16475545247559534,
           0.13969813332909886,
           0.12455307670216603,
           0.10667821093290207,
           0.0817290553421924,
           0.05664861179390773,
           0.04097366058598363,
           0.01898041707393325,
           0.01272935096309093,
           0.038565477362181,
           0.07487258860009993,
           0.08991476068712224,
           0.10885406798774082,
           0.13732067687277855,
           0.17273985862293068,
           0.19674811729245745,
           0.22593967372076046
          ],
          "coloraxis": "coloraxis",
          "symbol": "circle"
         },
         "mode": "markers",
         "name": "",
         "orientation": "v",
         "showlegend": false,
         "type": "scatter",
         "x": [
          "2021-01-01T00:00:00",
          "2021-01-02T00:00:00",
          "2021-01-03T00:00:00",
          "2021-01-04T00:00:00",
          "2021-01-05T00:00:00",
          "2021-01-06T00:00:00",
          "2021-01-07T00:00:00",
          "2021-01-08T00:00:00",
          "2021-01-09T00:00:00",
          "2021-01-10T00:00:00",
          "2021-01-11T00:00:00",
          "2021-01-12T00:00:00",
          "2021-01-13T00:00:00",
          "2021-01-14T00:00:00",
          "2021-01-15T00:00:00",
          "2021-01-16T00:00:00",
          "2021-01-17T00:00:00",
          "2021-01-18T00:00:00",
          "2021-01-19T00:00:00",
          "2021-01-20T00:00:00",
          "2021-01-21T00:00:00",
          "2021-01-22T00:00:00",
          "2021-01-23T00:00:00",
          "2021-01-24T00:00:00",
          "2021-01-25T00:00:00",
          "2021-01-26T00:00:00",
          "2021-01-27T00:00:00",
          "2021-01-28T00:00:00",
          "2021-01-29T00:00:00",
          "2021-01-30T00:00:00",
          "2021-01-31T00:00:00",
          "2021-02-01T00:00:00",
          "2021-02-02T00:00:00",
          "2021-02-03T00:00:00",
          "2021-02-04T00:00:00",
          "2021-02-05T00:00:00",
          "2021-02-06T00:00:00",
          "2021-02-07T00:00:00",
          "2021-02-08T00:00:00",
          "2021-02-09T00:00:00",
          "2021-02-10T00:00:00",
          "2021-02-11T00:00:00",
          "2021-02-12T00:00:00",
          "2021-02-13T00:00:00",
          "2021-02-14T00:00:00",
          "2021-02-15T00:00:00",
          "2021-02-16T00:00:00",
          "2021-02-17T00:00:00",
          "2021-02-18T00:00:00",
          "2021-02-19T00:00:00",
          "2021-02-20T00:00:00",
          "2021-02-21T00:00:00",
          "2021-02-22T00:00:00",
          "2021-02-23T00:00:00",
          "2021-02-24T00:00:00",
          "2021-02-25T00:00:00",
          "2021-02-26T00:00:00",
          "2021-02-27T00:00:00",
          "2021-02-28T00:00:00",
          "2021-03-01T00:00:00",
          "2021-03-02T00:00:00",
          "2021-03-03T00:00:00",
          "2021-03-04T00:00:00",
          "2021-03-05T00:00:00",
          "2021-03-06T00:00:00",
          "2021-03-07T00:00:00",
          "2021-03-08T00:00:00",
          "2021-03-09T00:00:00",
          "2021-03-10T00:00:00",
          "2021-03-11T00:00:00",
          "2021-03-12T00:00:00",
          "2021-03-13T00:00:00",
          "2021-03-14T00:00:00",
          "2021-03-15T00:00:00",
          "2021-03-16T00:00:00",
          "2021-03-17T00:00:00",
          "2021-03-18T00:00:00",
          "2021-03-19T00:00:00",
          "2021-03-20T00:00:00",
          "2021-03-21T00:00:00",
          "2021-03-22T00:00:00",
          "2021-03-23T00:00:00",
          "2021-03-24T00:00:00",
          "2021-03-25T00:00:00",
          "2021-03-26T00:00:00",
          "2021-03-27T00:00:00",
          "2021-03-28T00:00:00",
          "2021-03-29T00:00:00",
          "2021-03-30T00:00:00",
          "2021-03-31T00:00:00",
          "2021-04-01T00:00:00",
          "2021-04-02T00:00:00",
          "2021-04-03T00:00:00",
          "2021-04-04T00:00:00",
          "2021-04-05T00:00:00",
          "2021-04-06T00:00:00",
          "2021-04-07T00:00:00",
          "2021-04-08T00:00:00",
          "2021-04-09T00:00:00",
          "2021-04-10T00:00:00",
          "2021-04-11T00:00:00",
          "2021-04-12T00:00:00",
          "2021-04-13T00:00:00",
          "2021-04-14T00:00:00",
          "2021-04-15T00:00:00",
          "2021-04-16T00:00:00",
          "2021-04-17T00:00:00",
          "2021-04-18T00:00:00",
          "2021-04-19T00:00:00",
          "2021-04-20T00:00:00",
          "2021-04-21T00:00:00",
          "2021-04-22T00:00:00",
          "2021-04-23T00:00:00",
          "2021-04-24T00:00:00",
          "2021-04-25T00:00:00",
          "2021-04-26T00:00:00",
          "2021-04-27T00:00:00",
          "2021-04-28T00:00:00",
          "2021-04-29T00:00:00",
          "2021-04-30T00:00:00",
          "2021-05-01T00:00:00",
          "2021-05-02T00:00:00",
          "2021-05-03T00:00:00",
          "2021-05-04T00:00:00",
          "2021-05-05T00:00:00",
          "2021-05-06T00:00:00",
          "2021-05-07T00:00:00",
          "2021-05-08T00:00:00",
          "2021-05-09T00:00:00",
          "2021-05-10T00:00:00",
          "2021-05-11T00:00:00",
          "2021-05-12T00:00:00",
          "2021-05-13T00:00:00",
          "2021-05-14T00:00:00",
          "2021-05-15T00:00:00",
          "2021-05-16T00:00:00",
          "2021-05-17T00:00:00",
          "2021-05-18T00:00:00",
          "2021-05-19T00:00:00",
          "2021-05-20T00:00:00",
          "2021-05-21T00:00:00",
          "2021-05-22T00:00:00",
          "2021-05-23T00:00:00",
          "2021-05-24T00:00:00",
          "2021-05-25T00:00:00",
          "2021-05-26T00:00:00",
          "2021-05-27T00:00:00",
          "2021-05-28T00:00:00",
          "2021-05-29T00:00:00",
          "2021-05-30T00:00:00",
          "2021-05-31T00:00:00",
          "2021-06-01T00:00:00",
          "2021-06-02T00:00:00",
          "2021-06-03T00:00:00",
          "2021-06-04T00:00:00",
          "2021-06-05T00:00:00",
          "2021-06-06T00:00:00",
          "2021-06-07T00:00:00",
          "2021-06-08T00:00:00",
          "2021-06-09T00:00:00",
          "2021-06-10T00:00:00",
          "2021-06-11T00:00:00",
          "2021-06-12T00:00:00",
          "2021-06-13T00:00:00",
          "2021-06-14T00:00:00",
          "2021-06-15T00:00:00",
          "2021-06-16T00:00:00",
          "2021-06-17T00:00:00",
          "2021-06-18T00:00:00",
          "2021-06-19T00:00:00",
          "2021-06-20T00:00:00",
          "2021-06-21T00:00:00",
          "2021-06-22T00:00:00",
          "2021-06-23T00:00:00",
          "2021-06-24T00:00:00",
          "2021-06-25T00:00:00",
          "2021-06-26T00:00:00",
          "2021-06-27T00:00:00",
          "2021-06-28T00:00:00",
          "2021-06-29T00:00:00",
          "2021-06-30T00:00:00",
          "2021-07-01T00:00:00",
          "2021-07-02T00:00:00",
          "2021-07-03T00:00:00",
          "2021-07-04T00:00:00",
          "2021-07-05T00:00:00",
          "2021-07-06T00:00:00",
          "2021-07-07T00:00:00",
          "2021-07-08T00:00:00",
          "2021-07-09T00:00:00",
          "2021-07-10T00:00:00",
          "2021-07-11T00:00:00",
          "2021-07-12T00:00:00",
          "2021-07-13T00:00:00",
          "2021-07-14T00:00:00",
          "2021-07-15T00:00:00",
          "2021-07-16T00:00:00",
          "2021-07-17T00:00:00",
          "2021-07-18T00:00:00",
          "2021-07-19T00:00:00",
          "2021-07-20T00:00:00",
          "2021-07-21T00:00:00",
          "2021-07-22T00:00:00",
          "2021-07-23T00:00:00",
          "2021-07-24T00:00:00",
          "2021-07-25T00:00:00",
          "2021-07-26T00:00:00",
          "2021-07-27T00:00:00",
          "2021-07-28T00:00:00",
          "2021-07-29T00:00:00",
          "2021-07-30T00:00:00",
          "2021-07-31T00:00:00",
          "2021-08-01T00:00:00",
          "2021-08-02T00:00:00",
          "2021-08-03T00:00:00",
          "2021-08-04T00:00:00",
          "2021-08-05T00:00:00",
          "2021-08-06T00:00:00",
          "2021-08-07T00:00:00",
          "2021-08-08T00:00:00",
          "2021-08-09T00:00:00",
          "2021-08-10T00:00:00",
          "2021-08-11T00:00:00",
          "2021-08-12T00:00:00",
          "2021-08-13T00:00:00",
          "2021-08-14T00:00:00",
          "2021-08-15T00:00:00",
          "2021-08-16T00:00:00",
          "2021-08-17T00:00:00",
          "2021-08-18T00:00:00",
          "2021-08-19T00:00:00",
          "2021-08-20T00:00:00",
          "2021-08-21T00:00:00",
          "2021-08-22T00:00:00",
          "2021-08-23T00:00:00",
          "2021-08-24T00:00:00",
          "2021-08-25T00:00:00",
          "2021-08-26T00:00:00",
          "2021-08-27T00:00:00",
          "2021-08-28T00:00:00",
          "2021-08-29T00:00:00",
          "2021-08-30T00:00:00",
          "2021-08-31T00:00:00",
          "2021-09-01T00:00:00",
          "2021-09-02T00:00:00",
          "2021-09-03T00:00:00",
          "2021-09-04T00:00:00",
          "2021-09-05T00:00:00",
          "2021-09-06T00:00:00",
          "2021-09-07T00:00:00",
          "2021-09-08T00:00:00",
          "2021-09-09T00:00:00",
          "2021-09-10T00:00:00",
          "2021-09-11T00:00:00",
          "2021-09-12T00:00:00",
          "2021-09-13T00:00:00",
          "2021-09-14T00:00:00",
          "2021-09-15T00:00:00",
          "2021-09-16T00:00:00",
          "2021-09-17T00:00:00",
          "2021-09-18T00:00:00",
          "2021-09-19T00:00:00",
          "2021-09-20T00:00:00",
          "2021-09-21T00:00:00",
          "2021-09-22T00:00:00",
          "2021-09-23T00:00:00",
          "2021-09-24T00:00:00",
          "2021-09-25T00:00:00",
          "2021-09-26T00:00:00",
          "2021-09-27T00:00:00",
          "2021-09-28T00:00:00",
          "2021-09-29T00:00:00",
          "2021-09-30T00:00:00",
          "2021-10-01T00:00:00",
          "2021-10-02T00:00:00",
          "2021-10-03T00:00:00",
          "2021-10-04T00:00:00",
          "2021-10-05T00:00:00",
          "2021-10-06T00:00:00",
          "2021-10-07T00:00:00",
          "2021-10-08T00:00:00",
          "2021-10-09T00:00:00",
          "2021-10-10T00:00:00",
          "2021-10-11T00:00:00",
          "2021-10-12T00:00:00",
          "2021-10-13T00:00:00",
          "2021-10-14T00:00:00",
          "2021-10-15T00:00:00",
          "2021-10-16T00:00:00",
          "2021-10-17T00:00:00",
          "2021-10-18T00:00:00",
          "2021-10-19T00:00:00",
          "2021-10-20T00:00:00",
          "2021-10-21T00:00:00",
          "2021-10-22T00:00:00",
          "2021-10-23T00:00:00",
          "2021-10-24T00:00:00",
          "2021-10-25T00:00:00",
          "2021-10-26T00:00:00",
          "2021-10-27T00:00:00"
         ],
         "xaxis": "x",
         "y": [
          14815760.82359767,
          43435340.81148489,
          91306813.12580766,
          144335741.863626,
          97767941.21622905,
          90783577.09251615,
          101909889.60730638,
          110145665.54988752,
          52609912.655515455,
          94982241.8958368,
          202735034.81718925,
          72781508.48320682,
          45356924.10778218,
          57678864.194238685,
          69467162.4916685,
          43988947.55217124,
          40178258.88542441,
          33945789.47797802,
          89987819.10188589,
          77526374.1432279,
          77552215.98532915,
          60207740.628640935,
          21491302.71470941,
          48736537.493990764,
          73804233.9018264,
          49338511.37036413,
          61272789.03763371,
          42752630.09936987,
          96432299.84019001,
          27680155.717399623,
          29452680.216924995,
          29790216.922188215,
          90673949.1855825,
          77717659.79528022,
          81113544.00753407,
          71611266.39707798,
          45706072.7231505,
          66425966.009844355,
          85509969.05485578,
          71985161.18441744,
          70969155.46044134,
          44255417.74842246,
          52248399.25991082,
          32779196.911298513,
          28205894.50601434,
          53089442.15725509,
          43228618.33686917,
          42573419.6277133,
          45918527.81471652,
          34888461.02490552,
          61908890.503087796,
          35193091.29679234,
          145823297.00596172,
          171514833.25239438,
          66190714.89977994,
          34301075.707542464,
          46759899.99058084,
          20794714.624342963,
          43626858.328602985,
          35189932.58280825,
          33982972.3245297,
          34525895.42685653,
          29775604.350736424,
          28092175.627387688,
          32956438.1957476,
          29952208.236184876,
          38892798.73445904,
          34896713.81882739,
          39050142.64608217,
          41243690.54823173,
          37818679.96890991,
          41553446.116384074,
          25151293.425501056,
          49209018.18204003,
          32720318.63961816,
          26805684.00019029,
          25728580.940137953,
          22337844.983599927,
          19868594.296399765,
          27895710.7448536,
          36003189.0109808,
          30880111.618232418,
          36890764.45897608,
          42478921.106871456,
          17658366.799401265,
          13640921.750964414,
          11447350.141727127,
          31516804.076243438,
          19106164.957136106,
          42078791.52236699,
          28028383.834250785,
          39647448.17516494,
          28009722.91918776,
          18191250.270768195,
          22873977.02251348,
          31833389.77319622,
          47819843.20977427,
          21532193.624480285,
          15507054.209093895,
          28580326.388956092,
          14391308.951767085,
          27588867.58324331,
          45054010.77469336,
          63902190.26774115,
          38488505.08567939,
          68175348.54387307,
          34698528.19280492,
          120447367.48413888,
          60396098.75646401,
          60240679.31728317,
          55827760.32729968,
          109601326.17716563,
          147239392.76109558,
          40626911.073707044,
          45057525.89730921,
          63759918.39122362,
          52857172.25938392,
          65153562.59145415,
          51832672.82830779,
          41579403.86925,
          63279113.85748875,
          47104130.82125576,
          151350407.16164067,
          217149884.726204,
          128540572.94946587,
          96430224.60057274,
          68404046.51470615,
          120754314.3986247,
          97775813.49832429,
          202447935.41968927,
          140038644.6064632,
          172285610.7111152,
          234970520.47742018,
          114609134.05352767,
          116690885.41186534,
          158289730.6247515,
          197148629.47402653,
          135782180.02959597,
          359682818.87205017,
          240587800.80473587,
          172868700.4441916,
          121803638.1110915,
          184251436.3099989,
          206690154.66386262,
          208409019.8477537,
          149929318.08349487,
          85630269.33817026,
          208915643.5084519,
          126342369.25261879,
          60858590.1931486,
          91290109.43411198,
          59748576.76548275,
          42721616.070721485,
          54340149.36630254,
          65873737.650738254,
          41943841.23741873,
          26431501.32257242,
          46168816.01991251,
          101531399.75313674,
          53101686.605925635,
          27809497.698978767,
          22477567.544695448,
          28359862.170716964,
          29531066.34040449,
          24868993.28473129,
          23004751.706520647,
          28173941.117058847,
          20834969.17201655,
          29675154.160908226,
          14743337.973412864,
          42039967.99798703,
          88814091.35470933,
          80346976.63780725,
          35071237.31467288,
          17854360.248454623,
          28564107.1632712,
          28122713.30706451,
          15990550.352143044,
          32445247.628316082,
          25077556.15702647,
          34563736.42927924,
          31124831.62812502,
          28081721.42681416,
          17102570.73949923,
          25695451.149853684,
          27941738.299025457,
          34292216.285367176,
          31130125.182744462,
          39574932.22439611,
          33168385.93682674,
          17572043.748600453,
          11509601.441919642,
          22677920.50067228,
          25201612.066212293,
          28846129.683523584,
          25493607.345456522,
          22333471.455081202,
          13482979.517094966,
          17442170.37460968,
          28962432.880331844,
          32139951.268587053,
          43042635.02994888,
          30062497.51580991,
          33374475.40746599,
          28619115.678665675,
          23709342.31442775,
          90041388.18713248,
          55129498.39089192,
          49892596.74842272,
          25124145.32247367,
          58105193.78339739,
          35762940.30255686,
          56325838.23431442,
          59133218.20543448,
          52565261.819222465,
          62515174.345844656,
          105284570.1535906,
          63676893.78797691,
          116058759.90092005,
          98440747.65853406,
          101698811.78499553,
          73909163.60268097,
          51477942.91454773,
          112370531.7030712,
          55506713.91862751,
          36369243.99127913,
          44693642.76986602,
          47172905.90271621,
          70197033.37338443,
          46823256.74940496,
          48471203.090897694,
          44028243.970024414,
          27799538.53051223,
          30374486.027266428,
          49040853.980772324,
          49856261.743879154,
          40339187.57144227,
          39422255.19873052,
          39722796.71226519,
          18997154.260327086,
          24987522.205748063,
          42633049.64592475,
          65125893.35630009,
          99991541.49616984,
          70227627.4037459,
          83622828.2802716,
          53841131.93464047,
          44724940.49827463,
          46802937.64018174,
          197669331.79653388,
          156593673.21273482,
          98451888.58372055,
          63207776.897391245,
          62011994.918188974,
          56686051.634776026,
          72070336.61710504,
          37327810.70934535,
          44410383.04702721,
          50735377.99875037,
          37254166.66971297,
          27106465.861264814,
          24629253.241499297,
          114913852.04945633,
          100425632.91096371,
          83388713.52002709,
          57564483.08564975,
          108677776.99526846,
          39255902.36970364,
          51954511.580315314,
          44402888.11657324,
          40301188.15078604,
          26436843.51577394,
          42778933.15318487,
          56264205.880578,
          35935642.50028291,
          31324913.338291597,
          46472532.12605793,
          41080711.079998866,
          76329243.38564892,
          49372552.43459915,
          39581008.76518394,
          27929349.152501356,
          25619311.883986387,
          39093388.22313523,
          43790411.66412958,
          42276543.83347167,
          61982342.7525407,
          57339580.25642261,
          32112476.786046878,
          31529902.39156627,
          49367344.585166566,
          46762028.92477661,
          73087242.6081251,
          104714308.68030089,
          53715873.60545843,
          35659931.46024061,
          35882519.71056681,
          42600574.89176235,
          44399490.99192847,
          33337476.16551063
         ],
         "yaxis": "y"
        }
       ],
       "layout": {
        "coloraxis": {
         "colorbar": {
          "title": {
           "text": "risk_indicator_normalized"
          }
         },
         "colorscale": [
          [
           0,
           "rgb(5,48,97)"
          ],
          [
           0.1,
           "rgb(33,102,172)"
          ],
          [
           0.2,
           "rgb(67,147,195)"
          ],
          [
           0.3,
           "rgb(146,197,222)"
          ],
          [
           0.4,
           "rgb(209,229,240)"
          ],
          [
           0.5,
           "rgb(247,247,247)"
          ],
          [
           0.6,
           "rgb(253,219,199)"
          ],
          [
           0.7,
           "rgb(244,165,130)"
          ],
          [
           0.8,
           "rgb(214,96,77)"
          ],
          [
           0.9,
           "rgb(178,24,43)"
          ],
          [
           1,
           "rgb(103,0,31)"
          ]
         ]
        },
        "legend": {
         "tracegroupgap": 0
        },
        "margin": {
         "t": 60
        },
        "template": {
         "data": {
          "bar": [
           {
            "error_x": {
             "color": "#2a3f5f"
            },
            "error_y": {
             "color": "#2a3f5f"
            },
            "marker": {
             "line": {
              "color": "#E5ECF6",
              "width": 0.5
             },
             "pattern": {
              "fillmode": "overlay",
              "size": 10,
              "solidity": 0.2
             }
            },
            "type": "bar"
           }
          ],
          "barpolar": [
           {
            "marker": {
             "line": {
              "color": "#E5ECF6",
              "width": 0.5
             },
             "pattern": {
              "fillmode": "overlay",
              "size": 10,
              "solidity": 0.2
             }
            },
            "type": "barpolar"
           }
          ],
          "carpet": [
           {
            "aaxis": {
             "endlinecolor": "#2a3f5f",
             "gridcolor": "white",
             "linecolor": "white",
             "minorgridcolor": "white",
             "startlinecolor": "#2a3f5f"
            },
            "baxis": {
             "endlinecolor": "#2a3f5f",
             "gridcolor": "white",
             "linecolor": "white",
             "minorgridcolor": "white",
             "startlinecolor": "#2a3f5f"
            },
            "type": "carpet"
           }
          ],
          "choropleth": [
           {
            "colorbar": {
             "outlinewidth": 0,
             "ticks": ""
            },
            "type": "choropleth"
           }
          ],
          "contour": [
           {
            "colorbar": {
             "outlinewidth": 0,
             "ticks": ""
            },
            "colorscale": [
             [
              0,
              "#0d0887"
             ],
             [
              0.1111111111111111,
              "#46039f"
             ],
             [
              0.2222222222222222,
              "#7201a8"
             ],
             [
              0.3333333333333333,
              "#9c179e"
             ],
             [
              0.4444444444444444,
              "#bd3786"
             ],
             [
              0.5555555555555556,
              "#d8576b"
             ],
             [
              0.6666666666666666,
              "#ed7953"
             ],
             [
              0.7777777777777778,
              "#fb9f3a"
             ],
             [
              0.8888888888888888,
              "#fdca26"
             ],
             [
              1,
              "#f0f921"
             ]
            ],
            "type": "contour"
           }
          ],
          "contourcarpet": [
           {
            "colorbar": {
             "outlinewidth": 0,
             "ticks": ""
            },
            "type": "contourcarpet"
           }
          ],
          "heatmap": [
           {
            "colorbar": {
             "outlinewidth": 0,
             "ticks": ""
            },
            "colorscale": [
             [
              0,
              "#0d0887"
             ],
             [
              0.1111111111111111,
              "#46039f"
             ],
             [
              0.2222222222222222,
              "#7201a8"
             ],
             [
              0.3333333333333333,
              "#9c179e"
             ],
             [
              0.4444444444444444,
              "#bd3786"
             ],
             [
              0.5555555555555556,
              "#d8576b"
             ],
             [
              0.6666666666666666,
              "#ed7953"
             ],
             [
              0.7777777777777778,
              "#fb9f3a"
             ],
             [
              0.8888888888888888,
              "#fdca26"
             ],
             [
              1,
              "#f0f921"
             ]
            ],
            "type": "heatmap"
           }
          ],
          "heatmapgl": [
           {
            "colorbar": {
             "outlinewidth": 0,
             "ticks": ""
            },
            "colorscale": [
             [
              0,
              "#0d0887"
             ],
             [
              0.1111111111111111,
              "#46039f"
             ],
             [
              0.2222222222222222,
              "#7201a8"
             ],
             [
              0.3333333333333333,
              "#9c179e"
             ],
             [
              0.4444444444444444,
              "#bd3786"
             ],
             [
              0.5555555555555556,
              "#d8576b"
             ],
             [
              0.6666666666666666,
              "#ed7953"
             ],
             [
              0.7777777777777778,
              "#fb9f3a"
             ],
             [
              0.8888888888888888,
              "#fdca26"
             ],
             [
              1,
              "#f0f921"
             ]
            ],
            "type": "heatmapgl"
           }
          ],
          "histogram": [
           {
            "marker": {
             "pattern": {
              "fillmode": "overlay",
              "size": 10,
              "solidity": 0.2
             }
            },
            "type": "histogram"
           }
          ],
          "histogram2d": [
           {
            "colorbar": {
             "outlinewidth": 0,
             "ticks": ""
            },
            "colorscale": [
             [
              0,
              "#0d0887"
             ],
             [
              0.1111111111111111,
              "#46039f"
             ],
             [
              0.2222222222222222,
              "#7201a8"
             ],
             [
              0.3333333333333333,
              "#9c179e"
             ],
             [
              0.4444444444444444,
              "#bd3786"
             ],
             [
              0.5555555555555556,
              "#d8576b"
             ],
             [
              0.6666666666666666,
              "#ed7953"
             ],
             [
              0.7777777777777778,
              "#fb9f3a"
             ],
             [
              0.8888888888888888,
              "#fdca26"
             ],
             [
              1,
              "#f0f921"
             ]
            ],
            "type": "histogram2d"
           }
          ],
          "histogram2dcontour": [
           {
            "colorbar": {
             "outlinewidth": 0,
             "ticks": ""
            },
            "colorscale": [
             [
              0,
              "#0d0887"
             ],
             [
              0.1111111111111111,
              "#46039f"
             ],
             [
              0.2222222222222222,
              "#7201a8"
             ],
             [
              0.3333333333333333,
              "#9c179e"
             ],
             [
              0.4444444444444444,
              "#bd3786"
             ],
             [
              0.5555555555555556,
              "#d8576b"
             ],
             [
              0.6666666666666666,
              "#ed7953"
             ],
             [
              0.7777777777777778,
              "#fb9f3a"
             ],
             [
              0.8888888888888888,
              "#fdca26"
             ],
             [
              1,
              "#f0f921"
             ]
            ],
            "type": "histogram2dcontour"
           }
          ],
          "mesh3d": [
           {
            "colorbar": {
             "outlinewidth": 0,
             "ticks": ""
            },
            "type": "mesh3d"
           }
          ],
          "parcoords": [
           {
            "line": {
             "colorbar": {
              "outlinewidth": 0,
              "ticks": ""
             }
            },
            "type": "parcoords"
           }
          ],
          "pie": [
           {
            "automargin": true,
            "type": "pie"
           }
          ],
          "scatter": [
           {
            "marker": {
             "colorbar": {
              "outlinewidth": 0,
              "ticks": ""
             }
            },
            "type": "scatter"
           }
          ],
          "scatter3d": [
           {
            "line": {
             "colorbar": {
              "outlinewidth": 0,
              "ticks": ""
             }
            },
            "marker": {
             "colorbar": {
              "outlinewidth": 0,
              "ticks": ""
             }
            },
            "type": "scatter3d"
           }
          ],
          "scattercarpet": [
           {
            "marker": {
             "colorbar": {
              "outlinewidth": 0,
              "ticks": ""
             }
            },
            "type": "scattercarpet"
           }
          ],
          "scattergeo": [
           {
            "marker": {
             "colorbar": {
              "outlinewidth": 0,
              "ticks": ""
             }
            },
            "type": "scattergeo"
           }
          ],
          "scattergl": [
           {
            "marker": {
             "colorbar": {
              "outlinewidth": 0,
              "ticks": ""
             }
            },
            "type": "scattergl"
           }
          ],
          "scattermapbox": [
           {
            "marker": {
             "colorbar": {
              "outlinewidth": 0,
              "ticks": ""
             }
            },
            "type": "scattermapbox"
           }
          ],
          "scatterpolar": [
           {
            "marker": {
             "colorbar": {
              "outlinewidth": 0,
              "ticks": ""
             }
            },
            "type": "scatterpolar"
           }
          ],
          "scatterpolargl": [
           {
            "marker": {
             "colorbar": {
              "outlinewidth": 0,
              "ticks": ""
             }
            },
            "type": "scatterpolargl"
           }
          ],
          "scatterternary": [
           {
            "marker": {
             "colorbar": {
              "outlinewidth": 0,
              "ticks": ""
             }
            },
            "type": "scatterternary"
           }
          ],
          "surface": [
           {
            "colorbar": {
             "outlinewidth": 0,
             "ticks": ""
            },
            "colorscale": [
             [
              0,
              "#0d0887"
             ],
             [
              0.1111111111111111,
              "#46039f"
             ],
             [
              0.2222222222222222,
              "#7201a8"
             ],
             [
              0.3333333333333333,
              "#9c179e"
             ],
             [
              0.4444444444444444,
              "#bd3786"
             ],
             [
              0.5555555555555556,
              "#d8576b"
             ],
             [
              0.6666666666666666,
              "#ed7953"
             ],
             [
              0.7777777777777778,
              "#fb9f3a"
             ],
             [
              0.8888888888888888,
              "#fdca26"
             ],
             [
              1,
              "#f0f921"
             ]
            ],
            "type": "surface"
           }
          ],
          "table": [
           {
            "cells": {
             "fill": {
              "color": "#EBF0F8"
             },
             "line": {
              "color": "white"
             }
            },
            "header": {
             "fill": {
              "color": "#C8D4E3"
             },
             "line": {
              "color": "white"
             }
            },
            "type": "table"
           }
          ]
         },
         "layout": {
          "annotationdefaults": {
           "arrowcolor": "#2a3f5f",
           "arrowhead": 0,
           "arrowwidth": 1
          },
          "autotypenumbers": "strict",
          "coloraxis": {
           "colorbar": {
            "outlinewidth": 0,
            "ticks": ""
           }
          },
          "colorscale": {
           "diverging": [
            [
             0,
             "#8e0152"
            ],
            [
             0.1,
             "#c51b7d"
            ],
            [
             0.2,
             "#de77ae"
            ],
            [
             0.3,
             "#f1b6da"
            ],
            [
             0.4,
             "#fde0ef"
            ],
            [
             0.5,
             "#f7f7f7"
            ],
            [
             0.6,
             "#e6f5d0"
            ],
            [
             0.7,
             "#b8e186"
            ],
            [
             0.8,
             "#7fbc41"
            ],
            [
             0.9,
             "#4d9221"
            ],
            [
             1,
             "#276419"
            ]
           ],
           "sequential": [
            [
             0,
             "#0d0887"
            ],
            [
             0.1111111111111111,
             "#46039f"
            ],
            [
             0.2222222222222222,
             "#7201a8"
            ],
            [
             0.3333333333333333,
             "#9c179e"
            ],
            [
             0.4444444444444444,
             "#bd3786"
            ],
            [
             0.5555555555555556,
             "#d8576b"
            ],
            [
             0.6666666666666666,
             "#ed7953"
            ],
            [
             0.7777777777777778,
             "#fb9f3a"
            ],
            [
             0.8888888888888888,
             "#fdca26"
            ],
            [
             1,
             "#f0f921"
            ]
           ],
           "sequentialminus": [
            [
             0,
             "#0d0887"
            ],
            [
             0.1111111111111111,
             "#46039f"
            ],
            [
             0.2222222222222222,
             "#7201a8"
            ],
            [
             0.3333333333333333,
             "#9c179e"
            ],
            [
             0.4444444444444444,
             "#bd3786"
            ],
            [
             0.5555555555555556,
             "#d8576b"
            ],
            [
             0.6666666666666666,
             "#ed7953"
            ],
            [
             0.7777777777777778,
             "#fb9f3a"
            ],
            [
             0.8888888888888888,
             "#fdca26"
            ],
            [
             1,
             "#f0f921"
            ]
           ]
          },
          "colorway": [
           "#636efa",
           "#EF553B",
           "#00cc96",
           "#ab63fa",
           "#FFA15A",
           "#19d3f3",
           "#FF6692",
           "#B6E880",
           "#FF97FF",
           "#FECB52"
          ],
          "font": {
           "color": "#2a3f5f"
          },
          "geo": {
           "bgcolor": "white",
           "lakecolor": "white",
           "landcolor": "#E5ECF6",
           "showlakes": true,
           "showland": true,
           "subunitcolor": "white"
          },
          "hoverlabel": {
           "align": "left"
          },
          "hovermode": "closest",
          "mapbox": {
           "style": "light"
          },
          "paper_bgcolor": "white",
          "plot_bgcolor": "#E5ECF6",
          "polar": {
           "angularaxis": {
            "gridcolor": "white",
            "linecolor": "white",
            "ticks": ""
           },
           "bgcolor": "#E5ECF6",
           "radialaxis": {
            "gridcolor": "white",
            "linecolor": "white",
            "ticks": ""
           }
          },
          "scene": {
           "xaxis": {
            "backgroundcolor": "#E5ECF6",
            "gridcolor": "white",
            "gridwidth": 2,
            "linecolor": "white",
            "showbackground": true,
            "ticks": "",
            "zerolinecolor": "white"
           },
           "yaxis": {
            "backgroundcolor": "#E5ECF6",
            "gridcolor": "white",
            "gridwidth": 2,
            "linecolor": "white",
            "showbackground": true,
            "ticks": "",
            "zerolinecolor": "white"
           },
           "zaxis": {
            "backgroundcolor": "#E5ECF6",
            "gridcolor": "white",
            "gridwidth": 2,
            "linecolor": "white",
            "showbackground": true,
            "ticks": "",
            "zerolinecolor": "white"
           }
          },
          "shapedefaults": {
           "line": {
            "color": "#2a3f5f"
           }
          },
          "ternary": {
           "aaxis": {
            "gridcolor": "white",
            "linecolor": "white",
            "ticks": ""
           },
           "baxis": {
            "gridcolor": "white",
            "linecolor": "white",
            "ticks": ""
           },
           "bgcolor": "#E5ECF6",
           "caxis": {
            "gridcolor": "white",
            "linecolor": "white",
            "ticks": ""
           }
          },
          "title": {
           "x": 0.05
          },
          "xaxis": {
           "automargin": true,
           "gridcolor": "white",
           "linecolor": "white",
           "ticks": "",
           "title": {
            "standoff": 15
           },
           "zerolinecolor": "white",
           "zerolinewidth": 2
          },
          "yaxis": {
           "automargin": true,
           "gridcolor": "white",
           "linecolor": "white",
           "ticks": "",
           "title": {
            "standoff": 15
           },
           "zerolinecolor": "white",
           "zerolinewidth": 2
          }
         }
        },
        "xaxis": {
         "anchor": "y",
         "domain": [
          0,
          1
         ],
         "title": {
          "text": "datetime"
         }
        },
        "yaxis": {
         "anchor": "x",
         "domain": [
          0,
          1
         ],
         "title": {
          "text": "vol_fiat"
         }
        }
       }
      },
      "text/html": [
       "<div>                            <div id=\"d3d74544-4bbc-41ec-830a-f95063b3334c\" class=\"plotly-graph-div\" style=\"height:525px; width:100%;\"></div>            <script type=\"text/javascript\">                require([\"plotly\"], function(Plotly) {                    window.PLOTLYENV=window.PLOTLYENV || {};                                    if (document.getElementById(\"d3d74544-4bbc-41ec-830a-f95063b3334c\")) {                    Plotly.newPlot(                        \"d3d74544-4bbc-41ec-830a-f95063b3334c\",                        [{\"hovertemplate\":\"datetime=%{x}<br>vol_fiat=%{y}<br>risk_indicator_normalized=%{marker.color}<extra></extra>\",\"legendgroup\":\"\",\"marker\":{\"color\":[-1.665460251647229,-1.665460251647229,-1.665460251647229,-1.665460251647229,-1.665460251647229,-1.665460251647229,-1.665460251647229,-1.665460251647229,-1.665460251647229,-1.665460251647229,-1.665460251647229,-1.665460251647229,-1.665460251647229,-1.665460251647229,-1.665460251647229,-1.665460251647229,-1.665460251647229,-1.665460251647229,-1.665460251647229,-1.665460251647229,-1.665460251647229,-1.665460251647229,-1.665460251647229,-1.665460251647229,-1.665460251647229,-1.665460251647229,-1.665460251647229,-1.665460251647229,-1.665460251647229,-1.665460251647229,-1.5935125018290761,-1.517133595795297,-1.4436742140908774,-1.3643579998231927,-1.2992511252864232,-1.232889003487234,-1.1733084772876128,-1.121994502717013,-1.0601643125925355,-0.9948188373364634,-0.9135478755609482,-0.8228766382417135,-0.734978208039349,-0.6619589779724002,-0.5844270821273302,-0.5175981328338524,-0.4504046134972152,-0.37688743410302705,-0.30604673234275864,-0.23520158460635437,-0.13538942035133683,-0.0486365700000342,0.018001202319591195,0.04062084690792578,0.07729274007036602,0.09166658091831534,0.11731097127123034,0.13440574951446235,0.1401025269368267,0.1651570844556884,0.18716614832133444,0.21157011133228304,0.21641918930470205,0.20133399227497983,0.20867874485178448,0.21135522248570612,0.23299823431614747,0.26727671032533107,0.2752987332668677,0.28517621024919454,0.2908418658386073,0.30609600996149944,0.30963945294195705,0.3097920981226295,0.313599335687159,0.3216198766366484,0.32442973355465327,0.3223430887547861,0.30964538091013816,0.29297148840778825,0.2670973892878435,0.2390477258453083,0.22093481906691512,0.22855374017211183,0.2443443654154258,0.27852502994961686,0.3128272178315263,0.36134467341253396,0.41991448103721696,0.4690499273011377,0.4735119214399415,0.4819571691983304,0.49105409233524394,0.5101167879594388,0.5184204239265957,0.5222312830151137,0.5023247630771669,0.48659342740402844,0.481440719454735,0.4769725508472659,0.4740619211288999,0.45547135759151114,0.45566466237178643,0.4741141318633856,0.49468230656291895,0.5102993178947528,0.5235843559792183,0.527884531718838,0.5305695295229877,0.5470369086651276,0.5653661641862165,0.5915201187653822,0.6232275792826832,0.6504730299272438,0.6694209905173775,0.7017897105475145,0.7396457116431235,0.7713497551899604,0.8015386286026764,0.8255794773557218,0.8523498914772273,0.8645667590040185,0.9209531383674439,0.9665207580061937,1.0222609517626462,1.0790926804009335,1.145835905357114,1.220626213312965,1.3005148487029328,1.3749812542885438,1.4563461618298896,1.52277413180457,1.5709694296023111,1.6227699869651684,1.645149968879937,1.6706852423533554,1.690226707855743,1.7232397193328093,1.7257930148024714,1.7293810015252205,1.7148497012794286,1.6911748654297658,1.6560179920392801,1.6502369382533841,1.6399505146149782,1.6164148193886834,1.5753567024979478,1.5153676036821788,1.4475432353351187,1.3871800199581334,1.324738098379935,1.2625386270299694,1.166445572819022,1.0921664897105297,0.9938973279559592,0.8996563820232749,0.8153522936970782,0.6952725085491218,0.5686692713042183,0.4460450072611702,0.29898708286950965,0.17519007437543796,0.06030578725790868,-0.07439716842853351,-0.1722741507922931,-0.26575291610559015,-0.34521235803590666,-0.4279531875597421,-0.449430833402134,-0.49857203132893213,-0.5220264549882802,-0.5540253865261989,-0.5736634443933716,-0.628267336791547,-0.6822206489709759,-0.7591196121415043,-0.8251754028167251,-0.856835733488374,-0.8727533059375273,-0.8899498728967501,-0.922095018374709,-0.9541363095020058,-0.9920435224603283,-1.036838004263365,-1.063858185356767,-1.0933054838812704,-1.1244571399586312,-1.1444980749799891,-1.1697000355307787,-1.199336667259813,-1.2206995197633344,-1.2333841685427063,-1.2498133914100669,-1.2775555492575794,-1.3063259355138035,-1.33826364088613,-1.3632980901410636,-1.3907462012965754,-1.4110686197987181,-1.4271984012880425,-1.449984627263958,-1.433038235836935,-1.4143512681919646,-1.3999592869754869,-1.3816215728194585,-1.3454644591134286,-1.306073899748036,-1.2724221362960637,-1.2465827613561258,-1.2223429710249372,-1.199011517990923,-1.1592572520257134,-1.1108138481962708,-1.0687073702526106,-1.0328767007756217,-0.9759570054688677,-0.9240567058899254,-0.8580593102470656,-0.76038140442728,-0.6708587695355431,-0.5641259044627382,-0.4675967708010165,-0.36424405043293356,-0.25124299549077733,-0.13928503385897886,-0.026202460856972237,0.08437596226667454,0.18740959156670928,0.25900025155021156,0.3455259115436084,0.43305535870937795,0.5041223049849722,0.5630861688097548,0.6305980146889419,0.6974777877346946,0.7623204091326562,0.822475281236245,0.8609302763262957,0.9034612522819606,0.941786408866025,0.9818516990518213,1.0145850987654355,1.0562228161418958,1.1160379378254361,1.175053943137155,1.2213882697558225,1.2598755028614204,1.2908776683966396,1.2990038839318712,1.3000890830645682,1.2888419541376739,1.2725224860306081,1.2472174125088917,1.236464694986299,1.2153661392835071,1.1921729910195733,1.1679301672685025,1.1625842384906975,1.1606664727611005,1.1501582832459238,1.1311734902546864,1.091016191971446,1.0409862647576495,0.9842790011698098,0.9366869589083893,0.8975806899586257,0.8471828576067182,0.8097538405741239,0.7693426765482231,0.7283954768658081,0.6872946672408589,0.6445690440873735,0.5965474036652677,0.5375001171629437,0.48779283000574736,0.42714627364162866,0.37230736218931143,0.3197750903813858,0.26627667036042035,0.2450961221813619,0.21796436739543623,0.1970873019764207,0.1808971925603788,0.16475545247559534,0.13969813332909886,0.12455307670216603,0.10667821093290207,0.0817290553421924,0.05664861179390773,0.04097366058598363,0.01898041707393325,0.01272935096309093,0.038565477362181,0.07487258860009993,0.08991476068712224,0.10885406798774082,0.13732067687277855,0.17273985862293068,0.19674811729245745,0.22593967372076046],\"coloraxis\":\"coloraxis\",\"symbol\":\"circle\"},\"mode\":\"markers\",\"name\":\"\",\"orientation\":\"v\",\"showlegend\":false,\"type\":\"scatter\",\"x\":[\"2021-01-01T00:00:00\",\"2021-01-02T00:00:00\",\"2021-01-03T00:00:00\",\"2021-01-04T00:00:00\",\"2021-01-05T00:00:00\",\"2021-01-06T00:00:00\",\"2021-01-07T00:00:00\",\"2021-01-08T00:00:00\",\"2021-01-09T00:00:00\",\"2021-01-10T00:00:00\",\"2021-01-11T00:00:00\",\"2021-01-12T00:00:00\",\"2021-01-13T00:00:00\",\"2021-01-14T00:00:00\",\"2021-01-15T00:00:00\",\"2021-01-16T00:00:00\",\"2021-01-17T00:00:00\",\"2021-01-18T00:00:00\",\"2021-01-19T00:00:00\",\"2021-01-20T00:00:00\",\"2021-01-21T00:00:00\",\"2021-01-22T00:00:00\",\"2021-01-23T00:00:00\",\"2021-01-24T00:00:00\",\"2021-01-25T00:00:00\",\"2021-01-26T00:00:00\",\"2021-01-27T00:00:00\",\"2021-01-28T00:00:00\",\"2021-01-29T00:00:00\",\"2021-01-30T00:00:00\",\"2021-01-31T00:00:00\",\"2021-02-01T00:00:00\",\"2021-02-02T00:00:00\",\"2021-02-03T00:00:00\",\"2021-02-04T00:00:00\",\"2021-02-05T00:00:00\",\"2021-02-06T00:00:00\",\"2021-02-07T00:00:00\",\"2021-02-08T00:00:00\",\"2021-02-09T00:00:00\",\"2021-02-10T00:00:00\",\"2021-02-11T00:00:00\",\"2021-02-12T00:00:00\",\"2021-02-13T00:00:00\",\"2021-02-14T00:00:00\",\"2021-02-15T00:00:00\",\"2021-02-16T00:00:00\",\"2021-02-17T00:00:00\",\"2021-02-18T00:00:00\",\"2021-02-19T00:00:00\",\"2021-02-20T00:00:00\",\"2021-02-21T00:00:00\",\"2021-02-22T00:00:00\",\"2021-02-23T00:00:00\",\"2021-02-24T00:00:00\",\"2021-02-25T00:00:00\",\"2021-02-26T00:00:00\",\"2021-02-27T00:00:00\",\"2021-02-28T00:00:00\",\"2021-03-01T00:00:00\",\"2021-03-02T00:00:00\",\"2021-03-03T00:00:00\",\"2021-03-04T00:00:00\",\"2021-03-05T00:00:00\",\"2021-03-06T00:00:00\",\"2021-03-07T00:00:00\",\"2021-03-08T00:00:00\",\"2021-03-09T00:00:00\",\"2021-03-10T00:00:00\",\"2021-03-11T00:00:00\",\"2021-03-12T00:00:00\",\"2021-03-13T00:00:00\",\"2021-03-14T00:00:00\",\"2021-03-15T00:00:00\",\"2021-03-16T00:00:00\",\"2021-03-17T00:00:00\",\"2021-03-18T00:00:00\",\"2021-03-19T00:00:00\",\"2021-03-20T00:00:00\",\"2021-03-21T00:00:00\",\"2021-03-22T00:00:00\",\"2021-03-23T00:00:00\",\"2021-03-24T00:00:00\",\"2021-03-25T00:00:00\",\"2021-03-26T00:00:00\",\"2021-03-27T00:00:00\",\"2021-03-28T00:00:00\",\"2021-03-29T00:00:00\",\"2021-03-30T00:00:00\",\"2021-03-31T00:00:00\",\"2021-04-01T00:00:00\",\"2021-04-02T00:00:00\",\"2021-04-03T00:00:00\",\"2021-04-04T00:00:00\",\"2021-04-05T00:00:00\",\"2021-04-06T00:00:00\",\"2021-04-07T00:00:00\",\"2021-04-08T00:00:00\",\"2021-04-09T00:00:00\",\"2021-04-10T00:00:00\",\"2021-04-11T00:00:00\",\"2021-04-12T00:00:00\",\"2021-04-13T00:00:00\",\"2021-04-14T00:00:00\",\"2021-04-15T00:00:00\",\"2021-04-16T00:00:00\",\"2021-04-17T00:00:00\",\"2021-04-18T00:00:00\",\"2021-04-19T00:00:00\",\"2021-04-20T00:00:00\",\"2021-04-21T00:00:00\",\"2021-04-22T00:00:00\",\"2021-04-23T00:00:00\",\"2021-04-24T00:00:00\",\"2021-04-25T00:00:00\",\"2021-04-26T00:00:00\",\"2021-04-27T00:00:00\",\"2021-04-28T00:00:00\",\"2021-04-29T00:00:00\",\"2021-04-30T00:00:00\",\"2021-05-01T00:00:00\",\"2021-05-02T00:00:00\",\"2021-05-03T00:00:00\",\"2021-05-04T00:00:00\",\"2021-05-05T00:00:00\",\"2021-05-06T00:00:00\",\"2021-05-07T00:00:00\",\"2021-05-08T00:00:00\",\"2021-05-09T00:00:00\",\"2021-05-10T00:00:00\",\"2021-05-11T00:00:00\",\"2021-05-12T00:00:00\",\"2021-05-13T00:00:00\",\"2021-05-14T00:00:00\",\"2021-05-15T00:00:00\",\"2021-05-16T00:00:00\",\"2021-05-17T00:00:00\",\"2021-05-18T00:00:00\",\"2021-05-19T00:00:00\",\"2021-05-20T00:00:00\",\"2021-05-21T00:00:00\",\"2021-05-22T00:00:00\",\"2021-05-23T00:00:00\",\"2021-05-24T00:00:00\",\"2021-05-25T00:00:00\",\"2021-05-26T00:00:00\",\"2021-05-27T00:00:00\",\"2021-05-28T00:00:00\",\"2021-05-29T00:00:00\",\"2021-05-30T00:00:00\",\"2021-05-31T00:00:00\",\"2021-06-01T00:00:00\",\"2021-06-02T00:00:00\",\"2021-06-03T00:00:00\",\"2021-06-04T00:00:00\",\"2021-06-05T00:00:00\",\"2021-06-06T00:00:00\",\"2021-06-07T00:00:00\",\"2021-06-08T00:00:00\",\"2021-06-09T00:00:00\",\"2021-06-10T00:00:00\",\"2021-06-11T00:00:00\",\"2021-06-12T00:00:00\",\"2021-06-13T00:00:00\",\"2021-06-14T00:00:00\",\"2021-06-15T00:00:00\",\"2021-06-16T00:00:00\",\"2021-06-17T00:00:00\",\"2021-06-18T00:00:00\",\"2021-06-19T00:00:00\",\"2021-06-20T00:00:00\",\"2021-06-21T00:00:00\",\"2021-06-22T00:00:00\",\"2021-06-23T00:00:00\",\"2021-06-24T00:00:00\",\"2021-06-25T00:00:00\",\"2021-06-26T00:00:00\",\"2021-06-27T00:00:00\",\"2021-06-28T00:00:00\",\"2021-06-29T00:00:00\",\"2021-06-30T00:00:00\",\"2021-07-01T00:00:00\",\"2021-07-02T00:00:00\",\"2021-07-03T00:00:00\",\"2021-07-04T00:00:00\",\"2021-07-05T00:00:00\",\"2021-07-06T00:00:00\",\"2021-07-07T00:00:00\",\"2021-07-08T00:00:00\",\"2021-07-09T00:00:00\",\"2021-07-10T00:00:00\",\"2021-07-11T00:00:00\",\"2021-07-12T00:00:00\",\"2021-07-13T00:00:00\",\"2021-07-14T00:00:00\",\"2021-07-15T00:00:00\",\"2021-07-16T00:00:00\",\"2021-07-17T00:00:00\",\"2021-07-18T00:00:00\",\"2021-07-19T00:00:00\",\"2021-07-20T00:00:00\",\"2021-07-21T00:00:00\",\"2021-07-22T00:00:00\",\"2021-07-23T00:00:00\",\"2021-07-24T00:00:00\",\"2021-07-25T00:00:00\",\"2021-07-26T00:00:00\",\"2021-07-27T00:00:00\",\"2021-07-28T00:00:00\",\"2021-07-29T00:00:00\",\"2021-07-30T00:00:00\",\"2021-07-31T00:00:00\",\"2021-08-01T00:00:00\",\"2021-08-02T00:00:00\",\"2021-08-03T00:00:00\",\"2021-08-04T00:00:00\",\"2021-08-05T00:00:00\",\"2021-08-06T00:00:00\",\"2021-08-07T00:00:00\",\"2021-08-08T00:00:00\",\"2021-08-09T00:00:00\",\"2021-08-10T00:00:00\",\"2021-08-11T00:00:00\",\"2021-08-12T00:00:00\",\"2021-08-13T00:00:00\",\"2021-08-14T00:00:00\",\"2021-08-15T00:00:00\",\"2021-08-16T00:00:00\",\"2021-08-17T00:00:00\",\"2021-08-18T00:00:00\",\"2021-08-19T00:00:00\",\"2021-08-20T00:00:00\",\"2021-08-21T00:00:00\",\"2021-08-22T00:00:00\",\"2021-08-23T00:00:00\",\"2021-08-24T00:00:00\",\"2021-08-25T00:00:00\",\"2021-08-26T00:00:00\",\"2021-08-27T00:00:00\",\"2021-08-28T00:00:00\",\"2021-08-29T00:00:00\",\"2021-08-30T00:00:00\",\"2021-08-31T00:00:00\",\"2021-09-01T00:00:00\",\"2021-09-02T00:00:00\",\"2021-09-03T00:00:00\",\"2021-09-04T00:00:00\",\"2021-09-05T00:00:00\",\"2021-09-06T00:00:00\",\"2021-09-07T00:00:00\",\"2021-09-08T00:00:00\",\"2021-09-09T00:00:00\",\"2021-09-10T00:00:00\",\"2021-09-11T00:00:00\",\"2021-09-12T00:00:00\",\"2021-09-13T00:00:00\",\"2021-09-14T00:00:00\",\"2021-09-15T00:00:00\",\"2021-09-16T00:00:00\",\"2021-09-17T00:00:00\",\"2021-09-18T00:00:00\",\"2021-09-19T00:00:00\",\"2021-09-20T00:00:00\",\"2021-09-21T00:00:00\",\"2021-09-22T00:00:00\",\"2021-09-23T00:00:00\",\"2021-09-24T00:00:00\",\"2021-09-25T00:00:00\",\"2021-09-26T00:00:00\",\"2021-09-27T00:00:00\",\"2021-09-28T00:00:00\",\"2021-09-29T00:00:00\",\"2021-09-30T00:00:00\",\"2021-10-01T00:00:00\",\"2021-10-02T00:00:00\",\"2021-10-03T00:00:00\",\"2021-10-04T00:00:00\",\"2021-10-05T00:00:00\",\"2021-10-06T00:00:00\",\"2021-10-07T00:00:00\",\"2021-10-08T00:00:00\",\"2021-10-09T00:00:00\",\"2021-10-10T00:00:00\",\"2021-10-11T00:00:00\",\"2021-10-12T00:00:00\",\"2021-10-13T00:00:00\",\"2021-10-14T00:00:00\",\"2021-10-15T00:00:00\",\"2021-10-16T00:00:00\",\"2021-10-17T00:00:00\",\"2021-10-18T00:00:00\",\"2021-10-19T00:00:00\",\"2021-10-20T00:00:00\",\"2021-10-21T00:00:00\",\"2021-10-22T00:00:00\",\"2021-10-23T00:00:00\",\"2021-10-24T00:00:00\",\"2021-10-25T00:00:00\",\"2021-10-26T00:00:00\",\"2021-10-27T00:00:00\"],\"xaxis\":\"x\",\"y\":[14815760.82359767,43435340.81148489,91306813.12580766,144335741.863626,97767941.21622905,90783577.09251615,101909889.60730638,110145665.54988752,52609912.655515455,94982241.8958368,202735034.81718925,72781508.48320682,45356924.10778218,57678864.194238685,69467162.4916685,43988947.55217124,40178258.88542441,33945789.47797802,89987819.10188589,77526374.1432279,77552215.98532915,60207740.628640935,21491302.71470941,48736537.493990764,73804233.9018264,49338511.37036413,61272789.03763371,42752630.09936987,96432299.84019001,27680155.717399623,29452680.216924995,29790216.922188215,90673949.1855825,77717659.79528022,81113544.00753407,71611266.39707798,45706072.7231505,66425966.009844355,85509969.05485578,71985161.18441744,70969155.46044134,44255417.74842246,52248399.25991082,32779196.911298513,28205894.50601434,53089442.15725509,43228618.33686917,42573419.6277133,45918527.81471652,34888461.02490552,61908890.503087796,35193091.29679234,145823297.00596172,171514833.25239438,66190714.89977994,34301075.707542464,46759899.99058084,20794714.624342963,43626858.328602985,35189932.58280825,33982972.3245297,34525895.42685653,29775604.350736424,28092175.627387688,32956438.1957476,29952208.236184876,38892798.73445904,34896713.81882739,39050142.64608217,41243690.54823173,37818679.96890991,41553446.116384074,25151293.425501056,49209018.18204003,32720318.63961816,26805684.00019029,25728580.940137953,22337844.983599927,19868594.296399765,27895710.7448536,36003189.0109808,30880111.618232418,36890764.45897608,42478921.106871456,17658366.799401265,13640921.750964414,11447350.141727127,31516804.076243438,19106164.957136106,42078791.52236699,28028383.834250785,39647448.17516494,28009722.91918776,18191250.270768195,22873977.02251348,31833389.77319622,47819843.20977427,21532193.624480285,15507054.209093895,28580326.388956092,14391308.951767085,27588867.58324331,45054010.77469336,63902190.26774115,38488505.08567939,68175348.54387307,34698528.19280492,120447367.48413888,60396098.75646401,60240679.31728317,55827760.32729968,109601326.17716563,147239392.76109558,40626911.073707044,45057525.89730921,63759918.39122362,52857172.25938392,65153562.59145415,51832672.82830779,41579403.86925,63279113.85748875,47104130.82125576,151350407.16164067,217149884.726204,128540572.94946587,96430224.60057274,68404046.51470615,120754314.3986247,97775813.49832429,202447935.41968927,140038644.6064632,172285610.7111152,234970520.47742018,114609134.05352767,116690885.41186534,158289730.6247515,197148629.47402653,135782180.02959597,359682818.87205017,240587800.80473587,172868700.4441916,121803638.1110915,184251436.3099989,206690154.66386262,208409019.8477537,149929318.08349487,85630269.33817026,208915643.5084519,126342369.25261879,60858590.1931486,91290109.43411198,59748576.76548275,42721616.070721485,54340149.36630254,65873737.650738254,41943841.23741873,26431501.32257242,46168816.01991251,101531399.75313674,53101686.605925635,27809497.698978767,22477567.544695448,28359862.170716964,29531066.34040449,24868993.28473129,23004751.706520647,28173941.117058847,20834969.17201655,29675154.160908226,14743337.973412864,42039967.99798703,88814091.35470933,80346976.63780725,35071237.31467288,17854360.248454623,28564107.1632712,28122713.30706451,15990550.352143044,32445247.628316082,25077556.15702647,34563736.42927924,31124831.62812502,28081721.42681416,17102570.73949923,25695451.149853684,27941738.299025457,34292216.285367176,31130125.182744462,39574932.22439611,33168385.93682674,17572043.748600453,11509601.441919642,22677920.50067228,25201612.066212293,28846129.683523584,25493607.345456522,22333471.455081202,13482979.517094966,17442170.37460968,28962432.880331844,32139951.268587053,43042635.02994888,30062497.51580991,33374475.40746599,28619115.678665675,23709342.31442775,90041388.18713248,55129498.39089192,49892596.74842272,25124145.32247367,58105193.78339739,35762940.30255686,56325838.23431442,59133218.20543448,52565261.819222465,62515174.345844656,105284570.1535906,63676893.78797691,116058759.90092005,98440747.65853406,101698811.78499553,73909163.60268097,51477942.91454773,112370531.7030712,55506713.91862751,36369243.99127913,44693642.76986602,47172905.90271621,70197033.37338443,46823256.74940496,48471203.090897694,44028243.970024414,27799538.53051223,30374486.027266428,49040853.980772324,49856261.743879154,40339187.57144227,39422255.19873052,39722796.71226519,18997154.260327086,24987522.205748063,42633049.64592475,65125893.35630009,99991541.49616984,70227627.4037459,83622828.2802716,53841131.93464047,44724940.49827463,46802937.64018174,197669331.79653388,156593673.21273482,98451888.58372055,63207776.897391245,62011994.918188974,56686051.634776026,72070336.61710504,37327810.70934535,44410383.04702721,50735377.99875037,37254166.66971297,27106465.861264814,24629253.241499297,114913852.04945633,100425632.91096371,83388713.52002709,57564483.08564975,108677776.99526846,39255902.36970364,51954511.580315314,44402888.11657324,40301188.15078604,26436843.51577394,42778933.15318487,56264205.880578,35935642.50028291,31324913.338291597,46472532.12605793,41080711.079998866,76329243.38564892,49372552.43459915,39581008.76518394,27929349.152501356,25619311.883986387,39093388.22313523,43790411.66412958,42276543.83347167,61982342.7525407,57339580.25642261,32112476.786046878,31529902.39156627,49367344.585166566,46762028.92477661,73087242.6081251,104714308.68030089,53715873.60545843,35659931.46024061,35882519.71056681,42600574.89176235,44399490.99192847,33337476.16551063],\"yaxis\":\"y\"}],                        {\"coloraxis\":{\"colorbar\":{\"title\":{\"text\":\"risk_indicator_normalized\"}},\"colorscale\":[[0.0,\"rgb(5,48,97)\"],[0.1,\"rgb(33,102,172)\"],[0.2,\"rgb(67,147,195)\"],[0.3,\"rgb(146,197,222)\"],[0.4,\"rgb(209,229,240)\"],[0.5,\"rgb(247,247,247)\"],[0.6,\"rgb(253,219,199)\"],[0.7,\"rgb(244,165,130)\"],[0.8,\"rgb(214,96,77)\"],[0.9,\"rgb(178,24,43)\"],[1.0,\"rgb(103,0,31)\"]]},\"legend\":{\"tracegroupgap\":0},\"margin\":{\"t\":60},\"template\":{\"data\":{\"bar\":[{\"error_x\":{\"color\":\"#2a3f5f\"},\"error_y\":{\"color\":\"#2a3f5f\"},\"marker\":{\"line\":{\"color\":\"#E5ECF6\",\"width\":0.5},\"pattern\":{\"fillmode\":\"overlay\",\"size\":10,\"solidity\":0.2}},\"type\":\"bar\"}],\"barpolar\":[{\"marker\":{\"line\":{\"color\":\"#E5ECF6\",\"width\":0.5},\"pattern\":{\"fillmode\":\"overlay\",\"size\":10,\"solidity\":0.2}},\"type\":\"barpolar\"}],\"carpet\":[{\"aaxis\":{\"endlinecolor\":\"#2a3f5f\",\"gridcolor\":\"white\",\"linecolor\":\"white\",\"minorgridcolor\":\"white\",\"startlinecolor\":\"#2a3f5f\"},\"baxis\":{\"endlinecolor\":\"#2a3f5f\",\"gridcolor\":\"white\",\"linecolor\":\"white\",\"minorgridcolor\":\"white\",\"startlinecolor\":\"#2a3f5f\"},\"type\":\"carpet\"}],\"choropleth\":[{\"colorbar\":{\"outlinewidth\":0,\"ticks\":\"\"},\"type\":\"choropleth\"}],\"contour\":[{\"colorbar\":{\"outlinewidth\":0,\"ticks\":\"\"},\"colorscale\":[[0.0,\"#0d0887\"],[0.1111111111111111,\"#46039f\"],[0.2222222222222222,\"#7201a8\"],[0.3333333333333333,\"#9c179e\"],[0.4444444444444444,\"#bd3786\"],[0.5555555555555556,\"#d8576b\"],[0.6666666666666666,\"#ed7953\"],[0.7777777777777778,\"#fb9f3a\"],[0.8888888888888888,\"#fdca26\"],[1.0,\"#f0f921\"]],\"type\":\"contour\"}],\"contourcarpet\":[{\"colorbar\":{\"outlinewidth\":0,\"ticks\":\"\"},\"type\":\"contourcarpet\"}],\"heatmap\":[{\"colorbar\":{\"outlinewidth\":0,\"ticks\":\"\"},\"colorscale\":[[0.0,\"#0d0887\"],[0.1111111111111111,\"#46039f\"],[0.2222222222222222,\"#7201a8\"],[0.3333333333333333,\"#9c179e\"],[0.4444444444444444,\"#bd3786\"],[0.5555555555555556,\"#d8576b\"],[0.6666666666666666,\"#ed7953\"],[0.7777777777777778,\"#fb9f3a\"],[0.8888888888888888,\"#fdca26\"],[1.0,\"#f0f921\"]],\"type\":\"heatmap\"}],\"heatmapgl\":[{\"colorbar\":{\"outlinewidth\":0,\"ticks\":\"\"},\"colorscale\":[[0.0,\"#0d0887\"],[0.1111111111111111,\"#46039f\"],[0.2222222222222222,\"#7201a8\"],[0.3333333333333333,\"#9c179e\"],[0.4444444444444444,\"#bd3786\"],[0.5555555555555556,\"#d8576b\"],[0.6666666666666666,\"#ed7953\"],[0.7777777777777778,\"#fb9f3a\"],[0.8888888888888888,\"#fdca26\"],[1.0,\"#f0f921\"]],\"type\":\"heatmapgl\"}],\"histogram\":[{\"marker\":{\"pattern\":{\"fillmode\":\"overlay\",\"size\":10,\"solidity\":0.2}},\"type\":\"histogram\"}],\"histogram2d\":[{\"colorbar\":{\"outlinewidth\":0,\"ticks\":\"\"},\"colorscale\":[[0.0,\"#0d0887\"],[0.1111111111111111,\"#46039f\"],[0.2222222222222222,\"#7201a8\"],[0.3333333333333333,\"#9c179e\"],[0.4444444444444444,\"#bd3786\"],[0.5555555555555556,\"#d8576b\"],[0.6666666666666666,\"#ed7953\"],[0.7777777777777778,\"#fb9f3a\"],[0.8888888888888888,\"#fdca26\"],[1.0,\"#f0f921\"]],\"type\":\"histogram2d\"}],\"histogram2dcontour\":[{\"colorbar\":{\"outlinewidth\":0,\"ticks\":\"\"},\"colorscale\":[[0.0,\"#0d0887\"],[0.1111111111111111,\"#46039f\"],[0.2222222222222222,\"#7201a8\"],[0.3333333333333333,\"#9c179e\"],[0.4444444444444444,\"#bd3786\"],[0.5555555555555556,\"#d8576b\"],[0.6666666666666666,\"#ed7953\"],[0.7777777777777778,\"#fb9f3a\"],[0.8888888888888888,\"#fdca26\"],[1.0,\"#f0f921\"]],\"type\":\"histogram2dcontour\"}],\"mesh3d\":[{\"colorbar\":{\"outlinewidth\":0,\"ticks\":\"\"},\"type\":\"mesh3d\"}],\"parcoords\":[{\"line\":{\"colorbar\":{\"outlinewidth\":0,\"ticks\":\"\"}},\"type\":\"parcoords\"}],\"pie\":[{\"automargin\":true,\"type\":\"pie\"}],\"scatter\":[{\"marker\":{\"colorbar\":{\"outlinewidth\":0,\"ticks\":\"\"}},\"type\":\"scatter\"}],\"scatter3d\":[{\"line\":{\"colorbar\":{\"outlinewidth\":0,\"ticks\":\"\"}},\"marker\":{\"colorbar\":{\"outlinewidth\":0,\"ticks\":\"\"}},\"type\":\"scatter3d\"}],\"scattercarpet\":[{\"marker\":{\"colorbar\":{\"outlinewidth\":0,\"ticks\":\"\"}},\"type\":\"scattercarpet\"}],\"scattergeo\":[{\"marker\":{\"colorbar\":{\"outlinewidth\":0,\"ticks\":\"\"}},\"type\":\"scattergeo\"}],\"scattergl\":[{\"marker\":{\"colorbar\":{\"outlinewidth\":0,\"ticks\":\"\"}},\"type\":\"scattergl\"}],\"scattermapbox\":[{\"marker\":{\"colorbar\":{\"outlinewidth\":0,\"ticks\":\"\"}},\"type\":\"scattermapbox\"}],\"scatterpolar\":[{\"marker\":{\"colorbar\":{\"outlinewidth\":0,\"ticks\":\"\"}},\"type\":\"scatterpolar\"}],\"scatterpolargl\":[{\"marker\":{\"colorbar\":{\"outlinewidth\":0,\"ticks\":\"\"}},\"type\":\"scatterpolargl\"}],\"scatterternary\":[{\"marker\":{\"colorbar\":{\"outlinewidth\":0,\"ticks\":\"\"}},\"type\":\"scatterternary\"}],\"surface\":[{\"colorbar\":{\"outlinewidth\":0,\"ticks\":\"\"},\"colorscale\":[[0.0,\"#0d0887\"],[0.1111111111111111,\"#46039f\"],[0.2222222222222222,\"#7201a8\"],[0.3333333333333333,\"#9c179e\"],[0.4444444444444444,\"#bd3786\"],[0.5555555555555556,\"#d8576b\"],[0.6666666666666666,\"#ed7953\"],[0.7777777777777778,\"#fb9f3a\"],[0.8888888888888888,\"#fdca26\"],[1.0,\"#f0f921\"]],\"type\":\"surface\"}],\"table\":[{\"cells\":{\"fill\":{\"color\":\"#EBF0F8\"},\"line\":{\"color\":\"white\"}},\"header\":{\"fill\":{\"color\":\"#C8D4E3\"},\"line\":{\"color\":\"white\"}},\"type\":\"table\"}]},\"layout\":{\"annotationdefaults\":{\"arrowcolor\":\"#2a3f5f\",\"arrowhead\":0,\"arrowwidth\":1},\"autotypenumbers\":\"strict\",\"coloraxis\":{\"colorbar\":{\"outlinewidth\":0,\"ticks\":\"\"}},\"colorscale\":{\"diverging\":[[0,\"#8e0152\"],[0.1,\"#c51b7d\"],[0.2,\"#de77ae\"],[0.3,\"#f1b6da\"],[0.4,\"#fde0ef\"],[0.5,\"#f7f7f7\"],[0.6,\"#e6f5d0\"],[0.7,\"#b8e186\"],[0.8,\"#7fbc41\"],[0.9,\"#4d9221\"],[1,\"#276419\"]],\"sequential\":[[0.0,\"#0d0887\"],[0.1111111111111111,\"#46039f\"],[0.2222222222222222,\"#7201a8\"],[0.3333333333333333,\"#9c179e\"],[0.4444444444444444,\"#bd3786\"],[0.5555555555555556,\"#d8576b\"],[0.6666666666666666,\"#ed7953\"],[0.7777777777777778,\"#fb9f3a\"],[0.8888888888888888,\"#fdca26\"],[1.0,\"#f0f921\"]],\"sequentialminus\":[[0.0,\"#0d0887\"],[0.1111111111111111,\"#46039f\"],[0.2222222222222222,\"#7201a8\"],[0.3333333333333333,\"#9c179e\"],[0.4444444444444444,\"#bd3786\"],[0.5555555555555556,\"#d8576b\"],[0.6666666666666666,\"#ed7953\"],[0.7777777777777778,\"#fb9f3a\"],[0.8888888888888888,\"#fdca26\"],[1.0,\"#f0f921\"]]},\"colorway\":[\"#636efa\",\"#EF553B\",\"#00cc96\",\"#ab63fa\",\"#FFA15A\",\"#19d3f3\",\"#FF6692\",\"#B6E880\",\"#FF97FF\",\"#FECB52\"],\"font\":{\"color\":\"#2a3f5f\"},\"geo\":{\"bgcolor\":\"white\",\"lakecolor\":\"white\",\"landcolor\":\"#E5ECF6\",\"showlakes\":true,\"showland\":true,\"subunitcolor\":\"white\"},\"hoverlabel\":{\"align\":\"left\"},\"hovermode\":\"closest\",\"mapbox\":{\"style\":\"light\"},\"paper_bgcolor\":\"white\",\"plot_bgcolor\":\"#E5ECF6\",\"polar\":{\"angularaxis\":{\"gridcolor\":\"white\",\"linecolor\":\"white\",\"ticks\":\"\"},\"bgcolor\":\"#E5ECF6\",\"radialaxis\":{\"gridcolor\":\"white\",\"linecolor\":\"white\",\"ticks\":\"\"}},\"scene\":{\"xaxis\":{\"backgroundcolor\":\"#E5ECF6\",\"gridcolor\":\"white\",\"gridwidth\":2,\"linecolor\":\"white\",\"showbackground\":true,\"ticks\":\"\",\"zerolinecolor\":\"white\"},\"yaxis\":{\"backgroundcolor\":\"#E5ECF6\",\"gridcolor\":\"white\",\"gridwidth\":2,\"linecolor\":\"white\",\"showbackground\":true,\"ticks\":\"\",\"zerolinecolor\":\"white\"},\"zaxis\":{\"backgroundcolor\":\"#E5ECF6\",\"gridcolor\":\"white\",\"gridwidth\":2,\"linecolor\":\"white\",\"showbackground\":true,\"ticks\":\"\",\"zerolinecolor\":\"white\"}},\"shapedefaults\":{\"line\":{\"color\":\"#2a3f5f\"}},\"ternary\":{\"aaxis\":{\"gridcolor\":\"white\",\"linecolor\":\"white\",\"ticks\":\"\"},\"baxis\":{\"gridcolor\":\"white\",\"linecolor\":\"white\",\"ticks\":\"\"},\"bgcolor\":\"#E5ECF6\",\"caxis\":{\"gridcolor\":\"white\",\"linecolor\":\"white\",\"ticks\":\"\"}},\"title\":{\"x\":0.05},\"xaxis\":{\"automargin\":true,\"gridcolor\":\"white\",\"linecolor\":\"white\",\"ticks\":\"\",\"title\":{\"standoff\":15},\"zerolinecolor\":\"white\",\"zerolinewidth\":2},\"yaxis\":{\"automargin\":true,\"gridcolor\":\"white\",\"linecolor\":\"white\",\"ticks\":\"\",\"title\":{\"standoff\":15},\"zerolinecolor\":\"white\",\"zerolinewidth\":2}}},\"xaxis\":{\"anchor\":\"y\",\"domain\":[0.0,1.0],\"title\":{\"text\":\"datetime\"}},\"yaxis\":{\"anchor\":\"x\",\"domain\":[0.0,1.0],\"title\":{\"text\":\"vol_fiat\"}}},                        {\"responsive\": true}                    ).then(function(){\n",
       "                            \n",
       "var gd = document.getElementById('d3d74544-4bbc-41ec-830a-f95063b3334c');\n",
       "var x = new MutationObserver(function (mutations, observer) {{\n",
       "        var display = window.getComputedStyle(gd).display;\n",
       "        if (!display || display === 'none') {{\n",
       "            console.log([gd, 'removed!']);\n",
       "            Plotly.purge(gd);\n",
       "            observer.disconnect();\n",
       "        }}\n",
       "}});\n",
       "\n",
       "// Listen for the removal of the full notebook cells\n",
       "var notebookContainer = gd.closest('#notebook-container');\n",
       "if (notebookContainer) {{\n",
       "    x.observe(notebookContainer, {childList: true});\n",
       "}}\n",
       "\n",
       "// Listen for the clearing of the current output cell\n",
       "var outputEl = gd.closest('.output');\n",
       "if (outputEl) {{\n",
       "    x.observe(outputEl, {childList: true});\n",
       "}}\n",
       "\n",
       "                        })                };                });            </script>        </div>"
      ]
     },
     "metadata": {},
     "output_type": "display_data"
    }
   ],
   "source": [
    "px.scatter(df, x=df.index, y=df.vol_fiat, color=df.risk_indicator_normalized, color_continuous_scale='RdBu_r')"
   ]
  },
  {
   "cell_type": "markdown",
   "metadata": {},
   "source": [
    "And now we will use these same graphs to make our own Dashboard! "
   ]
  },
  {
   "cell_type": "code",
   "execution_count": 55,
   "metadata": {},
   "outputs": [],
   "source": [
    "app.layout = html.Div(children=[\n",
    "  html.H1(children='Our amazing risk indicator!', \n",
    "          style={'textAlign': 'center'}),\n",
    "      html.H2(children='Risk indicator #1'),\n",
    "      dcc.Graph(id='risk_indicator_1',\n",
    "        figure=px.scatter(df,\n",
    "                      x=df.index, \n",
    "                      y=df.close, \n",
    "                      color=df.risk_indicator_normalized, \n",
    "                      color_continuous_scale='RdBu_r'\n",
    "                         )\n",
    "            ),\n",
    "      html.H2(children='Risk indicator #2'),\n",
    "      dcc.Graph(id='vol_fiat_1',\n",
    "        figure=px.scatter(df,\n",
    "                      x=df.index,\n",
    "                      y=df.vol_fiat, \n",
    "                      color=df.risk_indicator_normalized, \n",
    "                      color_continuous_scale='RdBu_r')\n",
    "             )\n",
    "  ])"
   ]
  },
  {
   "cell_type": "code",
   "execution_count": 57,
   "metadata": {
    "scrolled": false
   },
   "outputs": [
    {
     "name": "stdout",
     "output_type": "stream",
     "text": [
      "Dash app running on http://127.0.0.1:8051/\n"
     ]
    }
   ],
   "source": [
    "app.run_server(mode='external', host = '127.0.0.1', port=8051, debug=True)"
   ]
  },
  {
   "cell_type": "markdown",
   "metadata": {},
   "source": [
    "Great! Now we have created our first dashboard. We have simply joined two graphs into a Dashboard, to show different aspects of the risk that we want to represent."
   ]
  },
  {
   "cell_type": "markdown",
   "metadata": {},
   "source": [
    "# Part 3: Adding more charts to our dashboard"
   ]
  },
  {
   "cell_type": "markdown",
   "metadata": {},
   "source": [
    "Add new graph with weekly data."
   ]
  },
  {
   "cell_type": "code",
   "execution_count": 58,
   "metadata": {},
   "outputs": [
    {
     "data": {
      "image/png": "[encoded data removed]",
      "text/plain": [
       "<Figure size 864x288 with 1 Axes>"
      ]
     },
     "metadata": {
      "needs_background": "light"
     },
     "output_type": "display_data"
    }
   ],
   "source": [
    "df.resample('W').mean()['close'].plot(figsize=(12, 4), color='k', linestyle='--', linewidth=3)\n",
    "plt.bar(df.resample('W').mean()['close'].index,\n",
    "       df.resample('W').mean()['close'], alpha=.5, edgecolor='k')\n",
    "plt.grid(True)\n",
    "plt.show()"
   ]
  },
  {
   "cell_type": "code",
   "execution_count": 59,
   "metadata": {},
   "outputs": [],
   "source": [
    "df_resampled_weekly = df.resample('W').mean()['close']"
   ]
  },
  {
   "cell_type": "code",
   "execution_count": 60,
   "metadata": {},
   "outputs": [
    {
     "data": {
      "text/plain": [
       "datetime\n",
       "2021-01-03     660.346667\n",
       "2021-01-10     967.852857\n",
       "2021-01-17     956.555714\n",
       "2021-01-24    1055.914286\n",
       "2021-01-31    1099.154286\n",
       "Freq: W-SUN, Name: close, dtype: float64"
      ]
     },
     "execution_count": 60,
     "metadata": {},
     "output_type": "execute_result"
    }
   ],
   "source": [
    "df_resampled_weekly.head()"
   ]
  },
  {
   "cell_type": "code",
   "execution_count": 61,
   "metadata": {},
   "outputs": [],
   "source": [
    "df_last_days = df['close'].tail(8).diff(1).tail(7)"
   ]
  },
  {
   "cell_type": "code",
   "execution_count": 62,
   "metadata": {},
   "outputs": [],
   "source": [
    "df_last_days.index = ['{}_days_ago'.format(j) for j in range(1, 8)]"
   ]
  },
  {
   "cell_type": "code",
   "execution_count": 63,
   "metadata": {},
   "outputs": [],
   "source": [
    "from pandas import DataFrame\n",
    "\n",
    "df_for_table = DataFrame(df_last_days)"
   ]
  },
  {
   "cell_type": "code",
   "execution_count": 67,
   "metadata": {},
   "outputs": [
    {
     "data": {
      "application/vnd.plotly.v1+json": {
       "config": {
        "plotlyServerURL": "https://plot.ly"
       },
       "data": [
        {
         "cells": {
          "align": "left",
          "font": {
           "color": [
            [
             "red"
            ],
            [
             "red"
            ],
            [
             "green"
            ],
            [
             "red"
            ],
            [
             "green"
            ],
            [
             "red"
            ],
            [
             "red"
            ]
           ]
          },
          "height": 30,
          "line": {
           "color": "darkslategray"
          },
          "values": [
           -80.87,
           -74.68,
           172.95,
           -76.97,
           128.53,
           -74.24,
           -75.36
          ]
         },
         "columnwidth": [
          30,
          30,
          30
         ],
         "header": {
          "align": "center",
          "font": {
           "color": "black",
           "family": "Lato",
           "size": 20
          },
          "height": 30,
          "line": {
           "color": "darkslategray"
          },
          "values": [
           "1 days ago",
           "2 days ago",
           "3 days ago",
           "4 days ago",
           "5 days ago",
           "6 days ago",
           "7 days ago"
          ]
         },
         "type": "table"
        }
       ],
       "layout": {
        "template": {
         "data": {
          "bar": [
           {
            "error_x": {
             "color": "#2a3f5f"
            },
            "error_y": {
             "color": "#2a3f5f"
            },
            "marker": {
             "line": {
              "color": "#E5ECF6",
              "width": 0.5
             },
             "pattern": {
              "fillmode": "overlay",
              "size": 10,
              "solidity": 0.2
             }
            },
            "type": "bar"
           }
          ],
          "barpolar": [
           {
            "marker": {
             "line": {
              "color": "#E5ECF6",
              "width": 0.5
             },
             "pattern": {
              "fillmode": "overlay",
              "size": 10,
              "solidity": 0.2
             }
            },
            "type": "barpolar"
           }
          ],
          "carpet": [
           {
            "aaxis": {
             "endlinecolor": "#2a3f5f",
             "gridcolor": "white",
             "linecolor": "white",
             "minorgridcolor": "white",
             "startlinecolor": "#2a3f5f"
            },
            "baxis": {
             "endlinecolor": "#2a3f5f",
             "gridcolor": "white",
             "linecolor": "white",
             "minorgridcolor": "white",
             "startlinecolor": "#2a3f5f"
            },
            "type": "carpet"
           }
          ],
          "choropleth": [
           {
            "colorbar": {
             "outlinewidth": 0,
             "ticks": ""
            },
            "type": "choropleth"
           }
          ],
          "contour": [
           {
            "colorbar": {
             "outlinewidth": 0,
             "ticks": ""
            },
            "colorscale": [
             [
              0,
              "#0d0887"
             ],
             [
              0.1111111111111111,
              "#46039f"
             ],
             [
              0.2222222222222222,
              "#7201a8"
             ],
             [
              0.3333333333333333,
              "#9c179e"
             ],
             [
              0.4444444444444444,
              "#bd3786"
             ],
             [
              0.5555555555555556,
              "#d8576b"
             ],
             [
              0.6666666666666666,
              "#ed7953"
             ],
             [
              0.7777777777777778,
              "#fb9f3a"
             ],
             [
              0.8888888888888888,
              "#fdca26"
             ],
             [
              1,
              "#f0f921"
             ]
            ],
            "type": "contour"
           }
          ],
          "contourcarpet": [
           {
            "colorbar": {
             "outlinewidth": 0,
             "ticks": ""
            },
            "type": "contourcarpet"
           }
          ],
          "heatmap": [
           {
            "colorbar": {
             "outlinewidth": 0,
             "ticks": ""
            },
            "colorscale": [
             [
              0,
              "#0d0887"
             ],
             [
              0.1111111111111111,
              "#46039f"
             ],
             [
              0.2222222222222222,
              "#7201a8"
             ],
             [
              0.3333333333333333,
              "#9c179e"
             ],
             [
              0.4444444444444444,
              "#bd3786"
             ],
             [
              0.5555555555555556,
              "#d8576b"
             ],
             [
              0.6666666666666666,
              "#ed7953"
             ],
             [
              0.7777777777777778,
              "#fb9f3a"
             ],
             [
              0.8888888888888888,
              "#fdca26"
             ],
             [
              1,
              "#f0f921"
             ]
            ],
            "type": "heatmap"
           }
          ],
          "heatmapgl": [
           {
            "colorbar": {
             "outlinewidth": 0,
             "ticks": ""
            },
            "colorscale": [
             [
              0,
              "#0d0887"
             ],
             [
              0.1111111111111111,
              "#46039f"
             ],
             [
              0.2222222222222222,
              "#7201a8"
             ],
             [
              0.3333333333333333,
              "#9c179e"
             ],
             [
              0.4444444444444444,
              "#bd3786"
             ],
             [
              0.5555555555555556,
              "#d8576b"
             ],
             [
              0.6666666666666666,
              "#ed7953"
             ],
             [
              0.7777777777777778,
              "#fb9f3a"
             ],
             [
              0.8888888888888888,
              "#fdca26"
             ],
             [
              1,
              "#f0f921"
             ]
            ],
            "type": "heatmapgl"
           }
          ],
          "histogram": [
           {
            "marker": {
             "pattern": {
              "fillmode": "overlay",
              "size": 10,
              "solidity": 0.2
             }
            },
            "type": "histogram"
           }
          ],
          "histogram2d": [
           {
            "colorbar": {
             "outlinewidth": 0,
             "ticks": ""
            },
            "colorscale": [
             [
              0,
              "#0d0887"
             ],
             [
              0.1111111111111111,
              "#46039f"
             ],
             [
              0.2222222222222222,
              "#7201a8"
             ],
             [
              0.3333333333333333,
              "#9c179e"
             ],
             [
              0.4444444444444444,
              "#bd3786"
             ],
             [
              0.5555555555555556,
              "#d8576b"
             ],
             [
              0.6666666666666666,
              "#ed7953"
             ],
             [
              0.7777777777777778,
              "#fb9f3a"
             ],
             [
              0.8888888888888888,
              "#fdca26"
             ],
             [
              1,
              "#f0f921"
             ]
            ],
            "type": "histogram2d"
           }
          ],
          "histogram2dcontour": [
           {
            "colorbar": {
             "outlinewidth": 0,
             "ticks": ""
            },
            "colorscale": [
             [
              0,
              "#0d0887"
             ],
             [
              0.1111111111111111,
              "#46039f"
             ],
             [
              0.2222222222222222,
              "#7201a8"
             ],
             [
              0.3333333333333333,
              "#9c179e"
             ],
             [
              0.4444444444444444,
              "#bd3786"
             ],
             [
              0.5555555555555556,
              "#d8576b"
             ],
             [
              0.6666666666666666,
              "#ed7953"
             ],
             [
              0.7777777777777778,
              "#fb9f3a"
             ],
             [
              0.8888888888888888,
              "#fdca26"
             ],
             [
              1,
              "#f0f921"
             ]
            ],
            "type": "histogram2dcontour"
           }
          ],
          "mesh3d": [
           {
            "colorbar": {
             "outlinewidth": 0,
             "ticks": ""
            },
            "type": "mesh3d"
           }
          ],
          "parcoords": [
           {
            "line": {
             "colorbar": {
              "outlinewidth": 0,
              "ticks": ""
             }
            },
            "type": "parcoords"
           }
          ],
          "pie": [
           {
            "automargin": true,
            "type": "pie"
           }
          ],
          "scatter": [
           {
            "marker": {
             "colorbar": {
              "outlinewidth": 0,
              "ticks": ""
             }
            },
            "type": "scatter"
           }
          ],
          "scatter3d": [
           {
            "line": {
             "colorbar": {
              "outlinewidth": 0,
              "ticks": ""
             }
            },
            "marker": {
             "colorbar": {
              "outlinewidth": 0,
              "ticks": ""
             }
            },
            "type": "scatter3d"
           }
          ],
          "scattercarpet": [
           {
            "marker": {
             "colorbar": {
              "outlinewidth": 0,
              "ticks": ""
             }
            },
            "type": "scattercarpet"
           }
          ],
          "scattergeo": [
           {
            "marker": {
             "colorbar": {
              "outlinewidth": 0,
              "ticks": ""
             }
            },
            "type": "scattergeo"
           }
          ],
          "scattergl": [
           {
            "marker": {
             "colorbar": {
              "outlinewidth": 0,
              "ticks": ""
             }
            },
            "type": "scattergl"
           }
          ],
          "scattermapbox": [
           {
            "marker": {
             "colorbar": {
              "outlinewidth": 0,
              "ticks": ""
             }
            },
            "type": "scattermapbox"
           }
          ],
          "scatterpolar": [
           {
            "marker": {
             "colorbar": {
              "outlinewidth": 0,
              "ticks": ""
             }
            },
            "type": "scatterpolar"
           }
          ],
          "scatterpolargl": [
           {
            "marker": {
             "colorbar": {
              "outlinewidth": 0,
              "ticks": ""
             }
            },
            "type": "scatterpolargl"
           }
          ],
          "scatterternary": [
           {
            "marker": {
             "colorbar": {
              "outlinewidth": 0,
              "ticks": ""
             }
            },
            "type": "scatterternary"
           }
          ],
          "surface": [
           {
            "colorbar": {
             "outlinewidth": 0,
             "ticks": ""
            },
            "colorscale": [
             [
              0,
              "#0d0887"
             ],
             [
              0.1111111111111111,
              "#46039f"
             ],
             [
              0.2222222222222222,
              "#7201a8"
             ],
             [
              0.3333333333333333,
              "#9c179e"
             ],
             [
              0.4444444444444444,
              "#bd3786"
             ],
             [
              0.5555555555555556,
              "#d8576b"
             ],
             [
              0.6666666666666666,
              "#ed7953"
             ],
             [
              0.7777777777777778,
              "#fb9f3a"
             ],
             [
              0.8888888888888888,
              "#fdca26"
             ],
             [
              1,
              "#f0f921"
             ]
            ],
            "type": "surface"
           }
          ],
          "table": [
           {
            "cells": {
             "fill": {
              "color": "#EBF0F8"
             },
             "line": {
              "color": "white"
             }
            },
            "header": {
             "fill": {
              "color": "#C8D4E3"
             },
             "line": {
              "color": "white"
             }
            },
            "type": "table"
           }
          ]
         },
         "layout": {
          "annotationdefaults": {
           "arrowcolor": "#2a3f5f",
           "arrowhead": 0,
           "arrowwidth": 1
          },
          "autotypenumbers": "strict",
          "coloraxis": {
           "colorbar": {
            "outlinewidth": 0,
            "ticks": ""
           }
          },
          "colorscale": {
           "diverging": [
            [
             0,
             "#8e0152"
            ],
            [
             0.1,
             "#c51b7d"
            ],
            [
             0.2,
             "#de77ae"
            ],
            [
             0.3,
             "#f1b6da"
            ],
            [
             0.4,
             "#fde0ef"
            ],
            [
             0.5,
             "#f7f7f7"
            ],
            [
             0.6,
             "#e6f5d0"
            ],
            [
             0.7,
             "#b8e186"
            ],
            [
             0.8,
             "#7fbc41"
            ],
            [
             0.9,
             "#4d9221"
            ],
            [
             1,
             "#276419"
            ]
           ],
           "sequential": [
            [
             0,
             "#0d0887"
            ],
            [
             0.1111111111111111,
             "#46039f"
            ],
            [
             0.2222222222222222,
             "#7201a8"
            ],
            [
             0.3333333333333333,
             "#9c179e"
            ],
            [
             0.4444444444444444,
             "#bd3786"
            ],
            [
             0.5555555555555556,
             "#d8576b"
            ],
            [
             0.6666666666666666,
             "#ed7953"
            ],
            [
             0.7777777777777778,
             "#fb9f3a"
            ],
            [
             0.8888888888888888,
             "#fdca26"
            ],
            [
             1,
             "#f0f921"
            ]
           ],
           "sequentialminus": [
            [
             0,
             "#0d0887"
            ],
            [
             0.1111111111111111,
             "#46039f"
            ],
            [
             0.2222222222222222,
             "#7201a8"
            ],
            [
             0.3333333333333333,
             "#9c179e"
            ],
            [
             0.4444444444444444,
             "#bd3786"
            ],
            [
             0.5555555555555556,
             "#d8576b"
            ],
            [
             0.6666666666666666,
             "#ed7953"
            ],
            [
             0.7777777777777778,
             "#fb9f3a"
            ],
            [
             0.8888888888888888,
             "#fdca26"
            ],
            [
             1,
             "#f0f921"
            ]
           ]
          },
          "colorway": [
           "#636efa",
           "#EF553B",
           "#00cc96",
           "#ab63fa",
           "#FFA15A",
           "#19d3f3",
           "#FF6692",
           "#B6E880",
           "#FF97FF",
           "#FECB52"
          ],
          "font": {
           "color": "#2a3f5f"
          },
          "geo": {
           "bgcolor": "white",
           "lakecolor": "white",
           "landcolor": "#E5ECF6",
           "showlakes": true,
           "showland": true,
           "subunitcolor": "white"
          },
          "hoverlabel": {
           "align": "left"
          },
          "hovermode": "closest",
          "mapbox": {
           "style": "light"
          },
          "paper_bgcolor": "white",
          "plot_bgcolor": "#E5ECF6",
          "polar": {
           "angularaxis": {
            "gridcolor": "white",
            "linecolor": "white",
            "ticks": ""
           },
           "bgcolor": "#E5ECF6",
           "radialaxis": {
            "gridcolor": "white",
            "linecolor": "white",
            "ticks": ""
           }
          },
          "scene": {
           "xaxis": {
            "backgroundcolor": "#E5ECF6",
            "gridcolor": "white",
            "gridwidth": 2,
            "linecolor": "white",
            "showbackground": true,
            "ticks": "",
            "zerolinecolor": "white"
           },
           "yaxis": {
            "backgroundcolor": "#E5ECF6",
            "gridcolor": "white",
            "gridwidth": 2,
            "linecolor": "white",
            "showbackground": true,
            "ticks": "",
            "zerolinecolor": "white"
           },
           "zaxis": {
            "backgroundcolor": "#E5ECF6",
            "gridcolor": "white",
            "gridwidth": 2,
            "linecolor": "white",
            "showbackground": true,
            "ticks": "",
            "zerolinecolor": "white"
           }
          },
          "shapedefaults": {
           "line": {
            "color": "#2a3f5f"
           }
          },
          "ternary": {
           "aaxis": {
            "gridcolor": "white",
            "linecolor": "white",
            "ticks": ""
           },
           "baxis": {
            "gridcolor": "white",
            "linecolor": "white",
            "ticks": ""
           },
           "bgcolor": "#E5ECF6",
           "caxis": {
            "gridcolor": "white",
            "linecolor": "white",
            "ticks": ""
           }
          },
          "title": {
           "x": 0.05
          },
          "xaxis": {
           "automargin": true,
           "gridcolor": "white",
           "linecolor": "white",
           "ticks": "",
           "title": {
            "standoff": 15
           },
           "zerolinecolor": "white",
           "zerolinewidth": 2
          },
          "yaxis": {
           "automargin": true,
           "gridcolor": "white",
           "linecolor": "white",
           "ticks": "",
           "title": {
            "standoff": 15
           },
           "zerolinecolor": "white",
           "zerolinewidth": 2
          }
         }
        }
       }
      },
      "text/html": [
       "<div>                            <div id=\"e27da88b-21ce-4432-9e68-ac8d94a64c9f\" class=\"plotly-graph-div\" style=\"height:525px; width:100%;\"></div>            <script type=\"text/javascript\">                require([\"plotly\"], function(Plotly) {                    window.PLOTLYENV=window.PLOTLYENV || {};                                    if (document.getElementById(\"e27da88b-21ce-4432-9e68-ac8d94a64c9f\")) {                    Plotly.newPlot(                        \"e27da88b-21ce-4432-9e68-ac8d94a64c9f\",                        [{\"cells\":{\"align\":\"left\",\"font\":{\"color\":[[\"red\"],[\"red\"],[\"green\"],[\"red\"],[\"green\"],[\"red\"],[\"red\"]]},\"height\":30,\"line\":{\"color\":\"darkslategray\"},\"values\":[-80.87,-74.68,172.95,-76.97,128.53,-74.24,-75.36]},\"columnwidth\":[30,30,30],\"header\":{\"align\":\"center\",\"font\":{\"color\":\"black\",\"family\":\"Lato\",\"size\":20},\"height\":30,\"line\":{\"color\":\"darkslategray\"},\"values\":[\"1 days ago\",\"2 days ago\",\"3 days ago\",\"4 days ago\",\"5 days ago\",\"6 days ago\",\"7 days ago\"]},\"type\":\"table\"}],                        {\"template\":{\"data\":{\"bar\":[{\"error_x\":{\"color\":\"#2a3f5f\"},\"error_y\":{\"color\":\"#2a3f5f\"},\"marker\":{\"line\":{\"color\":\"#E5ECF6\",\"width\":0.5},\"pattern\":{\"fillmode\":\"overlay\",\"size\":10,\"solidity\":0.2}},\"type\":\"bar\"}],\"barpolar\":[{\"marker\":{\"line\":{\"color\":\"#E5ECF6\",\"width\":0.5},\"pattern\":{\"fillmode\":\"overlay\",\"size\":10,\"solidity\":0.2}},\"type\":\"barpolar\"}],\"carpet\":[{\"aaxis\":{\"endlinecolor\":\"#2a3f5f\",\"gridcolor\":\"white\",\"linecolor\":\"white\",\"minorgridcolor\":\"white\",\"startlinecolor\":\"#2a3f5f\"},\"baxis\":{\"endlinecolor\":\"#2a3f5f\",\"gridcolor\":\"white\",\"linecolor\":\"white\",\"minorgridcolor\":\"white\",\"startlinecolor\":\"#2a3f5f\"},\"type\":\"carpet\"}],\"choropleth\":[{\"colorbar\":{\"outlinewidth\":0,\"ticks\":\"\"},\"type\":\"choropleth\"}],\"contour\":[{\"colorbar\":{\"outlinewidth\":0,\"ticks\":\"\"},\"colorscale\":[[0.0,\"#0d0887\"],[0.1111111111111111,\"#46039f\"],[0.2222222222222222,\"#7201a8\"],[0.3333333333333333,\"#9c179e\"],[0.4444444444444444,\"#bd3786\"],[0.5555555555555556,\"#d8576b\"],[0.6666666666666666,\"#ed7953\"],[0.7777777777777778,\"#fb9f3a\"],[0.8888888888888888,\"#fdca26\"],[1.0,\"#f0f921\"]],\"type\":\"contour\"}],\"contourcarpet\":[{\"colorbar\":{\"outlinewidth\":0,\"ticks\":\"\"},\"type\":\"contourcarpet\"}],\"heatmap\":[{\"colorbar\":{\"outlinewidth\":0,\"ticks\":\"\"},\"colorscale\":[[0.0,\"#0d0887\"],[0.1111111111111111,\"#46039f\"],[0.2222222222222222,\"#7201a8\"],[0.3333333333333333,\"#9c179e\"],[0.4444444444444444,\"#bd3786\"],[0.5555555555555556,\"#d8576b\"],[0.6666666666666666,\"#ed7953\"],[0.7777777777777778,\"#fb9f3a\"],[0.8888888888888888,\"#fdca26\"],[1.0,\"#f0f921\"]],\"type\":\"heatmap\"}],\"heatmapgl\":[{\"colorbar\":{\"outlinewidth\":0,\"ticks\":\"\"},\"colorscale\":[[0.0,\"#0d0887\"],[0.1111111111111111,\"#46039f\"],[0.2222222222222222,\"#7201a8\"],[0.3333333333333333,\"#9c179e\"],[0.4444444444444444,\"#bd3786\"],[0.5555555555555556,\"#d8576b\"],[0.6666666666666666,\"#ed7953\"],[0.7777777777777778,\"#fb9f3a\"],[0.8888888888888888,\"#fdca26\"],[1.0,\"#f0f921\"]],\"type\":\"heatmapgl\"}],\"histogram\":[{\"marker\":{\"pattern\":{\"fillmode\":\"overlay\",\"size\":10,\"solidity\":0.2}},\"type\":\"histogram\"}],\"histogram2d\":[{\"colorbar\":{\"outlinewidth\":0,\"ticks\":\"\"},\"colorscale\":[[0.0,\"#0d0887\"],[0.1111111111111111,\"#46039f\"],[0.2222222222222222,\"#7201a8\"],[0.3333333333333333,\"#9c179e\"],[0.4444444444444444,\"#bd3786\"],[0.5555555555555556,\"#d8576b\"],[0.6666666666666666,\"#ed7953\"],[0.7777777777777778,\"#fb9f3a\"],[0.8888888888888888,\"#fdca26\"],[1.0,\"#f0f921\"]],\"type\":\"histogram2d\"}],\"histogram2dcontour\":[{\"colorbar\":{\"outlinewidth\":0,\"ticks\":\"\"},\"colorscale\":[[0.0,\"#0d0887\"],[0.1111111111111111,\"#46039f\"],[0.2222222222222222,\"#7201a8\"],[0.3333333333333333,\"#9c179e\"],[0.4444444444444444,\"#bd3786\"],[0.5555555555555556,\"#d8576b\"],[0.6666666666666666,\"#ed7953\"],[0.7777777777777778,\"#fb9f3a\"],[0.8888888888888888,\"#fdca26\"],[1.0,\"#f0f921\"]],\"type\":\"histogram2dcontour\"}],\"mesh3d\":[{\"colorbar\":{\"outlinewidth\":0,\"ticks\":\"\"},\"type\":\"mesh3d\"}],\"parcoords\":[{\"line\":{\"colorbar\":{\"outlinewidth\":0,\"ticks\":\"\"}},\"type\":\"parcoords\"}],\"pie\":[{\"automargin\":true,\"type\":\"pie\"}],\"scatter\":[{\"marker\":{\"colorbar\":{\"outlinewidth\":0,\"ticks\":\"\"}},\"type\":\"scatter\"}],\"scatter3d\":[{\"line\":{\"colorbar\":{\"outlinewidth\":0,\"ticks\":\"\"}},\"marker\":{\"colorbar\":{\"outlinewidth\":0,\"ticks\":\"\"}},\"type\":\"scatter3d\"}],\"scattercarpet\":[{\"marker\":{\"colorbar\":{\"outlinewidth\":0,\"ticks\":\"\"}},\"type\":\"scattercarpet\"}],\"scattergeo\":[{\"marker\":{\"colorbar\":{\"outlinewidth\":0,\"ticks\":\"\"}},\"type\":\"scattergeo\"}],\"scattergl\":[{\"marker\":{\"colorbar\":{\"outlinewidth\":0,\"ticks\":\"\"}},\"type\":\"scattergl\"}],\"scattermapbox\":[{\"marker\":{\"colorbar\":{\"outlinewidth\":0,\"ticks\":\"\"}},\"type\":\"scattermapbox\"}],\"scatterpolar\":[{\"marker\":{\"colorbar\":{\"outlinewidth\":0,\"ticks\":\"\"}},\"type\":\"scatterpolar\"}],\"scatterpolargl\":[{\"marker\":{\"colorbar\":{\"outlinewidth\":0,\"ticks\":\"\"}},\"type\":\"scatterpolargl\"}],\"scatterternary\":[{\"marker\":{\"colorbar\":{\"outlinewidth\":0,\"ticks\":\"\"}},\"type\":\"scatterternary\"}],\"surface\":[{\"colorbar\":{\"outlinewidth\":0,\"ticks\":\"\"},\"colorscale\":[[0.0,\"#0d0887\"],[0.1111111111111111,\"#46039f\"],[0.2222222222222222,\"#7201a8\"],[0.3333333333333333,\"#9c179e\"],[0.4444444444444444,\"#bd3786\"],[0.5555555555555556,\"#d8576b\"],[0.6666666666666666,\"#ed7953\"],[0.7777777777777778,\"#fb9f3a\"],[0.8888888888888888,\"#fdca26\"],[1.0,\"#f0f921\"]],\"type\":\"surface\"}],\"table\":[{\"cells\":{\"fill\":{\"color\":\"#EBF0F8\"},\"line\":{\"color\":\"white\"}},\"header\":{\"fill\":{\"color\":\"#C8D4E3\"},\"line\":{\"color\":\"white\"}},\"type\":\"table\"}]},\"layout\":{\"annotationdefaults\":{\"arrowcolor\":\"#2a3f5f\",\"arrowhead\":0,\"arrowwidth\":1},\"autotypenumbers\":\"strict\",\"coloraxis\":{\"colorbar\":{\"outlinewidth\":0,\"ticks\":\"\"}},\"colorscale\":{\"diverging\":[[0,\"#8e0152\"],[0.1,\"#c51b7d\"],[0.2,\"#de77ae\"],[0.3,\"#f1b6da\"],[0.4,\"#fde0ef\"],[0.5,\"#f7f7f7\"],[0.6,\"#e6f5d0\"],[0.7,\"#b8e186\"],[0.8,\"#7fbc41\"],[0.9,\"#4d9221\"],[1,\"#276419\"]],\"sequential\":[[0.0,\"#0d0887\"],[0.1111111111111111,\"#46039f\"],[0.2222222222222222,\"#7201a8\"],[0.3333333333333333,\"#9c179e\"],[0.4444444444444444,\"#bd3786\"],[0.5555555555555556,\"#d8576b\"],[0.6666666666666666,\"#ed7953\"],[0.7777777777777778,\"#fb9f3a\"],[0.8888888888888888,\"#fdca26\"],[1.0,\"#f0f921\"]],\"sequentialminus\":[[0.0,\"#0d0887\"],[0.1111111111111111,\"#46039f\"],[0.2222222222222222,\"#7201a8\"],[0.3333333333333333,\"#9c179e\"],[0.4444444444444444,\"#bd3786\"],[0.5555555555555556,\"#d8576b\"],[0.6666666666666666,\"#ed7953\"],[0.7777777777777778,\"#fb9f3a\"],[0.8888888888888888,\"#fdca26\"],[1.0,\"#f0f921\"]]},\"colorway\":[\"#636efa\",\"#EF553B\",\"#00cc96\",\"#ab63fa\",\"#FFA15A\",\"#19d3f3\",\"#FF6692\",\"#B6E880\",\"#FF97FF\",\"#FECB52\"],\"font\":{\"color\":\"#2a3f5f\"},\"geo\":{\"bgcolor\":\"white\",\"lakecolor\":\"white\",\"landcolor\":\"#E5ECF6\",\"showlakes\":true,\"showland\":true,\"subunitcolor\":\"white\"},\"hoverlabel\":{\"align\":\"left\"},\"hovermode\":\"closest\",\"mapbox\":{\"style\":\"light\"},\"paper_bgcolor\":\"white\",\"plot_bgcolor\":\"#E5ECF6\",\"polar\":{\"angularaxis\":{\"gridcolor\":\"white\",\"linecolor\":\"white\",\"ticks\":\"\"},\"bgcolor\":\"#E5ECF6\",\"radialaxis\":{\"gridcolor\":\"white\",\"linecolor\":\"white\",\"ticks\":\"\"}},\"scene\":{\"xaxis\":{\"backgroundcolor\":\"#E5ECF6\",\"gridcolor\":\"white\",\"gridwidth\":2,\"linecolor\":\"white\",\"showbackground\":true,\"ticks\":\"\",\"zerolinecolor\":\"white\"},\"yaxis\":{\"backgroundcolor\":\"#E5ECF6\",\"gridcolor\":\"white\",\"gridwidth\":2,\"linecolor\":\"white\",\"showbackground\":true,\"ticks\":\"\",\"zerolinecolor\":\"white\"},\"zaxis\":{\"backgroundcolor\":\"#E5ECF6\",\"gridcolor\":\"white\",\"gridwidth\":2,\"linecolor\":\"white\",\"showbackground\":true,\"ticks\":\"\",\"zerolinecolor\":\"white\"}},\"shapedefaults\":{\"line\":{\"color\":\"#2a3f5f\"}},\"ternary\":{\"aaxis\":{\"gridcolor\":\"white\",\"linecolor\":\"white\",\"ticks\":\"\"},\"baxis\":{\"gridcolor\":\"white\",\"linecolor\":\"white\",\"ticks\":\"\"},\"bgcolor\":\"#E5ECF6\",\"caxis\":{\"gridcolor\":\"white\",\"linecolor\":\"white\",\"ticks\":\"\"}},\"title\":{\"x\":0.05},\"xaxis\":{\"automargin\":true,\"gridcolor\":\"white\",\"linecolor\":\"white\",\"ticks\":\"\",\"title\":{\"standoff\":15},\"zerolinecolor\":\"white\",\"zerolinewidth\":2},\"yaxis\":{\"automargin\":true,\"gridcolor\":\"white\",\"linecolor\":\"white\",\"ticks\":\"\",\"title\":{\"standoff\":15},\"zerolinecolor\":\"white\",\"zerolinewidth\":2}}}},                        {\"responsive\": true}                    ).then(function(){\n",
       "                            \n",
       "var gd = document.getElementById('e27da88b-21ce-4432-9e68-ac8d94a64c9f');\n",
       "var x = new MutationObserver(function (mutations, observer) {{\n",
       "        var display = window.getComputedStyle(gd).display;\n",
       "        if (!display || display === 'none') {{\n",
       "            console.log([gd, 'removed!']);\n",
       "            Plotly.purge(gd);\n",
       "            observer.disconnect();\n",
       "        }}\n",
       "}});\n",
       "\n",
       "// Listen for the removal of the full notebook cells\n",
       "var notebookContainer = gd.closest('#notebook-container');\n",
       "if (notebookContainer) {{\n",
       "    x.observe(notebookContainer, {childList: true});\n",
       "}}\n",
       "\n",
       "// Listen for the clearing of the current output cell\n",
       "var outputEl = gd.closest('.output');\n",
       "if (outputEl) {{\n",
       "    x.observe(outputEl, {childList: true});\n",
       "}}\n",
       "\n",
       "                        })                };                });            </script>        </div>"
      ]
     },
     "metadata": {},
     "output_type": "display_data"
    }
   ],
   "source": [
    "import plotly.graph_objects as go\n",
    "from numpy import round\n",
    "\n",
    "fig = go.Figure(data=[go.Table(\n",
    "        columnwidth = [30,30,30],\n",
    "        header=dict(values=[i.replace('_', ' ') for i in df_for_table.T.columns.tolist()],\n",
    "        line_color='darkslategray',\n",
    "        align='center',\n",
    "        font=dict(color='black', family=\"Lato\", size=20),\n",
    "        height=30\n",
    "        ),\n",
    "        cells=dict(values=round(df_for_table.T.values.tolist()[0], 2),\n",
    "               line_color='darkslategray',\n",
    "               align='left',\n",
    "               font_color=[['green' if x > 0 else \"red\" if x < 0 else \"blue\"\n",
    "                            ] for x in df_for_table.values],\n",
    "       height=30\n",
    "       ))\n",
    " ])\n",
    "\n",
    "\n",
    "fig.show()"
   ]
  },
  {
   "cell_type": "markdown",
   "metadata": {},
   "source": [
    "Notice that when we introduce multiple charts, Dash automatically places them one on top of each other. If we want to arrange them differently we need to get into the `dash.html` module."
   ]
  },
  {
   "cell_type": "markdown",
   "metadata": {},
   "source": [
    "Using bootstrap to make our dash adaptive to any screen resolution, we would need to use to use bootstrap and advanced html. In this exercises we will adjust the width and heigth of our charts manually.\n",
    "\n",
    "In case you want to dig deeper in this topic, here you can find more information https://dash-bootstrap-components.opensource.faculty.ai/docs/components/layout/"
   ]
  },
  {
   "cell_type": "code",
   "execution_count": 70,
   "metadata": {},
   "outputs": [],
   "source": [
    "app.layout = \\\n",
    "    html.Div(children=[\n",
    "        html.H1(children='Our amazing risk indicator!', \n",
    "                      style={'textAlign': 'center'}),\n",
    "        #first row\n",
    "        html.Div(children=[\n",
    "            # first row, first column\n",
    "                html.H2(children='Risk indicator #1',style={'textAlign': 'center'}),\n",
    "                dcc.Graph(id='risk_indicator_1',\n",
    "                    figure=px.scatter(df,\n",
    "                    x=df.index, \n",
    "                    y=df.close, \n",
    "                    color_continuous_midpoint=0,\n",
    "                    color=df.risk_indicator_normalized, \n",
    "                    labels={'risk_indicator_normalized':'Risk', 'close':'Closing Price (€)', 'datetime':'Date'},\n",
    "                    color_continuous_scale='RdBu_r',\n",
    "                    width=1000, height=400, ### ADJUST THIS WIDTH AND HEIGHT ACCORDING TO YOUR SCREEN RESOLUTION\n",
    "                         )\n",
    "            )], style={'display':'inline-block'}),\n",
    "            html.Div(children=[\n",
    "            # first row, second column\n",
    "                html.H2(children='Risk indicator #2',style={'textAlign': 'center'}),\n",
    "                dcc.Graph(id='vol_fiat_1',\n",
    "                    figure=px.scatter(df,\n",
    "                    x=df.index,\n",
    "                    y=df.vol_fiat, \n",
    "                    color_continuous_midpoint=0,\n",
    "                    color=df.risk_indicator_normalized, \n",
    "                    labels={'risk_indicator_normalized':'Risk', 'vol_fiat':'Fiat Exchange Volume', 'datetime':'Date'},\n",
    "                    color_continuous_scale='RdBu_r',\n",
    "                    width=800, height=400) ### ADJUST THIS WIDTH AND HEIGHT ACCORDING TO YOUR SCREEN RESOLUTION\n",
    "                        )], style={'display': 'inline-block'}),\n",
    "    html.Div(children=[\n",
    "        # second row\n",
    "        html.Div(children=[\n",
    "                # second row, first column\n",
    "                html.H1(children='Weekly prices', style={'textAlign':'center'}),\n",
    "                dcc.Graph(id='weeklyprices',\n",
    "                          figure=px.line(df_resampled_weekly,\n",
    "                                        x=df_resampled_weekly.index,\n",
    "                                        y=df_resampled_weekly.values,\n",
    "                                        labels={'y':'Price ETH (€)', 'datetime':'Date'}\n",
    "                                        ))\n",
    "            ]),\n",
    "                # second row, second columns\n",
    "                    html.Div(children= [\n",
    "                        dcc.Graph(id='table', \n",
    "                                  figure=go.Figure(data=[go.Table(\n",
    "                                    columnwidth = [30,30,30],\n",
    "                                    header=dict(values=[i.replace('_', ' ') for i in df_for_table.T.columns.tolist()],\n",
    "                                    # fill_color='#b9e2ff',\n",
    "                                    line_color='darkslategray',\n",
    "                                    align='center',\n",
    "                                    font=dict(color='black', family=\"Lato\", size=20),\n",
    "                                    height=30 ### ADJUST THIS WIDTH AND HEIGHT ACCORDING TO YOUR SCREEN RESOLUTION\n",
    "                                    ),\n",
    "                                cells=dict(values=round(df_for_table.T.values.tolist()[0], 2),\n",
    "                                       line_color='darkslategray',\n",
    "                                       align='left',\n",
    "                                       font_color=[['green' if x >0 else       \n",
    "                                       \"red\" if x < 0 else \"blue\"\n",
    "                                       ] for x in df_for_table.values],\n",
    "                                       height=30 ### ADJUST THIS WIDTH AND HEIGHT ACCORDING TO YOUR SCREEN RESOLUTION\n",
    "                                       ))\n",
    "             ]))\n",
    "        ]),        \n",
    "        ])       \n",
    "])"
   ]
  },
  {
   "cell_type": "code",
   "execution_count": 71,
   "metadata": {},
   "outputs": [
    {
     "name": "stderr",
     "output_type": "stream",
     "text": [
      "/Users/feliuserraburriel/opt/anaconda3/envs/barcelonaitacademy/lib/python3.9/site-packages/jupyter_dash/jupyter_app.py:139: UserWarning:\n",
      "\n",
      "The 'environ['werkzeug.server.shutdown']' function is deprecated and will be removed in Werkzeug 2.1.\n",
      "\n"
     ]
    },
    {
     "name": "stdout",
     "output_type": "stream",
     "text": [
      "Dash app running on http://127.0.0.1:8051/\n"
     ]
    }
   ],
   "source": [
    "app.run_server(mode='external', host = '127.0.0.1', port=8051, debug=True)"
   ]
  },
  {
   "cell_type": "markdown",
   "metadata": {},
   "source": [
    "# Exercise 1:\n",
    "\n",
    "Create the same graphs and dashboards from above, now using the BTC data that we downloaded in the previous notebook: `Coinbase_BTCEUR_dailydata.csv`."
   ]
  },
  {
   "cell_type": "code",
   "execution_count": null,
   "metadata": {},
   "outputs": [],
   "source": []
  },
  {
   "cell_type": "markdown",
   "metadata": {},
   "source": [
    "# Additional exercise for advanced users (Optional)\n",
    "\n",
    "Can you create a Dashboard to compare the two coins? You can use our risk indicators, or create new ones that you find interesting and insightful. "
   ]
  },
  {
   "cell_type": "code",
   "execution_count": null,
   "metadata": {},
   "outputs": [],
   "source": []
  },
  {
   "cell_type": "markdown",
   "metadata": {},
   "source": [
    "----"
   ]
  },
  {
   "cell_type": "markdown",
   "metadata": {},
   "source": [
    "So, on a final note, the main points taken from the [same article](https://www.perceptualedge.com/articles/visual_business_intelligence/dboard_confusion_revisited.pdf) as above:\n",
    "\n",
    "- Dashboards and multi-chart displays that are used for analysis are quite different.\n",
    "- Faceted analytical displays provide a powerful means to see relationships in data.\n",
    "- Global filters and brushing are powerful features that should be supported by any good faceted analytical dis- play.\n",
    "- No matter how great your tool, faceted analytical displays only work if you design them properly.\n"
   ]
  },
  {
   "cell_type": "markdown",
   "metadata": {},
   "source": [
    "So, now that you know how Dash works, you can create your own Dashboards. Throughout this course we have taught you how to use plotly to create your own visualizations, and now you can wrap them up to create your own story and integrate them into an effective and informative dashboard. From simple linecharts, to spatial visualizations, you can include all of them thanks to plotly and dash!"
   ]
  }
 ],
 "metadata": {
  "kernelspec": {
   "display_name": "Python (BCNITAcademy)",
   "language": "python",
   "name": "barcelonaitacademy"
  },
  "language_info": {
   "codemirror_mode": {
    "name": "ipython",
    "version": 3
   },
   "file_extension": ".py",
   "mimetype": "text/x-python",
   "name": "python",
   "nbconvert_exporter": "python",
   "pygments_lexer": "ipython3",
   "version": "3.9.7"
  }
 },
 "nbformat": 4,
 "nbformat_minor": 2
}
