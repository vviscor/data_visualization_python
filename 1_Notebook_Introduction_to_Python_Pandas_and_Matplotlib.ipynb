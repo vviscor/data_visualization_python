{
 "cells": [
  {
   "cell_type": "markdown",
   "metadata": {},
   "source": [
    "# Session 1 - Introduction to Jupyter Notebooks and Anaconda notebooks"
   ]
  },
  {
   "cell_type": "markdown",
   "metadata": {},
   "source": [
    "This class will focus on the requirements and the installation of all the tools required for this course. Then we will explain basic commands with bash on the Terminal, as well as some first hands-on data wrangling and plot of data with Python and Matplotlib. "
   ]
  },
  {
   "cell_type": "markdown",
   "metadata": {},
   "source": [
    "If you want to run a terminal command in one cell you can do so adding a *!* at the beginning of the cell. For example:"
   ]
  },
  {
   "cell_type": "code",
   "execution_count": 10,
   "metadata": {},
   "outputs": [
    {
     "name": "stdout",
     "output_type": "stream",
     "text": [
      "/Users/feliuserraburriel/Desktop/BSC/DataVizCourse/Session 1\r\n"
     ]
    }
   ],
   "source": [
    "!pwd"
   ]
  },
  {
   "cell_type": "markdown",
   "metadata": {},
   "source": [
    "The above command `pwd` gives us the current \"working directory\", where `pwd` stands for print working directory. Another example would be:"
   ]
  },
  {
   "cell_type": "code",
   "execution_count": 11,
   "metadata": {},
   "outputs": [
    {
     "name": "stdout",
     "output_type": "stream",
     "text": [
      "Untitled.ipynb\r\n"
     ]
    }
   ],
   "source": [
    "!ls"
   ]
  },
  {
   "cell_type": "markdown",
   "metadata": {},
   "source": [
    "This gives us the name of the files in the current working directoy folder. "
   ]
  },
  {
   "cell_type": "markdown",
   "metadata": {},
   "source": [
    "## 1.1 - Current working environments and Kernels"
   ]
  },
  {
   "cell_type": "markdown",
   "metadata": {},
   "source": [
    "First of all, you need to know which environment you are using for your Kernel. The following command allows you to know it:"
   ]
  },
  {
   "cell_type": "code",
   "execution_count": 8,
   "metadata": {},
   "outputs": [
    {
     "name": "stdout",
     "output_type": "stream",
     "text": [
      "# conda environments:\n",
      "#\n",
      "base                  *  /Users/feliuserraburriel/opt/anaconda3\n",
      "LDED                     /Users/feliuserraburriel/opt/anaconda3/envs/LDED\n",
      "Rstudio                  /Users/feliuserraburriel/opt/anaconda3/envs/Rstudio\n",
      "bcn_spatial_inequalities     /Users/feliuserraburriel/opt/anaconda3/envs/bcn_spatial_inequalities\n",
      "darts                    /Users/feliuserraburriel/opt/anaconda3/envs/darts\n",
      "ehwe                     /Users/feliuserraburriel/opt/anaconda3/envs/ehwe\n",
      "fda                      /Users/feliuserraburriel/opt/anaconda3/envs/fda\n",
      "forecaster               /Users/feliuserraburriel/opt/anaconda3/envs/forecaster\n",
      "generativeart            /Users/feliuserraburriel/opt/anaconda3/envs/generativeart\n",
      "hospitales               /Users/feliuserraburriel/opt/anaconda3/envs/hospitales\n",
      "iotwins                  /Users/feliuserraburriel/opt/anaconda3/envs/iotwins\n",
      "iotwins_campnou_data_validation     /Users/feliuserraburriel/opt/anaconda3/envs/iotwins_campnou_data_validation\n",
      "nightlights              /Users/feliuserraburriel/opt/anaconda3/envs/nightlights\n",
      "r                        /Users/feliuserraburriel/opt/anaconda3/envs/r\n",
      "rnew                     /Users/feliuserraburriel/opt/anaconda3/envs/rnew\n",
      "sleepiz                  /Users/feliuserraburriel/opt/anaconda3/envs/sleepiz\n",
      "urban                    /Users/feliuserraburriel/opt/anaconda3/envs/urban\n",
      "wildfires                /Users/feliuserraburriel/opt/anaconda3/envs/wildfires\n",
      "\n"
     ]
    }
   ],
   "source": [
    "!conda env list"
   ]
  },
  {
   "cell_type": "markdown",
   "metadata": {},
   "source": [
    "The environment shown with a _*_ is the one that is being used. If this is your first time doing this, it is likely that you have your \"base\" environment being used."
   ]
  },
  {
   "cell_type": "markdown",
   "metadata": {},
   "source": [
    "Then, you if want to list all the packages available in your environment you can do the following:"
   ]
  },
  {
   "cell_type": "code",
   "execution_count": 9,
   "metadata": {},
   "outputs": [
    {
     "name": "stdout",
     "output_type": "stream",
     "text": [
      "# packages in environment at /Users/feliuserraburriel/opt/anaconda3:\r\n",
      "#\r\n",
      "# Name                    Version                   Build  Channel\r\n",
      "_anaconda_depends         2020.02                  py37_0  \r\n",
      "_ipyw_jlab_nb_ext_conf    0.1.0                    py37_0  \r\n",
      "_r-mutex                  1.0.0               anacondar_1  \r\n",
      "absl-py                   0.13.0                   pypi_0    pypi\r\n",
      "aiodns                    2.0.0                    pypi_0    pypi\r\n",
      "aiohttp                   3.7.4.post0              pypi_0    pypi\r\n",
      "alabaster                 0.7.12                   py37_0  \r\n",
      "alpha-vantage             2.2.0                    pypi_0    pypi\r\n",
      "altair                    4.1.0                      py_1    conda-forge\r\n",
      "anaconda                  custom                   py37_1  \r\n",
      "anaconda-client           1.7.2                    py37_0  \r\n",
      "anaconda-navigator        1.9.7                    py37_0  \r\n",
      "anaconda-project          0.8.3                      py_0  \r\n",
      "antlr4-python3-runtime    4.8                      pypi_0    pypi\r\n",
      "applaunchservices         0.2.1                      py_0    conda-forge\r\n",
      "appnope                   0.1.0                    py37_0  \r\n",
      "appscript                 1.1.0            py37h1de35cc_0  \r\n",
      "argh                      0.26.2                py37_1001    conda-forge\r\n",
      "arrow                     0.15.7           py37hc8dfbb8_0    conda-forge\r\n",
      "asn1crypto                1.0.1                    py37_0  \r\n",
      "astroid                   2.3.1                    py37_0  \r\n",
      "astropy                   3.2.2            py37h1de35cc_0  \r\n",
      "async-timeout             3.0.1                    pypi_0    pypi\r\n",
      "atomicwrites              1.3.0                    py37_1  \r\n",
      "attrs                     19.1.0                   pypi_0    pypi\r\n",
      "autopep8                  1.4.3                    py37_0  \r\n",
      "babel                     2.7.0                      py_0  \r\n",
      "backcall                  0.1.0                    py37_0  \r\n",
      "backports                 1.0                        py_2  \r\n",
      "backports.functools_lru_cache 1.6.1                      py_0  \r\n",
      "backports.os              0.1.1                    py37_0  \r\n",
      "backports.shutil_get_terminal_size 1.0.0                    py37_2  \r\n",
      "backports.tempfile        1.0                        py_1  \r\n",
      "backports.weakref         1.0.post1                  py_1  \r\n",
      "beautifulsoup4            4.8.0                    py37_0  \r\n",
      "binaryornot               0.4.4                      py_1    conda-forge\r\n",
      "bitarray                  1.0.1            py37h1de35cc_0  \r\n",
      "bkcharts                  0.2                      py37_0  \r\n",
      "blas                      1.0                         mkl  \r\n",
      "bleach                    3.1.0                    py37_0  \r\n",
      "blosc                     1.16.3               hd9629dc_0  \r\n",
      "bokeh                     1.3.4                    py37_0  \r\n",
      "boto                      2.49.0                   py37_0  \r\n",
      "bottleneck                1.2.1            py37h1d22016_1  \r\n",
      "bzip2                     1.0.8                h1de35cc_0  \r\n",
      "ca-certificates           2020.6.20            hecda079_0    conda-forge\r\n",
      "cachetools                4.2.2                    pypi_0    pypi\r\n",
      "cctools                   895                           1    conda-forge\r\n",
      "certifi                   2020.6.20        py37hc8dfbb8_0    conda-forge\r\n",
      "cffi                      1.12.3           py37hb5b8e2f_0  \r\n",
      "chardet                   3.0.4                 py37_1003  \r\n",
      "clang                     4.0.1                         1    conda-forge\r\n",
      "clang_osx-64              4.0.1               h1ce6c1d_17    conda-forge\r\n",
      "clangxx                   4.0.1                         1    conda-forge\r\n",
      "clangxx_osx-64            4.0.1               h22b1bf0_17    conda-forge\r\n",
      "click                     7.0                      py37_0  \r\n",
      "climatecontrol            0.8.0                    pypi_0    pypi\r\n",
      "cloudpickle               1.2.2                      py_0  \r\n",
      "clyent                    1.2.2                    py37_1  \r\n",
      "cmdstanpy                 0.4.0                    pypi_0    pypi\r\n",
      "colorama                  0.4.1                    py37_0  \r\n",
      "compiler-rt               4.0.1                hcfea43d_1  \r\n",
      "conda                     4.8.3            py37hc8dfbb8_1    conda-forge\r\n",
      "conda-build               3.18.9                   py37_3  \r\n",
      "conda-env                 2.6.0                         1  \r\n",
      "conda-package-handling    1.6.0            py37h1de35cc_0  \r\n",
      "conda-verify              3.4.2                      py_1  \r\n",
      "contextlib2               0.6.0                      py_0  \r\n",
      "convertdate               2.2.1                    pypi_0    pypi\r\n",
      "cookiecutter              1.6.0                 py37_1000    conda-forge\r\n",
      "cryptography              2.7              py37ha12b0ac_0  \r\n",
      "curl                      7.65.3               ha441bb4_0  \r\n",
      "cycler                    0.10.0                   py37_0  \r\n",
      "cython                    0.29.13          py37h0a44026_0  \r\n",
      "cytoolz                   0.10.0           py37h1de35cc_0  \r\n",
      "dask                      2.5.2                      py_0  \r\n",
      "dask-core                 2.5.2                      py_0  \r\n",
      "dbus                      1.13.6               h90a0687_0  \r\n",
      "decorator                 4.4.0                    py37_1  \r\n",
      "defusedxml                0.6.0                      py_0  \r\n",
      "diff-match-patch          20181111                   py_0    conda-forge\r\n",
      "distributed               2.5.2                      py_0  \r\n",
      "docutils                  0.15.2                   py37_0  \r\n",
      "einops                    0.3.0                    pypi_0    pypi\r\n",
      "entrypoints               0.3                      py37_0  \r\n",
      "ephem                     3.7.7.1          py37h0b31af3_0    conda-forge\r\n",
      "et_xmlfile                1.0.1                    py37_0  \r\n",
      "expat                     2.2.6                h0a44026_0  \r\n",
      "fastcache                 1.1.0            py37h1de35cc_0  \r\n",
      "fbprophet                 0.5              py37h6de7cb9_0    conda-forge\r\n",
      "filelock                  3.0.12                     py_0  \r\n",
      "flake8                    3.7.9            py37hc8dfbb8_1    conda-forge\r\n",
      "flask                     1.1.1                      py_0  \r\n",
      "freetype                  2.9.1                hb4e5f40_0  \r\n",
      "fsspec                    2021.6.1                 pypi_0    pypi\r\n",
      "ftfy                      6.0.3                    pypi_0    pypi\r\n",
      "future                    0.18.2                   py37_0  \r\n",
      "geelab                    0.0.0                     dev_0    <develop>\r\n",
      "geojson                   2.5.0                    pypi_0    pypi\r\n",
      "get_terminal_size         1.0.0                h7520d66_0  \r\n",
      "gettext                   0.19.8.1             h15daf44_3  \r\n",
      "gevent                    1.4.0            py37h1de35cc_0  \r\n",
      "glances                   3.1.5                    pypi_0    pypi\r\n",
      "glib                      2.56.2               hd9629dc_0  \r\n",
      "glob2                     0.7                        py_0  \r\n",
      "gmp                       6.1.2                hb37e062_1  \r\n",
      "gmpy2                     2.0.8            py37h6ef4df4_2  \r\n",
      "google-auth               1.32.1                   pypi_0    pypi\r\n",
      "google-auth-oauthlib      0.4.4                    pypi_0    pypi\r\n",
      "great-expectations        0.7.11                     py_0    conda-forge\r\n",
      "greenlet                  0.4.15           py37h1de35cc_0  \r\n",
      "grpcio                    1.38.1                   pypi_0    pypi\r\n",
      "gsl                       2.4                  h1de35cc_4  \r\n",
      "h5py                      2.9.0            py37h3134771_0  \r\n",
      "hdf5                      1.10.4               hfa1e0ec_0  \r\n",
      "heapdict                  1.0.1                      py_0  \r\n",
      "holidays                  0.9.12                   pypi_0    pypi\r\n",
      "html5lib                  1.0.1                    py37_0  \r\n",
      "huggingface-hub           0.0.12                   pypi_0    pypi\r\n",
      "hypothesis                5.16.3                     py_0    conda-forge\r\n",
      "icu                       58.2                 h4b95b61_1  \r\n",
      "idna                      2.8                      py37_0  \r\n",
      "imageio                   2.6.0                    py37_0  \r\n",
      "imagesize                 1.1.0                    py37_0  \r\n",
      "importlib_metadata        0.23                     py37_0  \r\n",
      "intel-openmp              2019.4                      233  \r\n",
      "intervaltree              3.0.2                      py_0    conda-forge\r\n",
      "ipdb                      0.12.3                     py_0    conda-forge\r\n",
      "ipykernel                 5.1.2            py37h39e3cac_0  \r\n",
      "ipython                   7.8.0            py37h39e3cac_0  \r\n",
      "ipython_genutils          0.2.0                    py37_0  \r\n",
      "ipywidgets                7.5.1                      py_0  \r\n",
      "isort                     4.3.21                   py37_0  \r\n",
      "itsdangerous              1.1.0                    py37_0  \r\n",
      "jbig                      2.1                  h4d881f8_0  \r\n",
      "jdcal                     1.4.1                      py_0  \r\n",
      "jedi                      0.15.1                   py37_0  \r\n",
      "jinja2                    2.10.3                     py_0  \r\n",
      "jinja2-time               0.2.0                      py_2    conda-forge\r\n",
      "joblib                    0.13.2                   py37_0  \r\n",
      "jpeg                      9b                   he5867d9_2  \r\n",
      "json5                     0.8.5                      py_0  \r\n",
      "jsonschema                3.0.2                    py37_0  \r\n",
      "jupyter                   1.0.0                    py37_7  \r\n",
      "jupyter_client            5.3.3                    py37_1  \r\n",
      "jupyter_console           6.0.0                    py37_0  \r\n",
      "jupyter_core              4.5.0                      py_0  \r\n",
      "jupyterlab                1.1.4              pyhf63ae98_0  \r\n",
      "jupyterlab_server         1.0.6                      py_0  \r\n",
      "keyring                   18.0.0                   py37_0  \r\n",
      "kiwisolver                1.1.0            py37h0a44026_0  \r\n",
      "korean-lunar-calendar     0.2.1                    pypi_0    pypi\r\n",
      "krb5                      1.16.1               hddcf347_7  \r\n",
      "lazy-object-proxy         1.4.2            py37h1de35cc_0  \r\n",
      "ld64                      274.2                         1  \r\n",
      "libarchive                3.3.3                h786848e_5  \r\n",
      "libcurl                   7.65.3               h051b688_0  \r\n",
      "libcxx                    4.0.1                hcfea43d_1  \r\n",
      "libcxxabi                 4.0.1                hcfea43d_1  \r\n",
      "libedit                   3.1.20181209         hb402a30_0  \r\n",
      "libffi                    3.2.1                h475c297_4  \r\n",
      "libgcc                    4.8.5               hdbeacc1_10  \r\n",
      "libgfortran               3.0.1                h93005f0_2  \r\n",
      "libiconv                  1.15                 hdd342a3_7  \r\n",
      "liblief                   0.9.0                h2a1bed3_2  \r\n",
      "libpng                    1.6.37               ha441bb4_0  \r\n",
      "libsodium                 1.0.16               h3efe00b_0  \r\n",
      "libspatialindex           1.9.3                h0a44026_0  \r\n",
      "libssh2                   1.8.2                ha12b0ac_0  \r\n",
      "libtiff                   4.0.10               hcb84e12_2  \r\n",
      "libxml2                   2.9.9                hf6e021a_1  \r\n",
      "libxslt                   1.1.33               h33a18ac_0  \r\n",
      "llvm                      4.0.1                         1    conda-forge\r\n",
      "llvm-lto-tapi             4.0.1                         1  \r\n",
      "llvm-openmp               4.0.1                hcfea43d_1  \r\n",
      "llvmlite                  0.29.0           py37h98b8051_0  \r\n",
      "locket                    0.2.0                    py37_1  \r\n",
      "lunarcalendar             0.0.9                    pypi_0    pypi\r\n",
      "lunardate                 0.2.0                      py_0    conda-forge\r\n",
      "lxml                      4.4.1            py37hef8c89e_0  \r\n",
      "lz4-c                     1.8.1.2              h1de35cc_0  \r\n",
      "lzo                       2.10                 h362108e_2  \r\n",
      "markdown                  3.3.4                    pypi_0    pypi\r\n",
      "markupsafe                1.1.1            py37h1de35cc_0  \r\n",
      "matplotlib                3.1.1            py37h54f8f79_0  \r\n",
      "matplotlib-base           3.0.3            py37habd5b94_1    conda-forge\r\n",
      "matplotlib-scalebar       0.7.2                    pypi_0    pypi\r\n",
      "maxminddb                 1.5.4                    pypi_0    pypi\r\n",
      "mccabe                    0.6.1                    py37_1  \r\n",
      "mistune                   0.8.4            py37h1de35cc_0  \r\n",
      "mkl                       2019.4                      233  \r\n",
      "mkl-service               2.3.0            py37hfbe908c_0  \r\n",
      "mkl_fft                   1.0.14           py37h5e564d8_0  \r\n",
      "mkl_random                1.1.0            py37ha771720_0  \r\n",
      "mock                      3.0.5                    py37_0  \r\n",
      "more-itertools            7.2.0                    py37_0  \r\n",
      "mpc                       1.1.0                h6ef4df4_1  \r\n",
      "mpfr                      4.0.1                h3018a27_3  \r\n",
      "mpmath                    1.1.0                    py37_0  \r\n",
      "msgpack-python            0.6.1            py37h04f5b5a_1  \r\n",
      "multidict                 4.7.5                    pypi_0    pypi\r\n",
      "multipledispatch          0.6.0                    py37_0  \r\n",
      "navigator-updater         0.2.1                    py37_0  \r\n",
      "nbconvert                 5.6.0                    py37_1  \r\n",
      "nbformat                  4.4.0                    py37_0  \r\n",
      "ncurses                   6.1                  h0a44026_1  \r\n",
      "networkx                  2.3                        py_0  \r\n",
      "nltk                      3.4.5                    py37_0  \r\n",
      "noise                     1.2.2                    pypi_0    pypi\r\n",
      "nose                      1.3.7                    py37_2  \r\n",
      "notebook                  6.0.1                    py37_0  \r\n",
      "numba                     0.45.1           py37h6440ff4_0  \r\n",
      "numexpr                   2.7.0            py37h7413580_0  \r\n",
      "numpy                     1.21.0                   pypi_0    pypi\r\n",
      "numpydoc                  0.9.1                      py_0  \r\n",
      "oauthlib                  3.1.1                    pypi_0    pypi\r\n",
      "olefile                   0.46                     py37_0  \r\n",
      "omegaconf                 2.1.0                    pypi_0    pypi\r\n",
      "openpyxl                  3.0.0                      py_0  \r\n",
      "openssl                   1.1.1g               h0b31af3_0    conda-forge\r\n",
      "overpass                  0.7                      pypi_0    pypi\r\n",
      "packaging                 21.0                     pypi_0    pypi\r\n",
      "pandas                    0.25.1           py37h0a44026_0  \r\n",
      "pandoc                    2.2.3.2                       0  \r\n",
      "pandocfilters             1.4.2                    py37_1  \r\n",
      "parso                     0.5.1                      py_0  \r\n",
      "partd                     1.0.0                      py_0  \r\n",
      "path                      14.0.1           py37hc8dfbb8_0    conda-forge\r\n",
      "path.py                   12.0.1                     py_0  \r\n",
      "pathlib2                  2.3.5                    py37_0  \r\n",
      "pathtools                 0.1.2                      py_1    conda-forge\r\n",
      "patsy                     0.5.1                    py37_0  \r\n",
      "pcre                      8.43                 h0a44026_0  \r\n",
      "pdfkit                    0.6.1                    pypi_0    pypi\r\n",
      "pep8                      1.7.1                    py37_0  \r\n",
      "pexpect                   4.7.0                    py37_0  \r\n",
      "pickleshare               0.7.5                    py37_0  \r\n",
      "pillow                    8.1.2                    pypi_0    pypi\r\n",
      "pip                       19.2.3                   py37_0  \r\n",
      "pkginfo                   1.5.0.1                  py37_0  \r\n",
      "plotly                    4.7.1                      py_0    plotly\r\n",
      "plotly-orca               1.3.1                         1    plotly\r\n",
      "pluggy                    0.13.0                   py37_0  \r\n",
      "ply                       3.11                     py37_0  \r\n",
      "poyo                      0.5.0                      py_0    conda-forge\r\n",
      "prometheus_client         0.7.1                      py_0  \r\n",
      "prompt_toolkit            2.0.10                     py_0  \r\n",
      "protobuf                  3.17.3                   pypi_0    pypi\r\n",
      "proxybroker               0.3.2                    pypi_0    pypi\r\n",
      "psutil                    5.6.3            py37h1de35cc_0  \r\n",
      "ptyprocess                0.6.0                    py37_0  \r\n",
      "py                        1.8.0                    py37_0  \r\n",
      "py-lief                   0.9.0            py37h1413db1_2  \r\n",
      "pyasn1                    0.4.8                    pypi_0    pypi\r\n",
      "pyasn1-modules            0.2.8                    pypi_0    pypi\r\n",
      "pycares                   3.1.1                    pypi_0    pypi\r\n",
      "pycodestyle               2.5.0                    py37_0  \r\n",
      "pycosat                   0.6.3            py37h1de35cc_0  \r\n",
      "pycparser                 2.19                     py37_0  \r\n",
      "pycrypto                  2.6.1            py37h1de35cc_9  \r\n",
      "pycurl                    7.43.0.3         py37ha12b0ac_0  \r\n",
      "pydeprecate               0.3.0                    pypi_0    pypi\r\n",
      "pydocstyle                5.0.2                      py_0    conda-forge\r\n",
      "pyfiglet                  0.8.post1                  py_0    conda-forge\r\n",
      "pyflakes                  2.1.1                    py37_0  \r\n",
      "pygments                  2.4.2                      py_0  \r\n",
      "pylint                    2.4.2                    py37_0  \r\n",
      "pymeeus                   0.3.7                    pypi_0    pypi\r\n",
      "pymongo                   3.9.0            py37h0a44026_0    anaconda\r\n",
      "pyodbc                    4.0.27           py37h0a44026_0  \r\n",
      "pyopenssl                 19.0.0                   py37_0  \r\n",
      "pypandoc                  1.5                pyh9f0ad1d_0    conda-forge\r\n",
      "pyparsing                 2.4.2                      py_0  \r\n",
      "pypdf2                    1.26.0                   pypi_0    pypi\r\n",
      "pyqt                      5.9.2            py37h655552a_2  \r\n",
      "pyrsistent                0.15.4           py37h1de35cc_0  \r\n",
      "pysocks                   1.7.1                    py37_0  \r\n",
      "pystan                    2.19.1.1                 pypi_0    pypi\r\n",
      "pytables                  3.5.2            py37h5bccee9_1  \r\n",
      "pytest                    5.2.1                    py37_0  \r\n",
      "pytest-arraydiff          0.3              py37h39e3cac_0  \r\n",
      "pytest-astropy            0.5.0                    py37_0  \r\n",
      "pytest-astropy-header     0.1.2                      py_0    conda-forge\r\n",
      "pytest-doctestplus        0.4.0                      py_0  \r\n",
      "pytest-openfiles          0.4.0                      py_0  \r\n",
      "pytest-remotedata         0.3.2                    py37_0  \r\n",
      "python                    3.7.4                h359304d_1  \r\n",
      "python-dateutil           2.8.0                    py37_0  \r\n",
      "python-jsonrpc-server     0.3.4              pyh9f0ad1d_1    conda-forge\r\n",
      "python-language-server    0.31.10          py37hc8dfbb8_0    conda-forge\r\n",
      "python-libarchive-c       2.8                     py37_13  \r\n",
      "python.app                2                        py37_9  \r\n",
      "python_abi                3.7                     1_cp37m    conda-forge\r\n",
      "pytorch-lightning         1.3.8                    pypi_0    pypi\r\n",
      "pytz                      2019.3                     py_0  \r\n",
      "pywavelets                1.0.3            py37h1d22016_1  \r\n",
      "pyyaml                    5.1.2            py37h1de35cc_0  \r\n",
      "pyzmq                     18.1.0           py37h0a44026_0  \r\n",
      "qdarkstyle                2.8.1              pyh9f0ad1d_0    conda-forge\r\n",
      "qt                        5.9.7                h468cd18_1  \r\n",
      "qtawesome                 0.6.0                      py_0  \r\n",
      "qtconsole                 4.5.5                      py_0  \r\n",
      "qtpy                      1.9.0                      py_0  \r\n",
      "r-base                    3.3.1                         0    r\r\n",
      "r-base64enc               0.1_3                  r3.3.1_0    r\r\n",
      "r-crayon                  1.3.1                  r3.3.1_0    r\r\n",
      "r-digest                  0.6.9                  r3.3.1_0    r\r\n",
      "r-evaluate                0.9                    r3.3.1_0    r\r\n",
      "r-irdisplay               0.4.3                  r3.3.1_2    r\r\n",
      "r-irkernel                0.7                    r3.3.1_2    r\r\n",
      "r-jsonlite                0.9.22                 r3.3.1_0    r\r\n",
      "r-magrittr                1.5                    r3.3.1_2    r\r\n",
      "r-memoise                 1.0.0                  r3.3.1_0    r\r\n",
      "r-pbdzmq                  0.2_3                  r3.3.1_0    r\r\n",
      "r-r6                      2.1.2                  r3.3.1_0    r\r\n",
      "r-repr                    0.7                    r3.3.1_0    r\r\n",
      "r-stringi                 1.1.1                  r3.3.1_0    r\r\n",
      "r-stringr                 1.0.0                  r3.3.1_0    r\r\n",
      "r-uuid                    0.1_2                  r3.3.1_0    r\r\n",
      "readline                  7.0                  h1de35cc_5  \r\n",
      "regex                     2021.7.1                 pypi_0    pypi\r\n",
      "reportlab                 3.5.42                   pypi_0    pypi\r\n",
      "requests                  2.22.0                   py37_0  \r\n",
      "requests-oauthlib         1.3.0                    pypi_0    pypi\r\n",
      "retrying                  1.3.3                    py37_2  \r\n",
      "ripgrep                   0.10.0               hc07d326_0  \r\n",
      "rope                      0.14.0                     py_0  \r\n",
      "rsa                       4.7.2                    pypi_0    pypi\r\n",
      "rtree                     0.9.4            py37h8526d28_1    conda-forge\r\n",
      "ruamel.yaml               0.16.6           py37h9bfed18_1    conda-forge\r\n",
      "ruamel.yaml.clib          0.2.0            py37h9bfed18_1    conda-forge\r\n",
      "ruamel_yaml               0.15.46          py37h1de35cc_0  \r\n",
      "sacremoses                0.0.45                   pypi_0    pypi\r\n",
      "scikit-image              0.15.0           py37h0a44026_0  \r\n",
      "scikit-learn              0.21.3           py37h27c97d8_0  \r\n",
      "scipy                     1.3.1            py37h1410ff5_0  \r\n",
      "seaborn                   0.9.0                    py37_0  \r\n",
      "send2trash                1.5.0                    py37_0  \r\n",
      "setuptools                41.4.0                   py37_0  \r\n",
      "setuptools-git            1.2                      pypi_0    pypi\r\n",
      "shapely                   1.7.1                    pypi_0    pypi\r\n",
      "simplegeneric             0.8.1                    py37_2  \r\n",
      "singledispatch            3.4.0.3                  py37_0  \r\n",
      "sip                       4.19.8           py37h0a44026_0  \r\n",
      "six                       1.12.0                   py37_0  \r\n",
      "snappy                    1.1.7                he62c110_3  \r\n",
      "snowballstemmer           2.0.0                      py_0  \r\n",
      "sortedcollections         1.1.2                    py37_0  \r\n",
      "sortedcontainers          2.1.0                    py37_0  \r\n",
      "soupsieve                 1.9.3                    py37_0  \r\n",
      "sphinx                    2.2.0                      py_0  \r\n",
      "sphinxcontrib             1.0                      py37_1  \r\n",
      "sphinxcontrib-applehelp   1.0.1                      py_0  \r\n",
      "sphinxcontrib-devhelp     1.0.1                      py_0  \r\n",
      "sphinxcontrib-htmlhelp    1.0.2                      py_0  \r\n",
      "sphinxcontrib-jsmath      1.0.1                      py_0  \r\n",
      "sphinxcontrib-qthelp      1.0.2                      py_0  \r\n",
      "sphinxcontrib-serializinghtml 1.1.3                      py_0  \r\n",
      "sphinxcontrib-websupport  1.1.2                      py_0  \r\n",
      "spyder                    3.3.6                    py37_0  \r\n",
      "spyder-kernels            0.5.2                    py37_0  \r\n",
      "sqlalchemy                1.3.9            py37h1de35cc_0  \r\n",
      "sqlite                    3.30.0               ha441bb4_0  \r\n",
      "statsmodels               0.10.1           py37h1d22016_0  \r\n",
      "style-transfer-pytorch    0.1                       dev_0    <develop>\r\n",
      "sympy                     1.4                      py37_0  \r\n",
      "tbb                       2019.8               h04f5b5a_0  \r\n",
      "tblib                     1.4.0                      py_0  \r\n",
      "tensorboard               2.4.1                    pypi_0    pypi\r\n",
      "tensorboard-plugin-wit    1.8.0                    pypi_0    pypi\r\n",
      "termcolor                 1.1.0                      py_2    conda-forge\r\n",
      "terminado                 0.8.2                    py37_0  \r\n",
      "testpath                  0.4.2                    py37_0  \r\n",
      "tifffile                  2021.7.2                 pypi_0    pypi\r\n",
      "tk                        8.6.8                ha441bb4_0  \r\n",
      "tokenizers                0.10.3                   pypi_0    pypi\r\n",
      "toml                      0.10.0                     py_0    conda-forge\r\n",
      "toolz                     0.10.0                     py_0  \r\n",
      "torch                     1.9.0                    pypi_0    pypi\r\n",
      "torchmetrics              0.4.0                    pypi_0    pypi\r\n",
      "torchvision               0.10.0                   pypi_0    pypi\r\n",
      "tornado                   6.0.3            py37h1de35cc_0  \r\n",
      "tqdm                      4.61.1                   pypi_0    pypi\r\n",
      "traitlets                 4.3.3                    py37_0  \r\n",
      "transformers              4.8.2                    pypi_0    pypi\r\n",
      "typing-extensions         3.10.0.0                 pypi_0    pypi\r\n",
      "tzlocal                   2.1                pyh9f0ad1d_0    conda-forge\r\n",
      "ujson                     1.35            py37h0b31af3_1001    conda-forge\r\n",
      "unicodecsv                0.14.1                   py37_0  \r\n",
      "unixodbc                  2.3.7                h1de35cc_0  \r\n",
      "urllib3                   1.24.2                   py37_0  \r\n",
      "watchdog                  0.10.2           py37h0b31af3_0    conda-forge\r\n",
      "wcwidth                   0.1.7                    py37_0  \r\n",
      "webencodings              0.5.1                    py37_1  \r\n",
      "werkzeug                  0.16.0                     py_0  \r\n",
      "wheel                     0.33.6                   py37_0  \r\n",
      "whichcraft                0.6.1                      py_0    conda-forge\r\n",
      "widgetsnbextension        3.5.1                    py37_0  \r\n",
      "wrapt                     1.11.2           py37h1de35cc_0  \r\n",
      "wurlitzer                 1.0.3                    py37_0  \r\n",
      "xhtml2pdf                 0.2.4                    pypi_0    pypi\r\n",
      "xlrd                      1.2.0                    py37_0  \r\n",
      "xlsxwriter                1.2.1                      py_0  \r\n",
      "xlwings                   0.15.10                  py37_0  \r\n",
      "xlwt                      1.3.0                    py37_0  \r\n",
      "xz                        5.2.4                h1de35cc_4  \r\n",
      "yaml                      0.1.7                hc338f04_2  \r\n",
      "yapf                      0.29.0                     py_0    conda-forge\r\n",
      "yarl                      1.4.2                    pypi_0    pypi\r\n",
      "zeromq                    4.3.1                h0a44026_3  \r\n",
      "zict                      1.0.0                      py_0  \r\n",
      "zipp                      0.6.0                      py_0  \r\n",
      "zlib                      1.2.11               h1de35cc_3  \r\n",
      "zstd                      1.3.7                h5bba6e5_0  \r\n"
     ]
    }
   ],
   "source": [
    "!conda list"
   ]
  },
  {
   "cell_type": "markdown",
   "metadata": {},
   "source": [
    "This will show you all the packages and the version installed, as well as the Channels where they come from. It is recommendable that you either stick to using Anaconda channels or do it with `pip install nameofpackage`. Always check if the package is on pip first."
   ]
  },
  {
   "cell_type": "markdown",
   "metadata": {},
   "source": [
    "When dealing with various environments, projects, or different versions of packages, you will most likely run into clashes of packages. Thus, it is always a safe bet to create a new environment for a new project, as it will be wiser if you have one environment per project. "
   ]
  },
  {
   "cell_type": "markdown",
   "metadata": {},
   "source": [
    "----"
   ]
  },
  {
   "cell_type": "markdown",
   "metadata": {},
   "source": [
    "## 1.2 - Ensure the packages are properly installed and load them"
   ]
  },
  {
   "cell_type": "markdown",
   "metadata": {},
   "source": [
    "Now that we know which packages are installed, we need to check that the following 4 packages are installed (we will use them throughout this course):\n",
    "\n",
    "- Pandas\n",
    "- Numpy\n",
    "- Matplotlib\n",
    "- Plotly\n",
    "- Dash\n",
    "- Geopandas"
   ]
  },
  {
   "cell_type": "markdown",
   "metadata": {},
   "source": [
    "When you run `!conda list`, if you see that you have all the above mentioned packages listed, then you are ready to start processing data! "
   ]
  },
  {
   "cell_type": "markdown",
   "metadata": {},
   "source": [
    "Now that the packages are installed in our environment and Kernel is ready we can import them doing the following:"
   ]
  },
  {
   "cell_type": "code",
   "execution_count": 28,
   "metadata": {},
   "outputs": [],
   "source": [
    "import pandas as pd"
   ]
  },
  {
   "cell_type": "markdown",
   "metadata": {},
   "source": [
    "Then we can use any function or module from the *pandas* package. However, when we do that, we are importing all the functions at once, not even knowing what we are loading. Hence, it is a good practice and a good programming tip to only import the functions or objects desired. For example, if I want to import the `read_csv` function I can do it as follows:"
   ]
  },
  {
   "cell_type": "code",
   "execution_count": 5,
   "metadata": {},
   "outputs": [],
   "source": [
    "from pandas import read_csv"
   ]
  },
  {
   "cell_type": "markdown",
   "metadata": {},
   "source": [
    "In this way, my code is much cleaner and easier to follow. In addition, we avoid to load unnecessary functions and modules that won't be used in our code. "
   ]
  },
  {
   "cell_type": "markdown",
   "metadata": {},
   "source": [
    "Also, a very nice tip is to always use the `tab` from you keyboard, as it will help you finding the name of the functions or modules you are looking for!"
   ]
  },
  {
   "cell_type": "markdown",
   "metadata": {},
   "source": [
    "## 1.3 - Get in touch with pandas Series and DataFrames"
   ]
  },
  {
   "cell_type": "markdown",
   "metadata": {},
   "source": [
    "A *pandas* Series is a vector with an index. Let's create a simple vector using the `range` function, that will go from 1 to 100. To make it easier to understand, we will first do it step by step. First, we create the range from 1 to 100."
   ]
  },
  {
   "cell_type": "code",
   "execution_count": 20,
   "metadata": {},
   "outputs": [
    {
     "data": {
      "text/plain": [
       "range(1, 100)"
      ]
     },
     "execution_count": 20,
     "metadata": {},
     "output_type": "execute_result"
    }
   ],
   "source": [
    "range(1, 100)"
   ]
  },
  {
   "cell_type": "markdown",
   "metadata": {},
   "source": [
    "Now that we have a range, notice that is yet not a list, it is a range of integers. To make it a list we can do it in the following manner:"
   ]
  },
  {
   "cell_type": "code",
   "execution_count": 6,
   "metadata": {
    "scrolled": true
   },
   "outputs": [
    {
     "data": {
      "text/plain": [
       "[1,\n",
       " 2,\n",
       " 3,\n",
       " 4,\n",
       " 5,\n",
       " 6,\n",
       " 7,\n",
       " 8,\n",
       " 9,\n",
       " 10,\n",
       " 11,\n",
       " 12,\n",
       " 13,\n",
       " 14,\n",
       " 15,\n",
       " 16,\n",
       " 17,\n",
       " 18,\n",
       " 19,\n",
       " 20,\n",
       " 21,\n",
       " 22,\n",
       " 23,\n",
       " 24,\n",
       " 25,\n",
       " 26,\n",
       " 27,\n",
       " 28,\n",
       " 29,\n",
       " 30,\n",
       " 31,\n",
       " 32,\n",
       " 33,\n",
       " 34,\n",
       " 35,\n",
       " 36,\n",
       " 37,\n",
       " 38,\n",
       " 39,\n",
       " 40,\n",
       " 41,\n",
       " 42,\n",
       " 43,\n",
       " 44,\n",
       " 45,\n",
       " 46,\n",
       " 47,\n",
       " 48,\n",
       " 49,\n",
       " 50,\n",
       " 51,\n",
       " 52,\n",
       " 53,\n",
       " 54,\n",
       " 55,\n",
       " 56,\n",
       " 57,\n",
       " 58,\n",
       " 59,\n",
       " 60,\n",
       " 61,\n",
       " 62,\n",
       " 63,\n",
       " 64,\n",
       " 65,\n",
       " 66,\n",
       " 67,\n",
       " 68,\n",
       " 69,\n",
       " 70,\n",
       " 71,\n",
       " 72,\n",
       " 73,\n",
       " 74,\n",
       " 75,\n",
       " 76,\n",
       " 77,\n",
       " 78,\n",
       " 79,\n",
       " 80,\n",
       " 81,\n",
       " 82,\n",
       " 83,\n",
       " 84,\n",
       " 85,\n",
       " 86,\n",
       " 87,\n",
       " 88,\n",
       " 89,\n",
       " 90,\n",
       " 91,\n",
       " 92,\n",
       " 93,\n",
       " 94,\n",
       " 95,\n",
       " 96,\n",
       " 97,\n",
       " 98,\n",
       " 99]"
      ]
     },
     "execution_count": 6,
     "metadata": {},
     "output_type": "execute_result"
    }
   ],
   "source": [
    "list(range(1, 100))"
   ]
  },
  {
   "cell_type": "markdown",
   "metadata": {},
   "source": [
    "However, since we are interested in creating a *pandas* series, we do it as follows. First, we import the *Series* module from pandas. Then we pass the range that we created before."
   ]
  },
  {
   "cell_type": "code",
   "execution_count": 7,
   "metadata": {},
   "outputs": [
    {
     "data": {
      "text/plain": [
       "0      1\n",
       "1      2\n",
       "2      3\n",
       "3      4\n",
       "4      5\n",
       "      ..\n",
       "94    95\n",
       "95    96\n",
       "96    97\n",
       "97    98\n",
       "98    99\n",
       "Length: 99, dtype: int64"
      ]
     },
     "execution_count": 7,
     "metadata": {},
     "output_type": "execute_result"
    }
   ],
   "source": [
    "from pandas import Series\n",
    "\n",
    "Series(range(1, 100))"
   ]
  },
  {
   "cell_type": "markdown",
   "metadata": {},
   "source": [
    "Now notice a few things, first of all, there are two columns there, and we just added a range? Why is that?"
   ]
  },
  {
   "cell_type": "markdown",
   "metadata": {},
   "source": [
    "Because *pandas* Series always have an index. Then, we can notice that the index starts at 0, even if we didn't specify it, and finishes as 98. Ranges and counts start at 0 in python! Now let's assign that into a variable called our_first_series."
   ]
  },
  {
   "cell_type": "code",
   "execution_count": 8,
   "metadata": {},
   "outputs": [],
   "source": [
    "our_first_series = Series(range(1, 100))"
   ]
  },
  {
   "cell_type": "markdown",
   "metadata": {},
   "source": [
    "Now that we have it stored in a variable we can use the many functionalities that Series provides us. For example, we can compute the mean of the series:"
   ]
  },
  {
   "cell_type": "code",
   "execution_count": 9,
   "metadata": {},
   "outputs": [
    {
     "data": {
      "text/plain": [
       "50.0"
      ]
     },
     "execution_count": 9,
     "metadata": {},
     "output_type": "execute_result"
    }
   ],
   "source": [
    "our_first_series.mean()"
   ]
  },
  {
   "cell_type": "markdown",
   "metadata": {},
   "source": [
    "We can also access the index of that series:"
   ]
  },
  {
   "cell_type": "code",
   "execution_count": 10,
   "metadata": {},
   "outputs": [
    {
     "data": {
      "text/plain": [
       "RangeIndex(start=0, stop=99, step=1)"
      ]
     },
     "execution_count": 10,
     "metadata": {},
     "output_type": "execute_result"
    }
   ],
   "source": [
    "our_first_series.index"
   ]
  },
  {
   "cell_type": "raw",
   "metadata": {},
   "source": [
    "Notice that it automatically assigned a RangeIndex to it! What if we want to access the first ten values of that index? We can do as follows:"
   ]
  },
  {
   "cell_type": "code",
   "execution_count": 13,
   "metadata": {},
   "outputs": [
    {
     "data": {
      "text/plain": [
       "[0, 1, 2, 3, 4, 5, 6, 7, 8, 9, 10, 11, 12, 13, 14, 15]"
      ]
     },
     "execution_count": 13,
     "metadata": {},
     "output_type": "execute_result"
    }
   ],
   "source": [
    "our_first_series.index.tolist()[:16]"
   ]
  },
  {
   "cell_type": "markdown",
   "metadata": {},
   "source": [
    "Now type Series( and hold the shift button, and double press the tab button. You should see the docstrings in there, where you can find all the parameters or arguments, as well as the output and examples of how that Object or Class, function or module works."
   ]
  },
  {
   "cell_type": "code",
   "execution_count": null,
   "metadata": {},
   "outputs": [],
   "source": [
    "Series("
   ]
  },
  {
   "cell_type": "markdown",
   "metadata": {},
   "source": [
    "The best thing about this, is that you can use it for any functions or classes"
   ]
  },
  {
   "cell_type": "markdown",
   "metadata": {},
   "source": [
    "### Exercise 1: \n",
    "\n",
    "Now that you already know how to create a Series, now go ahead and let's make a slightly harder one.\n",
    "\n",
    "Create a Series that has:\n",
    "    - An index from -100 to 100, with steps of 5, e.g. -100, -95, -90, ..., 95, 100.\n",
    "    - Values from 1000 to 0, with steps on -25, e.g. 1000, 975, ..., 25, 0.\n",
    "    - Sequenc3 as a name."
   ]
  },
  {
   "cell_type": "code",
   "execution_count": null,
   "metadata": {},
   "outputs": [],
   "source": []
  },
  {
   "cell_type": "markdown",
   "metadata": {},
   "source": [
    "Now that we know how Series work, we can now move to DataFrames. Essentially, DataFrames are Series combined, so a DataFrame is two or more columns or vectors combined. Let's make a simple example, let's create a list of lists, that contains vectors from 1 to 10."
   ]
  },
  {
   "cell_type": "code",
   "execution_count": 23,
   "metadata": {},
   "outputs": [
    {
     "data": {
      "text/plain": [
       "[[1, 2, 3, 4, 5, 6, 7, 8, 9],\n",
       " [1, 2, 3, 4, 5, 6, 7, 8, 9],\n",
       " [1, 2, 3, 4, 5, 6, 7, 8, 9],\n",
       " [1, 2, 3, 4, 5, 6, 7, 8, 9],\n",
       " [1, 2, 3, 4, 5, 6, 7, 8, 9],\n",
       " [1, 2, 3, 4, 5, 6, 7, 8, 9],\n",
       " [1, 2, 3, 4, 5, 6, 7, 8, 9],\n",
       " [1, 2, 3, 4, 5, 6, 7, 8, 9],\n",
       " [1, 2, 3, 4, 5, 6, 7, 8, 9]]"
      ]
     },
     "execution_count": 23,
     "metadata": {},
     "output_type": "execute_result"
    }
   ],
   "source": [
    "[[i for i in range(1, 10)] for j in range(1, 10)]\n"
   ]
  },
  {
   "cell_type": "markdown",
   "metadata": {},
   "source": [
    "Now that we have this, we assign to a variable and pass it as a DataFrame:"
   ]
  },
  {
   "cell_type": "code",
   "execution_count": 24,
   "metadata": {},
   "outputs": [],
   "source": [
    "simple_df = [[i for i in range(1, 10)] for j in range(1, 10)]"
   ]
  },
  {
   "cell_type": "code",
   "execution_count": 29,
   "metadata": {},
   "outputs": [],
   "source": [
    "import pandas as pd"
   ]
  },
  {
   "cell_type": "code",
   "execution_count": 34,
   "metadata": {},
   "outputs": [
    {
     "data": {
      "text/html": [
       "<div>\n",
       "<style scoped>\n",
       "    .dataframe tbody tr th:only-of-type {\n",
       "        vertical-align: middle;\n",
       "    }\n",
       "\n",
       "    .dataframe tbody tr th {\n",
       "        vertical-align: top;\n",
       "    }\n",
       "\n",
       "    .dataframe thead th {\n",
       "        text-align: right;\n",
       "    }\n",
       "</style>\n",
       "<table border=\"1\" class=\"dataframe\">\n",
       "  <thead>\n",
       "    <tr style=\"text-align: right;\">\n",
       "      <th></th>\n",
       "      <th>0</th>\n",
       "      <th>1</th>\n",
       "      <th>2</th>\n",
       "      <th>3</th>\n",
       "      <th>4</th>\n",
       "      <th>5</th>\n",
       "      <th>6</th>\n",
       "      <th>7</th>\n",
       "      <th>8</th>\n",
       "    </tr>\n",
       "  </thead>\n",
       "  <tbody>\n",
       "    <tr>\n",
       "      <th>0</th>\n",
       "      <td>1</td>\n",
       "      <td>2</td>\n",
       "      <td>3</td>\n",
       "      <td>4</td>\n",
       "      <td>5</td>\n",
       "      <td>6</td>\n",
       "      <td>7</td>\n",
       "      <td>8</td>\n",
       "      <td>9</td>\n",
       "    </tr>\n",
       "    <tr>\n",
       "      <th>1</th>\n",
       "      <td>1</td>\n",
       "      <td>2</td>\n",
       "      <td>3</td>\n",
       "      <td>4</td>\n",
       "      <td>5</td>\n",
       "      <td>6</td>\n",
       "      <td>7</td>\n",
       "      <td>8</td>\n",
       "      <td>9</td>\n",
       "    </tr>\n",
       "    <tr>\n",
       "      <th>2</th>\n",
       "      <td>1</td>\n",
       "      <td>2</td>\n",
       "      <td>3</td>\n",
       "      <td>4</td>\n",
       "      <td>5</td>\n",
       "      <td>6</td>\n",
       "      <td>7</td>\n",
       "      <td>8</td>\n",
       "      <td>9</td>\n",
       "    </tr>\n",
       "    <tr>\n",
       "      <th>3</th>\n",
       "      <td>1</td>\n",
       "      <td>2</td>\n",
       "      <td>3</td>\n",
       "      <td>4</td>\n",
       "      <td>5</td>\n",
       "      <td>6</td>\n",
       "      <td>7</td>\n",
       "      <td>8</td>\n",
       "      <td>9</td>\n",
       "    </tr>\n",
       "    <tr>\n",
       "      <th>4</th>\n",
       "      <td>1</td>\n",
       "      <td>2</td>\n",
       "      <td>3</td>\n",
       "      <td>4</td>\n",
       "      <td>5</td>\n",
       "      <td>6</td>\n",
       "      <td>7</td>\n",
       "      <td>8</td>\n",
       "      <td>9</td>\n",
       "    </tr>\n",
       "    <tr>\n",
       "      <th>5</th>\n",
       "      <td>1</td>\n",
       "      <td>2</td>\n",
       "      <td>3</td>\n",
       "      <td>4</td>\n",
       "      <td>5</td>\n",
       "      <td>6</td>\n",
       "      <td>7</td>\n",
       "      <td>8</td>\n",
       "      <td>9</td>\n",
       "    </tr>\n",
       "    <tr>\n",
       "      <th>6</th>\n",
       "      <td>1</td>\n",
       "      <td>2</td>\n",
       "      <td>3</td>\n",
       "      <td>4</td>\n",
       "      <td>5</td>\n",
       "      <td>6</td>\n",
       "      <td>7</td>\n",
       "      <td>8</td>\n",
       "      <td>9</td>\n",
       "    </tr>\n",
       "    <tr>\n",
       "      <th>7</th>\n",
       "      <td>1</td>\n",
       "      <td>2</td>\n",
       "      <td>3</td>\n",
       "      <td>4</td>\n",
       "      <td>5</td>\n",
       "      <td>6</td>\n",
       "      <td>7</td>\n",
       "      <td>8</td>\n",
       "      <td>9</td>\n",
       "    </tr>\n",
       "    <tr>\n",
       "      <th>8</th>\n",
       "      <td>1</td>\n",
       "      <td>2</td>\n",
       "      <td>3</td>\n",
       "      <td>4</td>\n",
       "      <td>5</td>\n",
       "      <td>6</td>\n",
       "      <td>7</td>\n",
       "      <td>8</td>\n",
       "      <td>9</td>\n",
       "    </tr>\n",
       "  </tbody>\n",
       "</table>\n",
       "</div>"
      ],
      "text/plain": [
       "   0  1  2  3  4  5  6  7  8\n",
       "0  1  2  3  4  5  6  7  8  9\n",
       "1  1  2  3  4  5  6  7  8  9\n",
       "2  1  2  3  4  5  6  7  8  9\n",
       "3  1  2  3  4  5  6  7  8  9\n",
       "4  1  2  3  4  5  6  7  8  9\n",
       "5  1  2  3  4  5  6  7  8  9\n",
       "6  1  2  3  4  5  6  7  8  9\n",
       "7  1  2  3  4  5  6  7  8  9\n",
       "8  1  2  3  4  5  6  7  8  9"
      ]
     },
     "execution_count": 34,
     "metadata": {},
     "output_type": "execute_result"
    }
   ],
   "source": [
    "from pandas import DataFrame\n",
    "\n",
    "DataFrame(simple_df)"
   ]
  },
  {
   "cell_type": "markdown",
   "metadata": {},
   "source": [
    "Notice that the first column on the left is still an index, and that all columns (From 0 to 8) have the same index. That's a DataFrame. Now time for an exercise:"
   ]
  },
  {
   "cell_type": "markdown",
   "metadata": {},
   "source": [
    "### Exercise 2:\n",
    "\n",
    "Create a Dataframe from the simple_df list of lists with:\n",
    "    - Column names from 'a' to 'i', e.g., 'a','b','c','d','e','f','g','h', 'i'.\n",
    "    - Row indices from 'j' to 'q', e.g., 'j','k','l','m','n','o','p','q', 'r'.\n",
    "    - Assign it into a variable called letters_names_dataframe.\n"
   ]
  },
  {
   "cell_type": "code",
   "execution_count": 36,
   "metadata": {},
   "outputs": [],
   "source": []
  },
  {
   "cell_type": "code",
   "execution_count": 39,
   "metadata": {},
   "outputs": [],
   "source": [
    "letters_names_df = DataFrame(simple_df,\n",
    "                             columns=['a','b','c','d','e','f','g','h', 'i'],\n",
    "                             index=['j','k','l','m','n','o','p','q', 'r'])"
   ]
  },
  {
   "cell_type": "code",
   "execution_count": 41,
   "metadata": {},
   "outputs": [
    {
     "name": "stdout",
     "output_type": "stream",
     "text": [
      "   a  b  c  d  e  f  g  h  i\n",
      "j  1  2  3  4  5  6  7  8  9\n",
      "k  1  2  3  4  5  6  7  8  9\n",
      "l  1  2  3  4  5  6  7  8  9\n",
      "m  1  2  3  4  5  6  7  8  9\n",
      "n  1  2  3  4  5  6  7  8  9\n",
      "o  1  2  3  4  5  6  7  8  9\n",
      "p  1  2  3  4  5  6  7  8  9\n",
      "q  1  2  3  4  5  6  7  8  9\n",
      "r  1  2  3  4  5  6  7  8  9\n"
     ]
    }
   ],
   "source": [
    "print(letters_names_df)"
   ]
  },
  {
   "cell_type": "markdown",
   "metadata": {},
   "source": [
    "### Exercise 2 part 2:\n",
    "\n",
    "Now try deleting columns 'c' and 'g', with the module `drop()` from the `DataFrame` class, and rows 'p' and 'q'."
   ]
  },
  {
   "cell_type": "code",
   "execution_count": 37,
   "metadata": {},
   "outputs": [
    {
     "data": {
      "text/html": [
       "<div>\n",
       "<style scoped>\n",
       "    .dataframe tbody tr th:only-of-type {\n",
       "        vertical-align: middle;\n",
       "    }\n",
       "\n",
       "    .dataframe tbody tr th {\n",
       "        vertical-align: top;\n",
       "    }\n",
       "\n",
       "    .dataframe thead th {\n",
       "        text-align: right;\n",
       "    }\n",
       "</style>\n",
       "<table border=\"1\" class=\"dataframe\">\n",
       "  <thead>\n",
       "    <tr style=\"text-align: right;\">\n",
       "      <th></th>\n",
       "      <th>a</th>\n",
       "      <th>b</th>\n",
       "      <th>d</th>\n",
       "      <th>e</th>\n",
       "      <th>f</th>\n",
       "      <th>h</th>\n",
       "      <th>i</th>\n",
       "    </tr>\n",
       "  </thead>\n",
       "  <tbody>\n",
       "    <tr>\n",
       "      <th>j</th>\n",
       "      <td>1</td>\n",
       "      <td>2</td>\n",
       "      <td>4</td>\n",
       "      <td>5</td>\n",
       "      <td>6</td>\n",
       "      <td>8</td>\n",
       "      <td>9</td>\n",
       "    </tr>\n",
       "    <tr>\n",
       "      <th>k</th>\n",
       "      <td>1</td>\n",
       "      <td>2</td>\n",
       "      <td>4</td>\n",
       "      <td>5</td>\n",
       "      <td>6</td>\n",
       "      <td>8</td>\n",
       "      <td>9</td>\n",
       "    </tr>\n",
       "    <tr>\n",
       "      <th>l</th>\n",
       "      <td>1</td>\n",
       "      <td>2</td>\n",
       "      <td>4</td>\n",
       "      <td>5</td>\n",
       "      <td>6</td>\n",
       "      <td>8</td>\n",
       "      <td>9</td>\n",
       "    </tr>\n",
       "    <tr>\n",
       "      <th>m</th>\n",
       "      <td>1</td>\n",
       "      <td>2</td>\n",
       "      <td>4</td>\n",
       "      <td>5</td>\n",
       "      <td>6</td>\n",
       "      <td>8</td>\n",
       "      <td>9</td>\n",
       "    </tr>\n",
       "    <tr>\n",
       "      <th>n</th>\n",
       "      <td>1</td>\n",
       "      <td>2</td>\n",
       "      <td>4</td>\n",
       "      <td>5</td>\n",
       "      <td>6</td>\n",
       "      <td>8</td>\n",
       "      <td>9</td>\n",
       "    </tr>\n",
       "    <tr>\n",
       "      <th>o</th>\n",
       "      <td>1</td>\n",
       "      <td>2</td>\n",
       "      <td>4</td>\n",
       "      <td>5</td>\n",
       "      <td>6</td>\n",
       "      <td>8</td>\n",
       "      <td>9</td>\n",
       "    </tr>\n",
       "    <tr>\n",
       "      <th>r</th>\n",
       "      <td>1</td>\n",
       "      <td>2</td>\n",
       "      <td>4</td>\n",
       "      <td>5</td>\n",
       "      <td>6</td>\n",
       "      <td>8</td>\n",
       "      <td>9</td>\n",
       "    </tr>\n",
       "  </tbody>\n",
       "</table>\n",
       "</div>"
      ],
      "text/plain": [
       "   a  b  d  e  f  h  i\n",
       "j  1  2  4  5  6  8  9\n",
       "k  1  2  4  5  6  8  9\n",
       "l  1  2  4  5  6  8  9\n",
       "m  1  2  4  5  6  8  9\n",
       "n  1  2  4  5  6  8  9\n",
       "o  1  2  4  5  6  8  9\n",
       "r  1  2  4  5  6  8  9"
      ]
     },
     "execution_count": 37,
     "metadata": {},
     "output_type": "execute_result"
    }
   ],
   "source": [
    "letters_names_df.drop(columns=['c','g']).drop(['p','q'])"
   ]
  },
  {
   "cell_type": "markdown",
   "metadata": {},
   "source": [
    "Great! Now you have a basic notion of what DataFrames and Series do and work. Now it's time to go and plot some of it."
   ]
  },
  {
   "cell_type": "markdown",
   "metadata": {},
   "source": [
    "To create our first plots, we will use the `sin` function from the *numpy* package."
   ]
  },
  {
   "cell_type": "code",
   "execution_count": 108,
   "metadata": {},
   "outputs": [],
   "source": [
    "from numpy import sin\n",
    "\n",
    "sin_series = DataFrame([sin(i) for i in range(100)], \n",
    "                    index=range(100),\n",
    "                    columns=['sin'])"
   ]
  },
  {
   "cell_type": "code",
   "execution_count": 109,
   "metadata": {},
   "outputs": [
    {
     "data": {
      "text/html": [
       "<div>\n",
       "<style scoped>\n",
       "    .dataframe tbody tr th:only-of-type {\n",
       "        vertical-align: middle;\n",
       "    }\n",
       "\n",
       "    .dataframe tbody tr th {\n",
       "        vertical-align: top;\n",
       "    }\n",
       "\n",
       "    .dataframe thead th {\n",
       "        text-align: right;\n",
       "    }\n",
       "</style>\n",
       "<table border=\"1\" class=\"dataframe\">\n",
       "  <thead>\n",
       "    <tr style=\"text-align: right;\">\n",
       "      <th></th>\n",
       "      <th>sin</th>\n",
       "    </tr>\n",
       "  </thead>\n",
       "  <tbody>\n",
       "    <tr>\n",
       "      <td>0</td>\n",
       "      <td>0.000000</td>\n",
       "    </tr>\n",
       "    <tr>\n",
       "      <td>1</td>\n",
       "      <td>0.841471</td>\n",
       "    </tr>\n",
       "    <tr>\n",
       "      <td>2</td>\n",
       "      <td>0.909297</td>\n",
       "    </tr>\n",
       "    <tr>\n",
       "      <td>3</td>\n",
       "      <td>0.141120</td>\n",
       "    </tr>\n",
       "    <tr>\n",
       "      <td>4</td>\n",
       "      <td>-0.756802</td>\n",
       "    </tr>\n",
       "  </tbody>\n",
       "</table>\n",
       "</div>"
      ],
      "text/plain": [
       "        sin\n",
       "0  0.000000\n",
       "1  0.841471\n",
       "2  0.909297\n",
       "3  0.141120\n",
       "4 -0.756802"
      ]
     },
     "execution_count": 109,
     "metadata": {},
     "output_type": "execute_result"
    }
   ],
   "source": [
    "sin_series.head()"
   ]
  },
  {
   "cell_type": "markdown",
   "metadata": {},
   "source": [
    "Then it is as simple as follows:"
   ]
  },
  {
   "cell_type": "code",
   "execution_count": 113,
   "metadata": {
    "scrolled": true
   },
   "outputs": [],
   "source": [
    "import matplotlib.pyplot as plt"
   ]
  },
  {
   "cell_type": "code",
   "execution_count": 115,
   "metadata": {},
   "outputs": [
    {
     "data": {
      "text/plain": [
       "[<matplotlib.lines.Line2D at 0x7fdd68d94bd0>]"
      ]
     },
     "execution_count": 115,
     "metadata": {},
     "output_type": "execute_result"
    },
    {
     "data": {
      "image/png": "[encoded data removed]",
      "text/plain": [
       "<Figure size 432x288 with 1 Axes>"
      ]
     },
     "metadata": {
      "needs_background": "light"
     },
     "output_type": "display_data"
    }
   ],
   "source": [
    "plt.plot(sin_series)"
   ]
  },
  {
   "cell_type": "markdown",
   "metadata": {},
   "source": [
    "Now that doesn't look too good does it? Let's try to improve it slightly by making it bigger, giving it a better color, and giving it a title.\n",
    "\n",
    "When we create a new figure, we can do so by executing:\n",
    "\n",
    "`fig, ax = plt.subplots(figsize=(12, 8)`\n",
    "\n",
    "which will create the frame for our plot. The figsize tuple parameter will state its width and height. Try playing and changing that and see what happens.\n",
    "\n",
    "Besides that, there is the `color` parameter, where we can select the desired color. See this list where you can find all the parameters accepted in Matplotlib. []()\n",
    "\n",
    "Lastly, the `plt.title('TITLEDESIRED')` let's us put a title on the Figure."
   ]
  },
  {
   "cell_type": "code",
   "execution_count": 118,
   "metadata": {},
   "outputs": [
    {
     "data": {
      "image/png": "[encoded data removed]",
      "text/plain": [
       "<Figure size 864x576 with 1 Axes>"
      ]
     },
     "metadata": {
      "needs_background": "light"
     },
     "output_type": "display_data"
    }
   ],
   "source": [
    "fig, ax = plt.subplots(figsize=(12, 8))\n",
    "plt.plot(sin_series, color='darkred')\n",
    "plt.title('Sinusoidal function')\n",
    "plt.show()"
   ]
  },
  {
   "cell_type": "markdown",
   "metadata": {},
   "source": [
    "This doesn't look really smooth, so we want to have more points on the x-axis. One way to do this is by create a sequence with more points (instead of only using integers). We will use the *numpy* `linspace` function for that:"
   ]
  },
  {
   "cell_type": "code",
   "execution_count": 125,
   "metadata": {},
   "outputs": [],
   "source": [
    "from numpy import linspace\n",
    "\n",
    "sin_series = DataFrame([sin(i) for i in linspace(1, 100, 1000)], \n",
    "                    index=linspace(1, 100, 1000),\n",
    "                    columns=['sin'])"
   ]
  },
  {
   "cell_type": "code",
   "execution_count": 126,
   "metadata": {},
   "outputs": [
    {
     "data": {
      "text/html": [
       "<div>\n",
       "<style scoped>\n",
       "    .dataframe tbody tr th:only-of-type {\n",
       "        vertical-align: middle;\n",
       "    }\n",
       "\n",
       "    .dataframe tbody tr th {\n",
       "        vertical-align: top;\n",
       "    }\n",
       "\n",
       "    .dataframe thead th {\n",
       "        text-align: right;\n",
       "    }\n",
       "</style>\n",
       "<table border=\"1\" class=\"dataframe\">\n",
       "  <thead>\n",
       "    <tr style=\"text-align: right;\">\n",
       "      <th></th>\n",
       "      <th>sin</th>\n",
       "    </tr>\n",
       "  </thead>\n",
       "  <tbody>\n",
       "    <tr>\n",
       "      <td>1.000000</td>\n",
       "      <td>0.841471</td>\n",
       "    </tr>\n",
       "    <tr>\n",
       "      <td>1.099099</td>\n",
       "      <td>0.890798</td>\n",
       "    </tr>\n",
       "    <tr>\n",
       "      <td>1.198198</td>\n",
       "      <td>0.931385</td>\n",
       "    </tr>\n",
       "    <tr>\n",
       "      <td>1.297297</td>\n",
       "      <td>0.962832</td>\n",
       "    </tr>\n",
       "    <tr>\n",
       "      <td>1.396396</td>\n",
       "      <td>0.984831</td>\n",
       "    </tr>\n",
       "  </tbody>\n",
       "</table>\n",
       "</div>"
      ],
      "text/plain": [
       "               sin\n",
       "1.000000  0.841471\n",
       "1.099099  0.890798\n",
       "1.198198  0.931385\n",
       "1.297297  0.962832\n",
       "1.396396  0.984831"
      ]
     },
     "execution_count": 126,
     "metadata": {},
     "output_type": "execute_result"
    }
   ],
   "source": [
    "sin_series.head()"
   ]
  },
  {
   "cell_type": "code",
   "execution_count": 127,
   "metadata": {},
   "outputs": [
    {
     "data": {
      "text/html": [
       "<div>\n",
       "<style scoped>\n",
       "    .dataframe tbody tr th:only-of-type {\n",
       "        vertical-align: middle;\n",
       "    }\n",
       "\n",
       "    .dataframe tbody tr th {\n",
       "        vertical-align: top;\n",
       "    }\n",
       "\n",
       "    .dataframe thead th {\n",
       "        text-align: right;\n",
       "    }\n",
       "</style>\n",
       "<table border=\"1\" class=\"dataframe\">\n",
       "  <thead>\n",
       "    <tr style=\"text-align: right;\">\n",
       "      <th></th>\n",
       "      <th>sin</th>\n",
       "    </tr>\n",
       "  </thead>\n",
       "  <tbody>\n",
       "    <tr>\n",
       "      <td>99.603604</td>\n",
       "      <td>-0.800040</td>\n",
       "    </tr>\n",
       "    <tr>\n",
       "      <td>99.702703</td>\n",
       "      <td>-0.736757</td>\n",
       "    </tr>\n",
       "    <tr>\n",
       "      <td>99.801802</td>\n",
       "      <td>-0.666246</td>\n",
       "    </tr>\n",
       "    <tr>\n",
       "      <td>99.900901</td>\n",
       "      <td>-0.589196</td>\n",
       "    </tr>\n",
       "    <tr>\n",
       "      <td>100.000000</td>\n",
       "      <td>-0.506366</td>\n",
       "    </tr>\n",
       "  </tbody>\n",
       "</table>\n",
       "</div>"
      ],
      "text/plain": [
       "                 sin\n",
       "99.603604  -0.800040\n",
       "99.702703  -0.736757\n",
       "99.801802  -0.666246\n",
       "99.900901  -0.589196\n",
       "100.000000 -0.506366"
      ]
     },
     "execution_count": 127,
     "metadata": {},
     "output_type": "execute_result"
    }
   ],
   "source": [
    "sin_series.tail()"
   ]
  },
  {
   "cell_type": "markdown",
   "metadata": {},
   "source": [
    "Now we try that again:"
   ]
  },
  {
   "cell_type": "code",
   "execution_count": 122,
   "metadata": {},
   "outputs": [
    {
     "data": {
      "image/png": "[encoded data removed]",
      "text/plain": [
       "<Figure size 864x576 with 1 Axes>"
      ]
     },
     "metadata": {
      "needs_background": "light"
     },
     "output_type": "display_data"
    }
   ],
   "source": [
    "fig, ax = plt.subplots(figsize=(12, 8))\n",
    "plt.plot(sin_series, color='darkred')\n",
    "plt.title('Sinusoidal function')\n",
    "plt.show()"
   ]
  },
  {
   "cell_type": "markdown",
   "metadata": {},
   "source": [
    "Now that already looks a bit better. How else we can improve it? By adjusting the x and y limits and giving it a grid so that one can follow the x-y coordinates"
   ]
  },
  {
   "cell_type": "code",
   "execution_count": 142,
   "metadata": {},
   "outputs": [
    {
     "data": {
      "image/png": "[encoded data removed]",
      "text/plain": [
       "<Figure size 864x576 with 1 Axes>"
      ]
     },
     "metadata": {
      "needs_background": "light"
     },
     "output_type": "display_data"
    }
   ],
   "source": [
    "fig, ax = plt.subplots(figsize=(12, 8))\n",
    "plt.plot(sin_series, color='darkred', alpha=.8)\n",
    "plt.title('Sinusoidal function')\n",
    "plt.xlim([0, 100])\n",
    "plt.ylim([-1.1, 1.1])\n",
    "plt.grid(alpha=.5)\n",
    "plt.show()"
   ]
  },
  {
   "cell_type": "markdown",
   "metadata": {},
   "source": [
    "## Exercise 3:\n",
    "\n",
    "Create the above plot now using the `np.cos` function:"
   ]
  },
  {
   "cell_type": "code",
   "execution_count": 1,
   "metadata": {},
   "outputs": [],
   "source": [
    "from numpy import cos\n"
   ]
  },
  {
   "cell_type": "markdown",
   "metadata": {},
   "source": [
    "Congratulations! You have successfully completed your first class on this short course on Python and Data Visualization. If you were able to follow the above with relative ease, you can do the following problems that will be more challenging to you!"
   ]
  },
  {
   "cell_type": "markdown",
   "metadata": {},
   "source": [
    "# Harder Exercises:\n",
    "\n",
    "In case you already had seen all of the above, here are some challenging exercises that will keep you busy! ;)\n",
    "\n",
    "The exercises were extracted from: \n",
    "\n",
    "https://www.w3resource.com/python-exercises/pandas/string/index.php"
   ]
  },
  {
   "cell_type": "markdown",
   "metadata": {},
   "source": [
    "#### 1: Write a Pandas program to convert a Panda module Series to Python list"
   ]
  },
  {
   "cell_type": "code",
   "execution_count": 136,
   "metadata": {
    "scrolled": true
   },
   "outputs": [
    {
     "data": {
      "text/plain": [
       "-100    1000\n",
       "-95      975\n",
       "-90      950\n",
       "-85      925\n",
       "-80      900\n",
       "-75      875\n",
       "-70      850\n",
       "-65      825\n",
       "-60      800\n",
       "-55      775\n",
       "-50      750\n",
       "-45      725\n",
       "-40      700\n",
       "-35      675\n",
       "-30      650\n",
       "-25      625\n",
       "-20      600\n",
       "-15      575\n",
       "-10      550\n",
       "-5       525\n",
       " 0       500\n",
       " 5       475\n",
       " 10      450\n",
       " 15      425\n",
       " 20      400\n",
       " 25      375\n",
       " 30      350\n",
       " 35      325\n",
       " 40      300\n",
       " 45      275\n",
       " 50      250\n",
       " 55      225\n",
       " 60      200\n",
       " 65      175\n",
       " 70      150\n",
       " 75      125\n",
       " 80      100\n",
       " 85       75\n",
       " 90       50\n",
       " 95       25\n",
       " 100       0\n",
       "Name: Sequenc3, dtype: int64"
      ]
     },
     "execution_count": 136,
     "metadata": {},
     "output_type": "execute_result"
    }
   ],
   "source": [
    "Series(range(1000, -1, -25),\n",
    "       index=list(range(-100, 101, 5)),\n",
    "       name='Sequenc3')"
   ]
  },
  {
   "cell_type": "markdown",
   "metadata": {},
   "source": [
    "#### 2: Write a Pandas program to get the powers of an array values element-wise."
   ]
  },
  {
   "cell_type": "code",
   "execution_count": 130,
   "metadata": {},
   "outputs": [
    {
     "data": {
      "text/html": [
       "<div>\n",
       "<style scoped>\n",
       "    .dataframe tbody tr th:only-of-type {\n",
       "        vertical-align: middle;\n",
       "    }\n",
       "\n",
       "    .dataframe tbody tr th {\n",
       "        vertical-align: top;\n",
       "    }\n",
       "\n",
       "    .dataframe thead th {\n",
       "        text-align: right;\n",
       "    }\n",
       "</style>\n",
       "<table border=\"1\" class=\"dataframe\">\n",
       "  <thead>\n",
       "    <tr style=\"text-align: right;\">\n",
       "      <th></th>\n",
       "      <th>X</th>\n",
       "      <th>Y</th>\n",
       "      <th>Z</th>\n",
       "    </tr>\n",
       "  </thead>\n",
       "  <tbody>\n",
       "    <tr>\n",
       "      <td>0</td>\n",
       "      <td>78</td>\n",
       "      <td>84</td>\n",
       "      <td>86</td>\n",
       "    </tr>\n",
       "    <tr>\n",
       "      <td>1</td>\n",
       "      <td>85</td>\n",
       "      <td>94</td>\n",
       "      <td>97</td>\n",
       "    </tr>\n",
       "    <tr>\n",
       "      <td>2</td>\n",
       "      <td>96</td>\n",
       "      <td>89</td>\n",
       "      <td>96</td>\n",
       "    </tr>\n",
       "    <tr>\n",
       "      <td>3</td>\n",
       "      <td>80</td>\n",
       "      <td>83</td>\n",
       "      <td>72</td>\n",
       "    </tr>\n",
       "    <tr>\n",
       "      <td>4</td>\n",
       "      <td>86</td>\n",
       "      <td>86</td>\n",
       "      <td>83</td>\n",
       "    </tr>\n",
       "  </tbody>\n",
       "</table>\n",
       "</div>"
      ],
      "text/plain": [
       "    X   Y   Z\n",
       "0  78  84  86\n",
       "1  85  94  97\n",
       "2  96  89  96\n",
       "3  80  83  72\n",
       "4  86  86  83"
      ]
     },
     "execution_count": 130,
     "metadata": {},
     "output_type": "execute_result"
    }
   ],
   "source": [
    "DataFrame({'X':[78,85,96,80,86], 'Y':[84,94,89,83,86],'Z':[86,97,96,72,83]})"
   ]
  },
  {
   "cell_type": "markdown",
   "metadata": {},
   "source": [
    "#### 3: Write a Pandas program to select the rows the score is between 15 and 20 (inclusive)."
   ]
  },
  {
   "cell_type": "code",
   "execution_count": 141,
   "metadata": {},
   "outputs": [
    {
     "data": {
      "text/html": [
       "<div>\n",
       "<style scoped>\n",
       "    .dataframe tbody tr th:only-of-type {\n",
       "        vertical-align: middle;\n",
       "    }\n",
       "\n",
       "    .dataframe tbody tr th {\n",
       "        vertical-align: top;\n",
       "    }\n",
       "\n",
       "    .dataframe thead th {\n",
       "        text-align: right;\n",
       "    }\n",
       "</style>\n",
       "<table border=\"1\" class=\"dataframe\">\n",
       "  <thead>\n",
       "    <tr style=\"text-align: right;\">\n",
       "      <th></th>\n",
       "      <th>name</th>\n",
       "      <th>score</th>\n",
       "      <th>attempts</th>\n",
       "      <th>qualify</th>\n",
       "    </tr>\n",
       "  </thead>\n",
       "  <tbody>\n",
       "    <tr>\n",
       "      <td>a</td>\n",
       "      <td>Anastasia</td>\n",
       "      <td>12.5</td>\n",
       "      <td>1</td>\n",
       "      <td>yes</td>\n",
       "    </tr>\n",
       "    <tr>\n",
       "      <td>b</td>\n",
       "      <td>Dima</td>\n",
       "      <td>9.0</td>\n",
       "      <td>3</td>\n",
       "      <td>no</td>\n",
       "    </tr>\n",
       "    <tr>\n",
       "      <td>c</td>\n",
       "      <td>Katherine</td>\n",
       "      <td>16.5</td>\n",
       "      <td>2</td>\n",
       "      <td>yes</td>\n",
       "    </tr>\n",
       "    <tr>\n",
       "      <td>d</td>\n",
       "      <td>James</td>\n",
       "      <td>NaN</td>\n",
       "      <td>3</td>\n",
       "      <td>no</td>\n",
       "    </tr>\n",
       "    <tr>\n",
       "      <td>e</td>\n",
       "      <td>Emily</td>\n",
       "      <td>9.0</td>\n",
       "      <td>2</td>\n",
       "      <td>no</td>\n",
       "    </tr>\n",
       "    <tr>\n",
       "      <td>f</td>\n",
       "      <td>Michael</td>\n",
       "      <td>20.0</td>\n",
       "      <td>3</td>\n",
       "      <td>yes</td>\n",
       "    </tr>\n",
       "    <tr>\n",
       "      <td>g</td>\n",
       "      <td>Matthew</td>\n",
       "      <td>14.5</td>\n",
       "      <td>1</td>\n",
       "      <td>yes</td>\n",
       "    </tr>\n",
       "    <tr>\n",
       "      <td>h</td>\n",
       "      <td>Laura</td>\n",
       "      <td>NaN</td>\n",
       "      <td>1</td>\n",
       "      <td>no</td>\n",
       "    </tr>\n",
       "    <tr>\n",
       "      <td>i</td>\n",
       "      <td>Kevin</td>\n",
       "      <td>8.0</td>\n",
       "      <td>2</td>\n",
       "      <td>no</td>\n",
       "    </tr>\n",
       "    <tr>\n",
       "      <td>j</td>\n",
       "      <td>Jonas</td>\n",
       "      <td>19.0</td>\n",
       "      <td>1</td>\n",
       "      <td>yes</td>\n",
       "    </tr>\n",
       "  </tbody>\n",
       "</table>\n",
       "</div>"
      ],
      "text/plain": [
       "        name  score  attempts qualify\n",
       "a  Anastasia   12.5         1     yes\n",
       "b       Dima    9.0         3      no\n",
       "c  Katherine   16.5         2     yes\n",
       "d      James    NaN         3      no\n",
       "e      Emily    9.0         2      no\n",
       "f    Michael   20.0         3     yes\n",
       "g    Matthew   14.5         1     yes\n",
       "h      Laura    NaN         1      no\n",
       "i      Kevin    8.0         2      no\n",
       "j      Jonas   19.0         1     yes"
      ]
     },
     "execution_count": 141,
     "metadata": {},
     "output_type": "execute_result"
    }
   ],
   "source": [
    "from numpy import nan\n",
    "\n",
    "exam_data = {'name': ['Anastasia', 'Dima', 'Katherine', 'James', 'Emily', 'Michael', 'Matthew', 'Laura', 'Kevin', 'Jonas'],\n",
    "'score': [12.5, 9, 16.5, nan, 9, 20, 14.5, nan, 8, 19],\n",
    "'attempts': [1, 3, 2, 3, 2, 3, 1, 1, 2, 1],\n",
    "'qualify': ['yes', 'no', 'yes', 'no', 'no', 'yes', 'yes', 'no', 'no', 'yes']}\n",
    "\n",
    "labels = ['a', 'b', 'c', 'd', 'e', 'f', 'g', 'h', 'i', 'j']\n",
    "DataFrame(exam_data, index=labels)"
   ]
  },
  {
   "cell_type": "markdown",
   "metadata": {},
   "source": [
    "#### 4: Write a Pandas program to delete the 'attempts' column from the same DataFrame from above. "
   ]
  },
  {
   "cell_type": "code",
   "execution_count": 1,
   "metadata": {},
   "outputs": [
    {
     "ename": "NameError",
     "evalue": "name 'dfgkfs' is not defined",
     "output_type": "error",
     "traceback": [
      "\u001b[1;31m---------------------------------------------------------------------------\u001b[0m",
      "\u001b[1;31mNameError\u001b[0m                                 Traceback (most recent call last)",
      "\u001b[1;32m<ipython-input-1-66fd10aabea9>\u001b[0m in \u001b[0;36m<module>\u001b[1;34m\u001b[0m\n\u001b[1;32m----> 1\u001b[1;33m \u001b[0mdfgkfs\u001b[0m\u001b[1;33m\u001b[0m\u001b[1;33m\u001b[0m\u001b[0m\n\u001b[0m",
      "\u001b[1;31mNameError\u001b[0m: name 'dfgkfs' is not defined"
     ]
    }
   ],
   "source": [
    "dfgkfs\n"
   ]
  },
  {
   "cell_type": "markdown",
   "metadata": {},
   "source": [
    "#### 5: Write a Pandas program to count number of columns of a DataFrame."
   ]
  },
  {
   "cell_type": "code",
   "execution_count": null,
   "metadata": {},
   "outputs": [],
   "source": []
  },
  {
   "cell_type": "markdown",
   "metadata": {},
   "source": [
    "#### 6: Write a Pandas program to remove last n rows of a given DataFrame."
   ]
  },
  {
   "cell_type": "code",
   "execution_count": null,
   "metadata": {},
   "outputs": [],
   "source": []
  },
  {
   "cell_type": "markdown",
   "metadata": {},
   "source": [
    "#### 7: Write a Pandas program to convert a specified character column in upper/lower cases in a given DataFrame."
   ]
  },
  {
   "cell_type": "code",
   "execution_count": null,
   "metadata": {},
   "outputs": [],
   "source": []
  },
  {
   "cell_type": "markdown",
   "metadata": {},
   "source": [
    "#### 8: Write a Pandas program to check whether two given words present in a specified column of a given DataFrame."
   ]
  },
  {
   "cell_type": "code",
   "execution_count": null,
   "metadata": {},
   "outputs": [],
   "source": []
  },
  {
   "cell_type": "markdown",
   "metadata": {},
   "source": [
    "#### 9: Write a Pandas program to group by buyer and sum the amounts spent."
   ]
  },
  {
   "cell_type": "code",
   "execution_count": 143,
   "metadata": {},
   "outputs": [
    {
     "data": {
      "text/html": [
       "<div>\n",
       "<style scoped>\n",
       "    .dataframe tbody tr th:only-of-type {\n",
       "        vertical-align: middle;\n",
       "    }\n",
       "\n",
       "    .dataframe tbody tr th {\n",
       "        vertical-align: top;\n",
       "    }\n",
       "\n",
       "    .dataframe thead th {\n",
       "        text-align: right;\n",
       "    }\n",
       "</style>\n",
       "<table border=\"1\" class=\"dataframe\">\n",
       "  <thead>\n",
       "    <tr style=\"text-align: right;\">\n",
       "      <th></th>\n",
       "      <th>product_name</th>\n",
       "      <th>price</th>\n",
       "      <th>buyer</th>\n",
       "    </tr>\n",
       "  </thead>\n",
       "  <tbody>\n",
       "    <tr>\n",
       "      <td>0</td>\n",
       "      <td>laptop</td>\n",
       "      <td>1200</td>\n",
       "      <td>Joseph</td>\n",
       "    </tr>\n",
       "    <tr>\n",
       "      <td>1</td>\n",
       "      <td>printer</td>\n",
       "      <td>150</td>\n",
       "      <td>Brian</td>\n",
       "    </tr>\n",
       "    <tr>\n",
       "      <td>2</td>\n",
       "      <td>tablet</td>\n",
       "      <td>300</td>\n",
       "      <td>Willy</td>\n",
       "    </tr>\n",
       "    <tr>\n",
       "      <td>3</td>\n",
       "      <td>desk</td>\n",
       "      <td>450</td>\n",
       "      <td>Joseph</td>\n",
       "    </tr>\n",
       "    <tr>\n",
       "      <td>4</td>\n",
       "      <td>chair</td>\n",
       "      <td>200</td>\n",
       "      <td>Marta</td>\n",
       "    </tr>\n",
       "  </tbody>\n",
       "</table>\n",
       "</div>"
      ],
      "text/plain": [
       "  product_name  price   buyer\n",
       "0       laptop   1200  Joseph\n",
       "1      printer    150   Brian\n",
       "2       tablet    300   Willy\n",
       "3         desk    450  Joseph\n",
       "4        chair    200   Marta"
      ]
     },
     "execution_count": 143,
     "metadata": {},
     "output_type": "execute_result"
    }
   ],
   "source": [
    "data = {'product_name': ['laptop', 'printer', 'tablet', 'desk', 'chair'],\n",
    "        'price': [1200, 150, 300, 450, 200],\n",
    "        'buyer': ['Joseph', 'Brian', 'Willy', 'Joseph', 'Marta']\n",
    "        }\n",
    "\n",
    "DataFrame(data)"
   ]
  },
  {
   "cell_type": "code",
   "execution_count": null,
   "metadata": {},
   "outputs": [],
   "source": []
  },
  {
   "cell_type": "markdown",
   "metadata": {},
   "source": [
    "#### 10: Write a Pandas program to convert all columns with strings to upper case."
   ]
  },
  {
   "cell_type": "code",
   "execution_count": null,
   "metadata": {},
   "outputs": [],
   "source": []
  },
  {
   "cell_type": "markdown",
   "metadata": {},
   "source": [
    "#### 11: Write a Pandas program to convert all columns with strings to lower case."
   ]
  },
  {
   "cell_type": "code",
   "execution_count": null,
   "metadata": {},
   "outputs": [],
   "source": []
  },
  {
   "cell_type": "markdown",
   "metadata": {},
   "source": [
    "#### 12: Write a Pandas program to select only numeric variables."
   ]
  },
  {
   "cell_type": "code",
   "execution_count": null,
   "metadata": {},
   "outputs": [],
   "source": []
  },
  {
   "cell_type": "markdown",
   "metadata": {},
   "source": [
    "----"
   ]
  }
 ],
 "metadata": {
  "kernelspec": {
   "display_name": "Python 3",
   "language": "python",
   "name": "python3"
  },
  "language_info": {
   "codemirror_mode": {
    "name": "ipython",
    "version": 3
   },
   "file_extension": ".py",
   "mimetype": "text/x-python",
   "name": "python",
   "nbconvert_exporter": "python",
   "pygments_lexer": "ipython3",
   "version": "3.8.8"
  }
 },
 "nbformat": 4,
 "nbformat_minor": 2
}
